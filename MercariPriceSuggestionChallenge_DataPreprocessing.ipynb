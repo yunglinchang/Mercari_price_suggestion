{
 "cells": [
  {
   "cell_type": "markdown",
   "metadata": {},
   "source": [
    "# [Mercari Price Suggestion Challenge](https://www.kaggle.com/c/mercari-price-suggestion-challenge)\n",
    "Can you automatically suggest product prices to online sellers?"
   ]
  },
  {
   "cell_type": "markdown",
   "metadata": {},
   "source": [
    "# Import packages\n",
    "- pandas\n",
    "- numpy\n",
    "- TfidfVectorizer"
   ]
  },
  {
   "cell_type": "code",
   "execution_count": 48,
   "metadata": {},
   "outputs": [],
   "source": [
    "import pandas as pd #data processing\n",
    "import numpy as np #linear algebra\n",
    "from sklearn.feature_extraction.text import TfidfVectorizer #to calculate Tf-idf"
   ]
  },
  {
   "cell_type": "markdown",
   "metadata": {},
   "source": [
    "# Import data\n",
    "load train and test data, split by tab because of the tsv format."
   ]
  },
  {
   "cell_type": "code",
   "execution_count": 49,
   "metadata": {},
   "outputs": [
    {
     "name": "stdout",
     "output_type": "stream",
     "text": [
      "CPU times: user 7.44 ms, sys: 4.67 ms, total: 12.1 ms\n",
      "Wall time: 12.1 ms\n"
     ]
    }
   ],
   "source": [
    "%%time\n",
    "train_df = pd.read_csv(\"data/train.tsv\", delimiter=\"\\t\", low_memory= True)\n",
    "test_df = pd.read_csv(\"data/test.tsv\", delimiter=\"\\t\", low_memory= True)"
   ]
  },
  {
   "cell_type": "code",
   "execution_count": 50,
   "metadata": {
    "scrolled": true
   },
   "outputs": [
    {
     "data": {
      "text/html": [
       "<div>\n",
       "<style scoped>\n",
       "    .dataframe tbody tr th:only-of-type {\n",
       "        vertical-align: middle;\n",
       "    }\n",
       "\n",
       "    .dataframe tbody tr th {\n",
       "        vertical-align: top;\n",
       "    }\n",
       "\n",
       "    .dataframe thead th {\n",
       "        text-align: right;\n",
       "    }\n",
       "</style>\n",
       "<table border=\"1\" class=\"dataframe\">\n",
       "  <thead>\n",
       "    <tr style=\"text-align: right;\">\n",
       "      <th></th>\n",
       "      <th>train_id</th>\n",
       "      <th>name</th>\n",
       "      <th>item_condition_id</th>\n",
       "      <th>category_name</th>\n",
       "      <th>brand_name</th>\n",
       "      <th>price</th>\n",
       "      <th>shipping</th>\n",
       "      <th>item_description</th>\n",
       "    </tr>\n",
       "  </thead>\n",
       "  <tbody>\n",
       "    <tr>\n",
       "      <th>0</th>\n",
       "      <td>0</td>\n",
       "      <td>MLB Cincinnati Reds T Shirt Size XL</td>\n",
       "      <td>3</td>\n",
       "      <td>Men/Tops/T-shirts</td>\n",
       "      <td>NaN</td>\n",
       "      <td>10.000000</td>\n",
       "      <td>1</td>\n",
       "      <td>No description yet</td>\n",
       "    </tr>\n",
       "    <tr>\n",
       "      <th>1</th>\n",
       "      <td>1</td>\n",
       "      <td>Razer BlackWidow Chroma Keyboard</td>\n",
       "      <td>3</td>\n",
       "      <td>Electronics/Computers &amp; Tablets/Components &amp; P...</td>\n",
       "      <td>Razer</td>\n",
       "      <td>52.000000</td>\n",
       "      <td>0</td>\n",
       "      <td>This keyboard is in great condition and works ...</td>\n",
       "    </tr>\n",
       "    <tr>\n",
       "      <th>2</th>\n",
       "      <td>2</td>\n",
       "      <td>AVA-VIV Blouse</td>\n",
       "      <td>1</td>\n",
       "      <td>Women/Tops &amp; Blouses/Blouse</td>\n",
       "      <td>Target</td>\n",
       "      <td>10.000000</td>\n",
       "      <td>1</td>\n",
       "      <td>Adorable top with a hint of lace and a key hol...</td>\n",
       "    </tr>\n",
       "    <tr>\n",
       "      <th>3</th>\n",
       "      <td>3</td>\n",
       "      <td>Leather Horse Statues</td>\n",
       "      <td>1</td>\n",
       "      <td>Home/Home Décor/Home Décor Accents</td>\n",
       "      <td>NaN</td>\n",
       "      <td>35.000000</td>\n",
       "      <td>1</td>\n",
       "      <td>New with tags. Leather horses. Retail for [rm]...</td>\n",
       "    </tr>\n",
       "    <tr>\n",
       "      <th>4</th>\n",
       "      <td>4</td>\n",
       "      <td>24K GOLD plated rose</td>\n",
       "      <td>1</td>\n",
       "      <td>Women/Jewelry/Necklaces</td>\n",
       "      <td>NaN</td>\n",
       "      <td>44.000000</td>\n",
       "      <td>0</td>\n",
       "      <td>Complete with certificate of authenticity</td>\n",
       "    </tr>\n",
       "  </tbody>\n",
       "</table>\n",
       "</div>"
      ],
      "text/plain": [
       "   train_id                                 name  item_condition_id  \\\n",
       "0         0  MLB Cincinnati Reds T Shirt Size XL                  3   \n",
       "1         1     Razer BlackWidow Chroma Keyboard                  3   \n",
       "2         2                       AVA-VIV Blouse                  1   \n",
       "3         3                Leather Horse Statues                  1   \n",
       "4         4                 24K GOLD plated rose                  1   \n",
       "\n",
       "                                       category_name brand_name     price  \\\n",
       "0                                  Men/Tops/T-shirts        NaN 10.000000   \n",
       "1  Electronics/Computers & Tablets/Components & P...      Razer 52.000000   \n",
       "2                        Women/Tops & Blouses/Blouse     Target 10.000000   \n",
       "3                 Home/Home Décor/Home Décor Accents        NaN 35.000000   \n",
       "4                            Women/Jewelry/Necklaces        NaN 44.000000   \n",
       "\n",
       "   shipping                                   item_description  \n",
       "0         1                                 No description yet  \n",
       "1         0  This keyboard is in great condition and works ...  \n",
       "2         1  Adorable top with a hint of lace and a key hol...  \n",
       "3         1  New with tags. Leather horses. Retail for [rm]...  \n",
       "4         0          Complete with certificate of authenticity  "
      ]
     },
     "execution_count": 50,
     "metadata": {},
     "output_type": "execute_result"
    }
   ],
   "source": [
    "train_df.head()"
   ]
  },
  {
   "cell_type": "code",
   "execution_count": 51,
   "metadata": {
    "scrolled": false
   },
   "outputs": [
    {
     "data": {
      "text/plain": [
       "Index(['train_id', 'name', 'item_condition_id', 'category_name', 'brand_name',\n",
       "       'price', 'shipping', 'item_description'],\n",
       "      dtype='object')"
      ]
     },
     "execution_count": 51,
     "metadata": {},
     "output_type": "execute_result"
    }
   ],
   "source": [
    "train_df.columns"
   ]
  },
  {
   "cell_type": "markdown",
   "metadata": {},
   "source": [
    "# data preprocessing"
   ]
  },
  {
   "cell_type": "markdown",
   "metadata": {},
   "source": [
    "### converting column types"
   ]
  },
  {
   "cell_type": "code",
   "execution_count": 52,
   "metadata": {
    "scrolled": false
   },
   "outputs": [
    {
     "name": "stdout",
     "output_type": "stream",
     "text": [
      "train_id               int64\n",
      "name                  object\n",
      "item_condition_id      int64\n",
      "category_name         object\n",
      "brand_name            object\n",
      "price                float64\n",
      "shipping               int64\n",
      "item_description      object\n",
      "dtype: object\n",
      "------------\n",
      "test_id               int64\n",
      "name                 object\n",
      "item_condition_id     int64\n",
      "category_name        object\n",
      "brand_name           object\n",
      "shipping              int64\n",
      "item_description     object\n",
      "dtype: object\n"
     ]
    }
   ],
   "source": [
    "print(train_df.dtypes)\n",
    "print(\"------------\")\n",
    "print(test_df.dtypes)"
   ]
  },
  {
   "cell_type": "markdown",
   "metadata": {},
   "source": [
    "converting column data types to minimize memory"
   ]
  },
  {
   "cell_type": "code",
   "execution_count": 53,
   "metadata": {},
   "outputs": [],
   "source": [
    "def col_type_conversion(data):\n",
    "    data[\"item_condition_id\"] = data[\"item_condition_id\"].astype(\"int32\")\n",
    "    data[\"shipping\"] = data[\"shipping\"].astype(\"int8\")\n",
    "\n",
    "col_type_conversion(train_df)\n",
    "col_type_conversion(test_df)"
   ]
  },
  {
   "cell_type": "code",
   "execution_count": 54,
   "metadata": {},
   "outputs": [
    {
     "name": "stdout",
     "output_type": "stream",
     "text": [
      "train_id               int64\n",
      "name                  object\n",
      "item_condition_id      int32\n",
      "category_name         object\n",
      "brand_name            object\n",
      "price                float64\n",
      "shipping                int8\n",
      "item_description      object\n",
      "dtype: object\n",
      "------------\n",
      "test_id               int64\n",
      "name                 object\n",
      "item_condition_id     int32\n",
      "category_name        object\n",
      "brand_name           object\n",
      "shipping               int8\n",
      "item_description     object\n",
      "dtype: object\n"
     ]
    }
   ],
   "source": [
    "print(train_df.dtypes)\n",
    "print(\"------------\")\n",
    "print(test_df.dtypes)"
   ]
  },
  {
   "cell_type": "markdown",
   "metadata": {},
   "source": [
    "do a little exploring on discriptive statistics"
   ]
  },
  {
   "cell_type": "code",
   "execution_count": 55,
   "metadata": {},
   "outputs": [
    {
     "name": "stdout",
     "output_type": "stream",
     "text": [
      "train_df shape: (10, 8)\n",
      "test_df shape: (10, 7)\n"
     ]
    }
   ],
   "source": [
    "print(\"train_df shape: {}\\ntest_df shape: {}\".format(train_df.shape, test_df.shape))"
   ]
  },
  {
   "cell_type": "code",
   "execution_count": 56,
   "metadata": {
    "scrolled": true
   },
   "outputs": [
    {
     "data": {
      "text/html": [
       "<div>\n",
       "<style scoped>\n",
       "    .dataframe tbody tr th:only-of-type {\n",
       "        vertical-align: middle;\n",
       "    }\n",
       "\n",
       "    .dataframe tbody tr th {\n",
       "        vertical-align: top;\n",
       "    }\n",
       "\n",
       "    .dataframe thead th {\n",
       "        text-align: right;\n",
       "    }\n",
       "</style>\n",
       "<table border=\"1\" class=\"dataframe\">\n",
       "  <thead>\n",
       "    <tr style=\"text-align: right;\">\n",
       "      <th></th>\n",
       "      <th>train_id</th>\n",
       "      <th>item_condition_id</th>\n",
       "      <th>price</th>\n",
       "      <th>shipping</th>\n",
       "    </tr>\n",
       "  </thead>\n",
       "  <tbody>\n",
       "    <tr>\n",
       "      <th>count</th>\n",
       "      <td>10.000000</td>\n",
       "      <td>10.000000</td>\n",
       "      <td>10.000000</td>\n",
       "      <td>10.000000</td>\n",
       "    </tr>\n",
       "    <tr>\n",
       "      <th>mean</th>\n",
       "      <td>4.500000</td>\n",
       "      <td>2.400000</td>\n",
       "      <td>30.700000</td>\n",
       "      <td>0.400000</td>\n",
       "    </tr>\n",
       "    <tr>\n",
       "      <th>std</th>\n",
       "      <td>3.027650</td>\n",
       "      <td>0.966092</td>\n",
       "      <td>22.798879</td>\n",
       "      <td>0.516398</td>\n",
       "    </tr>\n",
       "    <tr>\n",
       "      <th>min</th>\n",
       "      <td>0.000000</td>\n",
       "      <td>1.000000</td>\n",
       "      <td>6.000000</td>\n",
       "      <td>0.000000</td>\n",
       "    </tr>\n",
       "    <tr>\n",
       "      <th>25%</th>\n",
       "      <td>2.250000</td>\n",
       "      <td>1.500000</td>\n",
       "      <td>10.000000</td>\n",
       "      <td>0.000000</td>\n",
       "    </tr>\n",
       "    <tr>\n",
       "      <th>50%</th>\n",
       "      <td>4.500000</td>\n",
       "      <td>3.000000</td>\n",
       "      <td>27.000000</td>\n",
       "      <td>0.000000</td>\n",
       "    </tr>\n",
       "    <tr>\n",
       "      <th>75%</th>\n",
       "      <td>6.750000</td>\n",
       "      <td>3.000000</td>\n",
       "      <td>50.000000</td>\n",
       "      <td>1.000000</td>\n",
       "    </tr>\n",
       "    <tr>\n",
       "      <th>max</th>\n",
       "      <td>9.000000</td>\n",
       "      <td>3.000000</td>\n",
       "      <td>64.000000</td>\n",
       "      <td>1.000000</td>\n",
       "    </tr>\n",
       "  </tbody>\n",
       "</table>\n",
       "</div>"
      ],
      "text/plain": [
       "       train_id  item_condition_id     price  shipping\n",
       "count 10.000000          10.000000 10.000000 10.000000\n",
       "mean   4.500000           2.400000 30.700000  0.400000\n",
       "std    3.027650           0.966092 22.798879  0.516398\n",
       "min    0.000000           1.000000  6.000000  0.000000\n",
       "25%    2.250000           1.500000 10.000000  0.000000\n",
       "50%    4.500000           3.000000 27.000000  0.000000\n",
       "75%    6.750000           3.000000 50.000000  1.000000\n",
       "max    9.000000           3.000000 64.000000  1.000000"
      ]
     },
     "execution_count": 56,
     "metadata": {},
     "output_type": "execute_result"
    }
   ],
   "source": [
    "pd.set_option(\"float_format\", \"{:f}\".format)\n",
    "train_df.describe()"
   ]
  },
  {
   "cell_type": "markdown",
   "metadata": {},
   "source": [
    "checking individual values"
   ]
  },
  {
   "cell_type": "code",
   "execution_count": 57,
   "metadata": {},
   "outputs": [
    {
     "data": {
      "text/plain": [
       "train_id             10\n",
       "name                 10\n",
       "item_condition_id     2\n",
       "category_name         9\n",
       "brand_name            5\n",
       "price                 9\n",
       "shipping              2\n",
       "item_description     10\n",
       "dtype: int64"
      ]
     },
     "execution_count": 57,
     "metadata": {},
     "output_type": "execute_result"
    }
   ],
   "source": [
    "train_df.apply(lambda x: x.nunique())"
   ]
  },
  {
   "cell_type": "markdown",
   "metadata": {},
   "source": [
    "### checking missing values"
   ]
  },
  {
   "cell_type": "code",
   "execution_count": 58,
   "metadata": {},
   "outputs": [
    {
     "name": "stdout",
     "output_type": "stream",
     "text": [
      "brand_name    5\n",
      "dtype: int64\n",
      "------------\n",
      "brand_name    7\n",
      "dtype: int64\n"
     ]
    }
   ],
   "source": [
    "print(train_df.isnull().sum()[train_df.isnull().sum() != 0])\n",
    "print(\"------------\")\n",
    "print(test_df.isnull().sum()[test_df.isnull().sum() != 0])"
   ]
  },
  {
   "cell_type": "markdown",
   "metadata": {},
   "source": [
    "found missing values in category_name, brand_name, and item_discription\n",
    "- Fill products with no brand name with 'NoBrand'\n",
    "- Fill products with no category name with 'No/No/No'\n",
    "- Fill products with no item descriptions with 'No description yet' (same as the first data)"
   ]
  },
  {
   "cell_type": "code",
   "execution_count": 59,
   "metadata": {},
   "outputs": [
    {
     "data": {
      "text/plain": [
       "False"
      ]
     },
     "execution_count": 59,
     "metadata": {},
     "output_type": "execute_result"
    }
   ],
   "source": [
    "test_df[\"item_description\"].isnull().sum() != 0"
   ]
  },
  {
   "cell_type": "code",
   "execution_count": 60,
   "metadata": {},
   "outputs": [],
   "source": [
    "def input_missing_values(data):\n",
    "    if data[\"brand_name\"].isnull().sum() != 0:\n",
    "        data[\"brand_name\"] = data[\"brand_name\"].fillna(\"NoBrand\")\n",
    "    if data[\"category_name\"].isnull().sum() != 0:\n",
    "        data[\"category_name\"] = data[\"category_name\"].fillna(\"No/No/No\")\n",
    "    if data[\"item_description\"].isnull().sum() != 0:\n",
    "        data[\"item_description\"] = data[\"item_description\"].fillna(\"No description yet\")\n",
    "        \n",
    "input_missing_values(train_df)\n",
    "input_missing_values(test_df)"
   ]
  },
  {
   "cell_type": "code",
   "execution_count": 61,
   "metadata": {
    "scrolled": true
   },
   "outputs": [
    {
     "name": "stdout",
     "output_type": "stream",
     "text": [
      "Series([], dtype: int64)\n",
      "------------\n",
      "Series([], dtype: int64)\n"
     ]
    }
   ],
   "source": [
    "print(train_df.isnull().sum()[train_df.isnull().sum() != 0])\n",
    "print(\"------------\")\n",
    "print(test_df.isnull().sum()[test_df.isnull().sum() != 0])"
   ]
  },
  {
   "cell_type": "code",
   "execution_count": null,
   "metadata": {},
   "outputs": [],
   "source": []
  },
  {
   "cell_type": "markdown",
   "metadata": {},
   "source": [
    "# feature engineering"
   ]
  },
  {
   "cell_type": "markdown",
   "metadata": {},
   "source": [
    "extracting data from category_name and item_discription"
   ]
  },
  {
   "cell_type": "markdown",
   "metadata": {},
   "source": [
    "split category_name into:\n",
    "- general_category\n",
    "- subcategory_1\n",
    "- subcategory_2"
   ]
  },
  {
   "cell_type": "code",
   "execution_count": 62,
   "metadata": {},
   "outputs": [
    {
     "data": {
      "text/html": [
       "<div>\n",
       "<style scoped>\n",
       "    .dataframe tbody tr th:only-of-type {\n",
       "        vertical-align: middle;\n",
       "    }\n",
       "\n",
       "    .dataframe tbody tr th {\n",
       "        vertical-align: top;\n",
       "    }\n",
       "\n",
       "    .dataframe thead th {\n",
       "        text-align: right;\n",
       "    }\n",
       "</style>\n",
       "<table border=\"1\" class=\"dataframe\">\n",
       "  <thead>\n",
       "    <tr style=\"text-align: right;\">\n",
       "      <th></th>\n",
       "      <th>general_category</th>\n",
       "      <th>subcategory_1</th>\n",
       "      <th>subcategory_2</th>\n",
       "    </tr>\n",
       "  </thead>\n",
       "  <tbody>\n",
       "    <tr>\n",
       "      <th>0</th>\n",
       "      <td>Women</td>\n",
       "      <td>Jewelry</td>\n",
       "      <td>Rings</td>\n",
       "    </tr>\n",
       "    <tr>\n",
       "      <th>1</th>\n",
       "      <td>Other</td>\n",
       "      <td>Office supplies</td>\n",
       "      <td>Shipping Supplies</td>\n",
       "    </tr>\n",
       "    <tr>\n",
       "      <th>2</th>\n",
       "      <td>Vintage &amp; Collectibles</td>\n",
       "      <td>Bags and Purses</td>\n",
       "      <td>Handbag</td>\n",
       "    </tr>\n",
       "    <tr>\n",
       "      <th>3</th>\n",
       "      <td>Women</td>\n",
       "      <td>Sweaters</td>\n",
       "      <td>Cardigan</td>\n",
       "    </tr>\n",
       "    <tr>\n",
       "      <th>4</th>\n",
       "      <td>Other</td>\n",
       "      <td>Books</td>\n",
       "      <td>Religion &amp; Spirituality</td>\n",
       "    </tr>\n",
       "  </tbody>\n",
       "</table>\n",
       "</div>"
      ],
      "text/plain": [
       "         general_category    subcategory_1            subcategory_2\n",
       "0                   Women          Jewelry                    Rings\n",
       "1                   Other  Office supplies        Shipping Supplies\n",
       "2  Vintage & Collectibles  Bags and Purses                  Handbag\n",
       "3                   Women         Sweaters                 Cardigan\n",
       "4                   Other            Books  Religion & Spirituality"
      ]
     },
     "execution_count": 62,
     "metadata": {},
     "output_type": "execute_result"
    }
   ],
   "source": [
    "def split_category_name(data):\n",
    "    split_category_name = data[\"category_name\"].str.split(\"/\", n = 2, expand = True)\n",
    "    data[\"general_category\"] = split_category_name[0]\n",
    "    data[\"subcategory_1\"] = split_category_name[1]\n",
    "    data[\"subcategory_2\"] = split_category_name[2]\n",
    "    return data[[\"general_category\", \"subcategory_1\", \"subcategory_2\"]].head()\n",
    "\n",
    "split_category_name(train_df)\n",
    "split_category_name(test_df)"
   ]
  },
  {
   "cell_type": "markdown",
   "metadata": {},
   "source": [
    "dealing with item_description:\n",
    "<br>[Extensive Text Data Feature Engineering](https://www.kaggle.com/shivamb/extensive-text-data-feature-engineering)\n",
    "- character length\n",
    "- word count\n",
    "- word density"
   ]
  },
  {
   "cell_type": "code",
   "execution_count": 63,
   "metadata": {},
   "outputs": [
    {
     "data": {
      "text/html": [
       "<div>\n",
       "<style scoped>\n",
       "    .dataframe tbody tr th:only-of-type {\n",
       "        vertical-align: middle;\n",
       "    }\n",
       "\n",
       "    .dataframe tbody tr th {\n",
       "        vertical-align: top;\n",
       "    }\n",
       "\n",
       "    .dataframe thead th {\n",
       "        text-align: right;\n",
       "    }\n",
       "</style>\n",
       "<table border=\"1\" class=\"dataframe\">\n",
       "  <thead>\n",
       "    <tr style=\"text-align: right;\">\n",
       "      <th></th>\n",
       "      <th>train_id</th>\n",
       "      <th>name</th>\n",
       "      <th>item_condition_id</th>\n",
       "      <th>category_name</th>\n",
       "      <th>brand_name</th>\n",
       "      <th>price</th>\n",
       "      <th>shipping</th>\n",
       "      <th>item_description</th>\n",
       "      <th>general_category</th>\n",
       "      <th>subcategory_1</th>\n",
       "      <th>subcategory_2</th>\n",
       "    </tr>\n",
       "  </thead>\n",
       "  <tbody>\n",
       "    <tr>\n",
       "      <th>0</th>\n",
       "      <td>0</td>\n",
       "      <td>MLB Cincinnati Reds T Shirt Size XL</td>\n",
       "      <td>3</td>\n",
       "      <td>Men/Tops/T-shirts</td>\n",
       "      <td>NoBrand</td>\n",
       "      <td>10.000000</td>\n",
       "      <td>1</td>\n",
       "      <td>No description yet</td>\n",
       "      <td>Men</td>\n",
       "      <td>Tops</td>\n",
       "      <td>T-shirts</td>\n",
       "    </tr>\n",
       "    <tr>\n",
       "      <th>1</th>\n",
       "      <td>1</td>\n",
       "      <td>Razer BlackWidow Chroma Keyboard</td>\n",
       "      <td>3</td>\n",
       "      <td>Electronics/Computers &amp; Tablets/Components &amp; P...</td>\n",
       "      <td>Razer</td>\n",
       "      <td>52.000000</td>\n",
       "      <td>0</td>\n",
       "      <td>This keyboard is in great condition and works ...</td>\n",
       "      <td>Electronics</td>\n",
       "      <td>Computers &amp; Tablets</td>\n",
       "      <td>Components &amp; Parts</td>\n",
       "    </tr>\n",
       "    <tr>\n",
       "      <th>2</th>\n",
       "      <td>2</td>\n",
       "      <td>AVA-VIV Blouse</td>\n",
       "      <td>1</td>\n",
       "      <td>Women/Tops &amp; Blouses/Blouse</td>\n",
       "      <td>Target</td>\n",
       "      <td>10.000000</td>\n",
       "      <td>1</td>\n",
       "      <td>Adorable top with a hint of lace and a key hol...</td>\n",
       "      <td>Women</td>\n",
       "      <td>Tops &amp; Blouses</td>\n",
       "      <td>Blouse</td>\n",
       "    </tr>\n",
       "    <tr>\n",
       "      <th>3</th>\n",
       "      <td>3</td>\n",
       "      <td>Leather Horse Statues</td>\n",
       "      <td>1</td>\n",
       "      <td>Home/Home Décor/Home Décor Accents</td>\n",
       "      <td>NoBrand</td>\n",
       "      <td>35.000000</td>\n",
       "      <td>1</td>\n",
       "      <td>New with tags. Leather horses. Retail for [rm]...</td>\n",
       "      <td>Home</td>\n",
       "      <td>Home Décor</td>\n",
       "      <td>Home Décor Accents</td>\n",
       "    </tr>\n",
       "    <tr>\n",
       "      <th>4</th>\n",
       "      <td>4</td>\n",
       "      <td>24K GOLD plated rose</td>\n",
       "      <td>1</td>\n",
       "      <td>Women/Jewelry/Necklaces</td>\n",
       "      <td>NoBrand</td>\n",
       "      <td>44.000000</td>\n",
       "      <td>0</td>\n",
       "      <td>Complete with certificate of authenticity</td>\n",
       "      <td>Women</td>\n",
       "      <td>Jewelry</td>\n",
       "      <td>Necklaces</td>\n",
       "    </tr>\n",
       "  </tbody>\n",
       "</table>\n",
       "</div>"
      ],
      "text/plain": [
       "   train_id                                 name  item_condition_id  \\\n",
       "0         0  MLB Cincinnati Reds T Shirt Size XL                  3   \n",
       "1         1     Razer BlackWidow Chroma Keyboard                  3   \n",
       "2         2                       AVA-VIV Blouse                  1   \n",
       "3         3                Leather Horse Statues                  1   \n",
       "4         4                 24K GOLD plated rose                  1   \n",
       "\n",
       "                                       category_name brand_name     price  \\\n",
       "0                                  Men/Tops/T-shirts    NoBrand 10.000000   \n",
       "1  Electronics/Computers & Tablets/Components & P...      Razer 52.000000   \n",
       "2                        Women/Tops & Blouses/Blouse     Target 10.000000   \n",
       "3                 Home/Home Décor/Home Décor Accents    NoBrand 35.000000   \n",
       "4                            Women/Jewelry/Necklaces    NoBrand 44.000000   \n",
       "\n",
       "   shipping                                   item_description  \\\n",
       "0         1                                 No description yet   \n",
       "1         0  This keyboard is in great condition and works ...   \n",
       "2         1  Adorable top with a hint of lace and a key hol...   \n",
       "3         1  New with tags. Leather horses. Retail for [rm]...   \n",
       "4         0          Complete with certificate of authenticity   \n",
       "\n",
       "  general_category        subcategory_1       subcategory_2  \n",
       "0              Men                 Tops            T-shirts  \n",
       "1      Electronics  Computers & Tablets  Components & Parts  \n",
       "2            Women       Tops & Blouses              Blouse  \n",
       "3             Home           Home Décor  Home Décor Accents  \n",
       "4            Women              Jewelry           Necklaces  "
      ]
     },
     "execution_count": 63,
     "metadata": {},
     "output_type": "execute_result"
    }
   ],
   "source": [
    "train_df.head()"
   ]
  },
  {
   "cell_type": "code",
   "execution_count": 64,
   "metadata": {
    "scrolled": true
   },
   "outputs": [
    {
     "data": {
      "text/html": [
       "<div>\n",
       "<style scoped>\n",
       "    .dataframe tbody tr th:only-of-type {\n",
       "        vertical-align: middle;\n",
       "    }\n",
       "\n",
       "    .dataframe tbody tr th {\n",
       "        vertical-align: top;\n",
       "    }\n",
       "\n",
       "    .dataframe thead th {\n",
       "        text-align: right;\n",
       "    }\n",
       "</style>\n",
       "<table border=\"1\" class=\"dataframe\">\n",
       "  <thead>\n",
       "    <tr style=\"text-align: right;\">\n",
       "      <th></th>\n",
       "      <th>item_description_char_count</th>\n",
       "      <th>item_description_word_count</th>\n",
       "      <th>item_description_word_density</th>\n",
       "    </tr>\n",
       "  </thead>\n",
       "  <tbody>\n",
       "    <tr>\n",
       "      <th>0</th>\n",
       "      <td>6</td>\n",
       "      <td>2</td>\n",
       "      <td>2.000000</td>\n",
       "    </tr>\n",
       "    <tr>\n",
       "      <th>1</th>\n",
       "      <td>251</td>\n",
       "      <td>38</td>\n",
       "      <td>6.435897</td>\n",
       "    </tr>\n",
       "    <tr>\n",
       "      <th>2</th>\n",
       "      <td>55</td>\n",
       "      <td>11</td>\n",
       "      <td>4.583333</td>\n",
       "    </tr>\n",
       "    <tr>\n",
       "      <th>3</th>\n",
       "      <td>67</td>\n",
       "      <td>10</td>\n",
       "      <td>6.090909</td>\n",
       "    </tr>\n",
       "    <tr>\n",
       "      <th>4</th>\n",
       "      <td>167</td>\n",
       "      <td>29</td>\n",
       "      <td>5.566667</td>\n",
       "    </tr>\n",
       "  </tbody>\n",
       "</table>\n",
       "</div>"
      ],
      "text/plain": [
       "   item_description_char_count  item_description_word_count  \\\n",
       "0                            6                            2   \n",
       "1                          251                           38   \n",
       "2                           55                           11   \n",
       "3                           67                           10   \n",
       "4                          167                           29   \n",
       "\n",
       "   item_description_word_density  \n",
       "0                       2.000000  \n",
       "1                       6.435897  \n",
       "2                       4.583333  \n",
       "3                       6.090909  \n",
       "4                       5.566667  "
      ]
     },
     "execution_count": 64,
     "metadata": {},
     "output_type": "execute_result"
    }
   ],
   "source": [
    "def text_data_fe(data, col):\n",
    "    data[(col+\"_char_count\")] = data[col].apply(len)\n",
    "    data[(col+\"_word_count\")] = data[col].apply(lambda x: len(x.split()))\n",
    "    data[(col+\"_word_density\")] = data[(col+\"_char_count\")] / (data[(col+\"_word_count\")]+1)\n",
    "    return data[[(col+\"_char_count\"), (col+\"_word_count\"), (col+\"_word_density\")]].head()\n",
    "\n",
    "text_data_fe(train_df, \"item_description\")\n",
    "text_data_fe(test_df, \"item_description\")"
   ]
  },
  {
   "cell_type": "code",
   "execution_count": 65,
   "metadata": {},
   "outputs": [
    {
     "data": {
      "text/html": [
       "<div>\n",
       "<style scoped>\n",
       "    .dataframe tbody tr th:only-of-type {\n",
       "        vertical-align: middle;\n",
       "    }\n",
       "\n",
       "    .dataframe tbody tr th {\n",
       "        vertical-align: top;\n",
       "    }\n",
       "\n",
       "    .dataframe thead th {\n",
       "        text-align: right;\n",
       "    }\n",
       "</style>\n",
       "<table border=\"1\" class=\"dataframe\">\n",
       "  <thead>\n",
       "    <tr style=\"text-align: right;\">\n",
       "      <th></th>\n",
       "      <th>name_char_count</th>\n",
       "      <th>name_word_count</th>\n",
       "      <th>name_word_density</th>\n",
       "    </tr>\n",
       "  </thead>\n",
       "  <tbody>\n",
       "    <tr>\n",
       "      <th>0</th>\n",
       "      <td>40</td>\n",
       "      <td>8</td>\n",
       "      <td>4.444444</td>\n",
       "    </tr>\n",
       "    <tr>\n",
       "      <th>1</th>\n",
       "      <td>40</td>\n",
       "      <td>7</td>\n",
       "      <td>5.000000</td>\n",
       "    </tr>\n",
       "    <tr>\n",
       "      <th>2</th>\n",
       "      <td>9</td>\n",
       "      <td>2</td>\n",
       "      <td>3.000000</td>\n",
       "    </tr>\n",
       "    <tr>\n",
       "      <th>3</th>\n",
       "      <td>13</td>\n",
       "      <td>2</td>\n",
       "      <td>4.333333</td>\n",
       "    </tr>\n",
       "    <tr>\n",
       "      <th>4</th>\n",
       "      <td>16</td>\n",
       "      <td>3</td>\n",
       "      <td>4.000000</td>\n",
       "    </tr>\n",
       "  </tbody>\n",
       "</table>\n",
       "</div>"
      ],
      "text/plain": [
       "   name_char_count  name_word_count  name_word_density\n",
       "0               40                8           4.444444\n",
       "1               40                7           5.000000\n",
       "2                9                2           3.000000\n",
       "3               13                2           4.333333\n",
       "4               16                3           4.000000"
      ]
     },
     "execution_count": 65,
     "metadata": {},
     "output_type": "execute_result"
    }
   ],
   "source": [
    "text_data_fe(train_df, \"name\")\n",
    "text_data_fe(test_df, \"name\")"
   ]
  },
  {
   "cell_type": "markdown",
   "metadata": {},
   "source": [
    "[CountVectorizer, TfidfVectorizer, Predict Comments](https://www.kaggle.com/adamschroeder/countvectorizer-tfidfvectorizer-predict-comments)\n",
    "<br>[Using TfidfVectorizer output to create columns in a pandas df](https://www.reddit.com/r/learnpython/comments/7aduzh/using_tfidfvectorizer_output_to_create_columns_in/)\n",
    "<br>[Check if multiple strings exist in another string](https://stackoverflow.com/questions/3389574/check-if-multiple-strings-exist-in-another-string)\n",
    "- top tfidf word\n",
    "- top tfidf value"
   ]
  },
  {
   "cell_type": "code",
   "execution_count": 66,
   "metadata": {},
   "outputs": [],
   "source": [
    "vectorizer = TfidfVectorizer(min_df=3, max_features=2500, dtype=np.float32, \n",
    "                             strip_accents=\"unicode\", analyzer=\"word\", ngram_range=(1, 3), \n",
    "                             stop_words={\"english\", \"rm\", \"co\"})"
   ]
  },
  {
   "cell_type": "code",
   "execution_count": 67,
   "metadata": {},
   "outputs": [
    {
     "name": "stdout",
     "output_type": "stream",
     "text": [
      "CPU times: user 3.15 ms, sys: 545 µs, total: 3.69 ms\n",
      "Wall time: 3.24 ms\n"
     ]
    }
   ],
   "source": [
    "%%time\n",
    "description_text = list(train_df[\"item_description\"].values)\n",
    "tfidf_matrix = vectorizer.fit_transform(description_text)"
   ]
  },
  {
   "cell_type": "code",
   "execution_count": 68,
   "metadata": {
    "scrolled": false
   },
   "outputs": [
    {
     "data": {
      "text/plain": [
       "<10x9 sparse matrix of type '<class 'numpy.float32'>'\n",
       "\twith 34 stored elements in Compressed Sparse Row format>"
      ]
     },
     "execution_count": 68,
     "metadata": {},
     "output_type": "execute_result"
    }
   ],
   "source": [
    "tfidf_matrix"
   ]
  },
  {
   "cell_type": "code",
   "execution_count": 69,
   "metadata": {
    "scrolled": false
   },
   "outputs": [
    {
     "data": {
      "text/plain": [
       "(10, 9)"
      ]
     },
     "execution_count": 69,
     "metadata": {},
     "output_type": "execute_result"
    }
   ],
   "source": [
    "tfidf_matrix.shape"
   ]
  },
  {
   "cell_type": "markdown",
   "metadata": {},
   "source": [
    "the learned corpus vocabulary"
   ]
  },
  {
   "cell_type": "code",
   "execution_count": 70,
   "metadata": {},
   "outputs": [
    {
     "data": {
      "text/plain": [
       "{'in': 2,\n",
       " 'and': 0,\n",
       " 'of': 3,\n",
       " 'the': 7,\n",
       " 'are': 1,\n",
       " 'with': 8,\n",
       " 'size': 4,\n",
       " 'small': 6,\n",
       " 'size small': 5}"
      ]
     },
     "execution_count": 70,
     "metadata": {},
     "output_type": "execute_result"
    }
   ],
   "source": [
    "vectorizer.vocabulary_"
   ]
  },
  {
   "cell_type": "markdown",
   "metadata": {},
   "source": [
    "create a dictionary mapping the tokens to the tfidf values"
   ]
  },
  {
   "cell_type": "code",
   "execution_count": 71,
   "metadata": {},
   "outputs": [],
   "source": [
    "tfidf = dict(zip(vectorizer.get_feature_names(), vectorizer.idf_))\n",
    "tfidf_df = pd.DataFrame(columns=[\"description_text_tfidf\"]).from_dict(dict(tfidf), orient='index')\n",
    "tfidf_df.columns = [\"description_text_tfidf\"]"
   ]
  },
  {
   "cell_type": "code",
   "execution_count": 72,
   "metadata": {},
   "outputs": [
    {
     "data": {
      "text/plain": [
       "(9, 1)"
      ]
     },
     "execution_count": 72,
     "metadata": {},
     "output_type": "execute_result"
    }
   ],
   "source": [
    "tfidf_df.shape"
   ]
  },
  {
   "cell_type": "code",
   "execution_count": 73,
   "metadata": {
    "scrolled": true
   },
   "outputs": [
    {
     "data": {
      "text/plain": [
       "{'description_text_tfidf': {'and': 1.6061358451843262,\n",
       "  'are': 2.011600971221924,\n",
       "  'in': 1.7884573936462402,\n",
       "  'of': 1.6061358451843262,\n",
       "  'size': 2.011600971221924,\n",
       "  'size small': 2.011600971221924,\n",
       "  'small': 2.011600971221924,\n",
       "  'the': 1.7884573936462402,\n",
       "  'with': 1.7884573936462402}}"
      ]
     },
     "execution_count": 73,
     "metadata": {},
     "output_type": "execute_result"
    }
   ],
   "source": [
    "tfidf_df.to_dict()"
   ]
  },
  {
   "cell_type": "markdown",
   "metadata": {},
   "source": [
    "words or phrase with top 100 tf-idf score"
   ]
  },
  {
   "cell_type": "code",
   "execution_count": 74,
   "metadata": {
    "scrolled": true
   },
   "outputs": [
    {
     "data": {
      "text/html": [
       "<div>\n",
       "<style scoped>\n",
       "    .dataframe tbody tr th:only-of-type {\n",
       "        vertical-align: middle;\n",
       "    }\n",
       "\n",
       "    .dataframe tbody tr th {\n",
       "        vertical-align: top;\n",
       "    }\n",
       "\n",
       "    .dataframe thead th {\n",
       "        text-align: right;\n",
       "    }\n",
       "</style>\n",
       "<table border=\"1\" class=\"dataframe\">\n",
       "  <thead>\n",
       "    <tr style=\"text-align: right;\">\n",
       "      <th></th>\n",
       "      <th>description_text_tfidf</th>\n",
       "    </tr>\n",
       "  </thead>\n",
       "  <tbody>\n",
       "    <tr>\n",
       "      <th>are</th>\n",
       "      <td>2.011601</td>\n",
       "    </tr>\n",
       "  </tbody>\n",
       "</table>\n",
       "</div>"
      ],
      "text/plain": [
       "     description_text_tfidf\n",
       "are                2.011601"
      ]
     },
     "execution_count": 74,
     "metadata": {},
     "output_type": "execute_result"
    }
   ],
   "source": [
    "top_n = int(round(len(train_df)*0.1))\n",
    "top_n_tfidf = tfidf_df.sort_values(by=[\"description_text_tfidf\"], ascending=False).head(top_n)\n",
    "top_n_tfidf"
   ]
  },
  {
   "cell_type": "code",
   "execution_count": 75,
   "metadata": {},
   "outputs": [
    {
     "data": {
      "text/plain": [
       "Index(['are'], dtype='object')"
      ]
     },
     "execution_count": 75,
     "metadata": {},
     "output_type": "execute_result"
    }
   ],
   "source": [
    "top_n_tfidf.index"
   ]
  },
  {
   "cell_type": "code",
   "execution_count": 76,
   "metadata": {
    "scrolled": true
   },
   "outputs": [
    {
     "name": "stdout",
     "output_type": "stream",
     "text": [
      "CPU times: user 6.7 ms, sys: 701 µs, total: 7.4 ms\n",
      "Wall time: 7.41 ms\n"
     ]
    },
    {
     "data": {
      "text/html": [
       "<div>\n",
       "<style scoped>\n",
       "    .dataframe tbody tr th:only-of-type {\n",
       "        vertical-align: middle;\n",
       "    }\n",
       "\n",
       "    .dataframe tbody tr th {\n",
       "        vertical-align: top;\n",
       "    }\n",
       "\n",
       "    .dataframe thead th {\n",
       "        text-align: right;\n",
       "    }\n",
       "</style>\n",
       "<table border=\"1\" class=\"dataframe\">\n",
       "  <thead>\n",
       "    <tr style=\"text-align: right;\">\n",
       "      <th></th>\n",
       "      <th>item_description_top_tfidf_word</th>\n",
       "      <th>item_description_top_tfidf_value</th>\n",
       "    </tr>\n",
       "  </thead>\n",
       "  <tbody>\n",
       "    <tr>\n",
       "      <th>0</th>\n",
       "      <td>None</td>\n",
       "      <td>0.000000</td>\n",
       "    </tr>\n",
       "    <tr>\n",
       "      <th>1</th>\n",
       "      <td>None</td>\n",
       "      <td>0.000000</td>\n",
       "    </tr>\n",
       "    <tr>\n",
       "      <th>2</th>\n",
       "      <td>None</td>\n",
       "      <td>0.000000</td>\n",
       "    </tr>\n",
       "    <tr>\n",
       "      <th>3</th>\n",
       "      <td>None</td>\n",
       "      <td>0.000000</td>\n",
       "    </tr>\n",
       "    <tr>\n",
       "      <th>4</th>\n",
       "      <td>None</td>\n",
       "      <td>0.000000</td>\n",
       "    </tr>\n",
       "  </tbody>\n",
       "</table>\n",
       "</div>"
      ],
      "text/plain": [
       "  item_description_top_tfidf_word  item_description_top_tfidf_value\n",
       "0                            None                          0.000000\n",
       "1                            None                          0.000000\n",
       "2                            None                          0.000000\n",
       "3                            None                          0.000000\n",
       "4                            None                          0.000000"
      ]
     },
     "execution_count": 76,
     "metadata": {},
     "output_type": "execute_result"
    }
   ],
   "source": [
    "%%time\n",
    "def text_data_tfidf_fe(data, col):\n",
    "    top_tfidf_word = []\n",
    "    top_tfidf_value = []\n",
    "    for i in range(len(list(data[col].values))):\n",
    "        match = next((word for word in top_n_tfidf.index if word in data[col][i]), False)\n",
    "        if match != False:\n",
    "            chosen_word = match\n",
    "            chosen_tfidf = float(top_n_tfidf.loc[match])\n",
    "            #print(chosen_word, chosen_tfidf)\n",
    "            top_tfidf_word.insert(i, chosen_word)\n",
    "            top_tfidf_value.insert(i, chosen_tfidf)\n",
    "            #break\n",
    "        else:\n",
    "            chosen_word = \"None\"\n",
    "            chosen_tfidf = 0.0\n",
    "            top_tfidf_word.insert(i, chosen_word)\n",
    "            top_tfidf_value.insert(i, chosen_tfidf)\n",
    "            continue\n",
    "    data[(col+\"_top_tfidf_word\")] = top_tfidf_word\n",
    "    data[(col+\"_top_tfidf_value\")] = top_tfidf_value\n",
    "    return data[[(col+\"_top_tfidf_word\"), (col+\"_top_tfidf_value\")]].head()\n",
    "\n",
    "text_data_tfidf_fe(train_df, \"item_description\")\n",
    "text_data_tfidf_fe(test_df, \"item_description\")"
   ]
  },
  {
   "cell_type": "code",
   "execution_count": 77,
   "metadata": {},
   "outputs": [
    {
     "data": {
      "text/html": [
       "<div>\n",
       "<style scoped>\n",
       "    .dataframe tbody tr th:only-of-type {\n",
       "        vertical-align: middle;\n",
       "    }\n",
       "\n",
       "    .dataframe tbody tr th {\n",
       "        vertical-align: top;\n",
       "    }\n",
       "\n",
       "    .dataframe thead th {\n",
       "        text-align: right;\n",
       "    }\n",
       "</style>\n",
       "<table border=\"1\" class=\"dataframe\">\n",
       "  <thead>\n",
       "    <tr style=\"text-align: right;\">\n",
       "      <th></th>\n",
       "      <th>name_top_tfidf_word</th>\n",
       "      <th>name_top_tfidf_value</th>\n",
       "    </tr>\n",
       "  </thead>\n",
       "  <tbody>\n",
       "    <tr>\n",
       "      <th>0</th>\n",
       "      <td>None</td>\n",
       "      <td>0.000000</td>\n",
       "    </tr>\n",
       "    <tr>\n",
       "      <th>1</th>\n",
       "      <td>None</td>\n",
       "      <td>0.000000</td>\n",
       "    </tr>\n",
       "    <tr>\n",
       "      <th>2</th>\n",
       "      <td>None</td>\n",
       "      <td>0.000000</td>\n",
       "    </tr>\n",
       "    <tr>\n",
       "      <th>3</th>\n",
       "      <td>None</td>\n",
       "      <td>0.000000</td>\n",
       "    </tr>\n",
       "    <tr>\n",
       "      <th>4</th>\n",
       "      <td>None</td>\n",
       "      <td>0.000000</td>\n",
       "    </tr>\n",
       "  </tbody>\n",
       "</table>\n",
       "</div>"
      ],
      "text/plain": [
       "  name_top_tfidf_word  name_top_tfidf_value\n",
       "0                None              0.000000\n",
       "1                None              0.000000\n",
       "2                None              0.000000\n",
       "3                None              0.000000\n",
       "4                None              0.000000"
      ]
     },
     "execution_count": 77,
     "metadata": {},
     "output_type": "execute_result"
    }
   ],
   "source": [
    "text_data_tfidf_fe(train_df, \"name\")\n",
    "text_data_tfidf_fe(test_df, \"name\")"
   ]
  },
  {
   "cell_type": "code",
   "execution_count": null,
   "metadata": {},
   "outputs": [],
   "source": []
  },
  {
   "cell_type": "markdown",
   "metadata": {},
   "source": [
    "view the data again"
   ]
  },
  {
   "cell_type": "code",
   "execution_count": 78,
   "metadata": {
    "scrolled": true
   },
   "outputs": [
    {
     "data": {
      "text/html": [
       "<div>\n",
       "<style scoped>\n",
       "    .dataframe tbody tr th:only-of-type {\n",
       "        vertical-align: middle;\n",
       "    }\n",
       "\n",
       "    .dataframe tbody tr th {\n",
       "        vertical-align: top;\n",
       "    }\n",
       "\n",
       "    .dataframe thead th {\n",
       "        text-align: right;\n",
       "    }\n",
       "</style>\n",
       "<table border=\"1\" class=\"dataframe\">\n",
       "  <thead>\n",
       "    <tr style=\"text-align: right;\">\n",
       "      <th></th>\n",
       "      <th>train_id</th>\n",
       "      <th>name</th>\n",
       "      <th>item_condition_id</th>\n",
       "      <th>category_name</th>\n",
       "      <th>brand_name</th>\n",
       "      <th>price</th>\n",
       "      <th>shipping</th>\n",
       "      <th>item_description</th>\n",
       "      <th>general_category</th>\n",
       "      <th>subcategory_1</th>\n",
       "      <th>...</th>\n",
       "      <th>item_description_char_count</th>\n",
       "      <th>item_description_word_count</th>\n",
       "      <th>item_description_word_density</th>\n",
       "      <th>name_char_count</th>\n",
       "      <th>name_word_count</th>\n",
       "      <th>name_word_density</th>\n",
       "      <th>item_description_top_tfidf_word</th>\n",
       "      <th>item_description_top_tfidf_value</th>\n",
       "      <th>name_top_tfidf_word</th>\n",
       "      <th>name_top_tfidf_value</th>\n",
       "    </tr>\n",
       "  </thead>\n",
       "  <tbody>\n",
       "    <tr>\n",
       "      <th>0</th>\n",
       "      <td>0</td>\n",
       "      <td>MLB Cincinnati Reds T Shirt Size XL</td>\n",
       "      <td>3</td>\n",
       "      <td>Men/Tops/T-shirts</td>\n",
       "      <td>NoBrand</td>\n",
       "      <td>10.000000</td>\n",
       "      <td>1</td>\n",
       "      <td>No description yet</td>\n",
       "      <td>Men</td>\n",
       "      <td>Tops</td>\n",
       "      <td>...</td>\n",
       "      <td>18</td>\n",
       "      <td>3</td>\n",
       "      <td>4.500000</td>\n",
       "      <td>35</td>\n",
       "      <td>7</td>\n",
       "      <td>4.375000</td>\n",
       "      <td>None</td>\n",
       "      <td>0.000000</td>\n",
       "      <td>None</td>\n",
       "      <td>0.000000</td>\n",
       "    </tr>\n",
       "    <tr>\n",
       "      <th>1</th>\n",
       "      <td>1</td>\n",
       "      <td>Razer BlackWidow Chroma Keyboard</td>\n",
       "      <td>3</td>\n",
       "      <td>Electronics/Computers &amp; Tablets/Components &amp; P...</td>\n",
       "      <td>Razer</td>\n",
       "      <td>52.000000</td>\n",
       "      <td>0</td>\n",
       "      <td>This keyboard is in great condition and works ...</td>\n",
       "      <td>Electronics</td>\n",
       "      <td>Computers &amp; Tablets</td>\n",
       "      <td>...</td>\n",
       "      <td>188</td>\n",
       "      <td>36</td>\n",
       "      <td>5.081081</td>\n",
       "      <td>32</td>\n",
       "      <td>4</td>\n",
       "      <td>6.400000</td>\n",
       "      <td>are</td>\n",
       "      <td>2.011601</td>\n",
       "      <td>None</td>\n",
       "      <td>0.000000</td>\n",
       "    </tr>\n",
       "    <tr>\n",
       "      <th>2</th>\n",
       "      <td>2</td>\n",
       "      <td>AVA-VIV Blouse</td>\n",
       "      <td>1</td>\n",
       "      <td>Women/Tops &amp; Blouses/Blouse</td>\n",
       "      <td>Target</td>\n",
       "      <td>10.000000</td>\n",
       "      <td>1</td>\n",
       "      <td>Adorable top with a hint of lace and a key hol...</td>\n",
       "      <td>Women</td>\n",
       "      <td>Tops &amp; Blouses</td>\n",
       "      <td>...</td>\n",
       "      <td>124</td>\n",
       "      <td>29</td>\n",
       "      <td>4.133333</td>\n",
       "      <td>14</td>\n",
       "      <td>2</td>\n",
       "      <td>4.666667</td>\n",
       "      <td>None</td>\n",
       "      <td>0.000000</td>\n",
       "      <td>None</td>\n",
       "      <td>0.000000</td>\n",
       "    </tr>\n",
       "    <tr>\n",
       "      <th>3</th>\n",
       "      <td>3</td>\n",
       "      <td>Leather Horse Statues</td>\n",
       "      <td>1</td>\n",
       "      <td>Home/Home Décor/Home Décor Accents</td>\n",
       "      <td>NoBrand</td>\n",
       "      <td>35.000000</td>\n",
       "      <td>1</td>\n",
       "      <td>New with tags. Leather horses. Retail for [rm]...</td>\n",
       "      <td>Home</td>\n",
       "      <td>Home Décor</td>\n",
       "      <td>...</td>\n",
       "      <td>173</td>\n",
       "      <td>32</td>\n",
       "      <td>5.242424</td>\n",
       "      <td>21</td>\n",
       "      <td>3</td>\n",
       "      <td>5.250000</td>\n",
       "      <td>are</td>\n",
       "      <td>2.011601</td>\n",
       "      <td>None</td>\n",
       "      <td>0.000000</td>\n",
       "    </tr>\n",
       "    <tr>\n",
       "      <th>4</th>\n",
       "      <td>4</td>\n",
       "      <td>24K GOLD plated rose</td>\n",
       "      <td>1</td>\n",
       "      <td>Women/Jewelry/Necklaces</td>\n",
       "      <td>NoBrand</td>\n",
       "      <td>44.000000</td>\n",
       "      <td>0</td>\n",
       "      <td>Complete with certificate of authenticity</td>\n",
       "      <td>Women</td>\n",
       "      <td>Jewelry</td>\n",
       "      <td>...</td>\n",
       "      <td>41</td>\n",
       "      <td>5</td>\n",
       "      <td>6.833333</td>\n",
       "      <td>20</td>\n",
       "      <td>4</td>\n",
       "      <td>4.000000</td>\n",
       "      <td>None</td>\n",
       "      <td>0.000000</td>\n",
       "      <td>None</td>\n",
       "      <td>0.000000</td>\n",
       "    </tr>\n",
       "  </tbody>\n",
       "</table>\n",
       "<p>5 rows × 21 columns</p>\n",
       "</div>"
      ],
      "text/plain": [
       "   train_id                                 name  item_condition_id  \\\n",
       "0         0  MLB Cincinnati Reds T Shirt Size XL                  3   \n",
       "1         1     Razer BlackWidow Chroma Keyboard                  3   \n",
       "2         2                       AVA-VIV Blouse                  1   \n",
       "3         3                Leather Horse Statues                  1   \n",
       "4         4                 24K GOLD plated rose                  1   \n",
       "\n",
       "                                       category_name brand_name     price  \\\n",
       "0                                  Men/Tops/T-shirts    NoBrand 10.000000   \n",
       "1  Electronics/Computers & Tablets/Components & P...      Razer 52.000000   \n",
       "2                        Women/Tops & Blouses/Blouse     Target 10.000000   \n",
       "3                 Home/Home Décor/Home Décor Accents    NoBrand 35.000000   \n",
       "4                            Women/Jewelry/Necklaces    NoBrand 44.000000   \n",
       "\n",
       "   shipping                                   item_description  \\\n",
       "0         1                                 No description yet   \n",
       "1         0  This keyboard is in great condition and works ...   \n",
       "2         1  Adorable top with a hint of lace and a key hol...   \n",
       "3         1  New with tags. Leather horses. Retail for [rm]...   \n",
       "4         0          Complete with certificate of authenticity   \n",
       "\n",
       "  general_category        subcategory_1  ... item_description_char_count  \\\n",
       "0              Men                 Tops  ...                          18   \n",
       "1      Electronics  Computers & Tablets  ...                         188   \n",
       "2            Women       Tops & Blouses  ...                         124   \n",
       "3             Home           Home Décor  ...                         173   \n",
       "4            Women              Jewelry  ...                          41   \n",
       "\n",
       "   item_description_word_count  item_description_word_density  \\\n",
       "0                            3                       4.500000   \n",
       "1                           36                       5.081081   \n",
       "2                           29                       4.133333   \n",
       "3                           32                       5.242424   \n",
       "4                            5                       6.833333   \n",
       "\n",
       "   name_char_count  name_word_count  name_word_density  \\\n",
       "0               35                7           4.375000   \n",
       "1               32                4           6.400000   \n",
       "2               14                2           4.666667   \n",
       "3               21                3           5.250000   \n",
       "4               20                4           4.000000   \n",
       "\n",
       "   item_description_top_tfidf_word item_description_top_tfidf_value  \\\n",
       "0                             None                         0.000000   \n",
       "1                              are                         2.011601   \n",
       "2                             None                         0.000000   \n",
       "3                              are                         2.011601   \n",
       "4                             None                         0.000000   \n",
       "\n",
       "   name_top_tfidf_word name_top_tfidf_value  \n",
       "0                 None             0.000000  \n",
       "1                 None             0.000000  \n",
       "2                 None             0.000000  \n",
       "3                 None             0.000000  \n",
       "4                 None             0.000000  \n",
       "\n",
       "[5 rows x 21 columns]"
      ]
     },
     "execution_count": 78,
     "metadata": {},
     "output_type": "execute_result"
    }
   ],
   "source": [
    "train_df.head()"
   ]
  },
  {
   "cell_type": "code",
   "execution_count": 79,
   "metadata": {},
   "outputs": [
    {
     "data": {
      "text/html": [
       "<div>\n",
       "<style scoped>\n",
       "    .dataframe tbody tr th:only-of-type {\n",
       "        vertical-align: middle;\n",
       "    }\n",
       "\n",
       "    .dataframe tbody tr th {\n",
       "        vertical-align: top;\n",
       "    }\n",
       "\n",
       "    .dataframe thead th {\n",
       "        text-align: right;\n",
       "    }\n",
       "</style>\n",
       "<table border=\"1\" class=\"dataframe\">\n",
       "  <thead>\n",
       "    <tr style=\"text-align: right;\">\n",
       "      <th></th>\n",
       "      <th>test_id</th>\n",
       "      <th>name</th>\n",
       "      <th>item_condition_id</th>\n",
       "      <th>category_name</th>\n",
       "      <th>brand_name</th>\n",
       "      <th>shipping</th>\n",
       "      <th>item_description</th>\n",
       "      <th>general_category</th>\n",
       "      <th>subcategory_1</th>\n",
       "      <th>subcategory_2</th>\n",
       "      <th>item_description_char_count</th>\n",
       "      <th>item_description_word_count</th>\n",
       "      <th>item_description_word_density</th>\n",
       "      <th>name_char_count</th>\n",
       "      <th>name_word_count</th>\n",
       "      <th>name_word_density</th>\n",
       "      <th>item_description_top_tfidf_word</th>\n",
       "      <th>item_description_top_tfidf_value</th>\n",
       "      <th>name_top_tfidf_word</th>\n",
       "      <th>name_top_tfidf_value</th>\n",
       "    </tr>\n",
       "  </thead>\n",
       "  <tbody>\n",
       "    <tr>\n",
       "      <th>0</th>\n",
       "      <td>0</td>\n",
       "      <td>Breast cancer \"I fight like a girl\" ring</td>\n",
       "      <td>1</td>\n",
       "      <td>Women/Jewelry/Rings</td>\n",
       "      <td>NoBrand</td>\n",
       "      <td>1</td>\n",
       "      <td>Size 7</td>\n",
       "      <td>Women</td>\n",
       "      <td>Jewelry</td>\n",
       "      <td>Rings</td>\n",
       "      <td>6</td>\n",
       "      <td>2</td>\n",
       "      <td>2.000000</td>\n",
       "      <td>40</td>\n",
       "      <td>8</td>\n",
       "      <td>4.444444</td>\n",
       "      <td>None</td>\n",
       "      <td>0.000000</td>\n",
       "      <td>None</td>\n",
       "      <td>0.000000</td>\n",
       "    </tr>\n",
       "    <tr>\n",
       "      <th>1</th>\n",
       "      <td>1</td>\n",
       "      <td>25 pcs NEW 7.5\"x12\" Kraft Bubble Mailers</td>\n",
       "      <td>1</td>\n",
       "      <td>Other/Office supplies/Shipping Supplies</td>\n",
       "      <td>NoBrand</td>\n",
       "      <td>1</td>\n",
       "      <td>25 pcs NEW 7.5\"x12\" Kraft Bubble Mailers Lined...</td>\n",
       "      <td>Other</td>\n",
       "      <td>Office supplies</td>\n",
       "      <td>Shipping Supplies</td>\n",
       "      <td>251</td>\n",
       "      <td>38</td>\n",
       "      <td>6.435897</td>\n",
       "      <td>40</td>\n",
       "      <td>7</td>\n",
       "      <td>5.000000</td>\n",
       "      <td>None</td>\n",
       "      <td>0.000000</td>\n",
       "      <td>None</td>\n",
       "      <td>0.000000</td>\n",
       "    </tr>\n",
       "    <tr>\n",
       "      <th>2</th>\n",
       "      <td>2</td>\n",
       "      <td>Coach bag</td>\n",
       "      <td>1</td>\n",
       "      <td>Vintage &amp; Collectibles/Bags and Purses/Handbag</td>\n",
       "      <td>Coach</td>\n",
       "      <td>1</td>\n",
       "      <td>Brand new coach bag. Bought for [rm] at a Coac...</td>\n",
       "      <td>Vintage &amp; Collectibles</td>\n",
       "      <td>Bags and Purses</td>\n",
       "      <td>Handbag</td>\n",
       "      <td>55</td>\n",
       "      <td>11</td>\n",
       "      <td>4.583333</td>\n",
       "      <td>9</td>\n",
       "      <td>2</td>\n",
       "      <td>3.000000</td>\n",
       "      <td>None</td>\n",
       "      <td>0.000000</td>\n",
       "      <td>None</td>\n",
       "      <td>0.000000</td>\n",
       "    </tr>\n",
       "    <tr>\n",
       "      <th>3</th>\n",
       "      <td>3</td>\n",
       "      <td>Floral Kimono</td>\n",
       "      <td>2</td>\n",
       "      <td>Women/Sweaters/Cardigan</td>\n",
       "      <td>NoBrand</td>\n",
       "      <td>0</td>\n",
       "      <td>-floral kimono -never worn -lightweight and pe...</td>\n",
       "      <td>Women</td>\n",
       "      <td>Sweaters</td>\n",
       "      <td>Cardigan</td>\n",
       "      <td>67</td>\n",
       "      <td>10</td>\n",
       "      <td>6.090909</td>\n",
       "      <td>13</td>\n",
       "      <td>2</td>\n",
       "      <td>4.333333</td>\n",
       "      <td>None</td>\n",
       "      <td>0.000000</td>\n",
       "      <td>None</td>\n",
       "      <td>0.000000</td>\n",
       "    </tr>\n",
       "    <tr>\n",
       "      <th>4</th>\n",
       "      <td>4</td>\n",
       "      <td>Life after Death</td>\n",
       "      <td>3</td>\n",
       "      <td>Other/Books/Religion &amp; Spirituality</td>\n",
       "      <td>NoBrand</td>\n",
       "      <td>1</td>\n",
       "      <td>Rediscovering life after the loss of a loved o...</td>\n",
       "      <td>Other</td>\n",
       "      <td>Books</td>\n",
       "      <td>Religion &amp; Spirituality</td>\n",
       "      <td>167</td>\n",
       "      <td>29</td>\n",
       "      <td>5.566667</td>\n",
       "      <td>16</td>\n",
       "      <td>3</td>\n",
       "      <td>4.000000</td>\n",
       "      <td>None</td>\n",
       "      <td>0.000000</td>\n",
       "      <td>None</td>\n",
       "      <td>0.000000</td>\n",
       "    </tr>\n",
       "  </tbody>\n",
       "</table>\n",
       "</div>"
      ],
      "text/plain": [
       "   test_id                                      name  item_condition_id  \\\n",
       "0        0  Breast cancer \"I fight like a girl\" ring                  1   \n",
       "1        1  25 pcs NEW 7.5\"x12\" Kraft Bubble Mailers                  1   \n",
       "2        2                                 Coach bag                  1   \n",
       "3        3                             Floral Kimono                  2   \n",
       "4        4                          Life after Death                  3   \n",
       "\n",
       "                                    category_name brand_name  shipping  \\\n",
       "0                             Women/Jewelry/Rings    NoBrand         1   \n",
       "1         Other/Office supplies/Shipping Supplies    NoBrand         1   \n",
       "2  Vintage & Collectibles/Bags and Purses/Handbag      Coach         1   \n",
       "3                         Women/Sweaters/Cardigan    NoBrand         0   \n",
       "4             Other/Books/Religion & Spirituality    NoBrand         1   \n",
       "\n",
       "                                    item_description        general_category  \\\n",
       "0                                             Size 7                   Women   \n",
       "1  25 pcs NEW 7.5\"x12\" Kraft Bubble Mailers Lined...                   Other   \n",
       "2  Brand new coach bag. Bought for [rm] at a Coac...  Vintage & Collectibles   \n",
       "3  -floral kimono -never worn -lightweight and pe...                   Women   \n",
       "4  Rediscovering life after the loss of a loved o...                   Other   \n",
       "\n",
       "     subcategory_1            subcategory_2  item_description_char_count  \\\n",
       "0          Jewelry                    Rings                            6   \n",
       "1  Office supplies        Shipping Supplies                          251   \n",
       "2  Bags and Purses                  Handbag                           55   \n",
       "3         Sweaters                 Cardigan                           67   \n",
       "4            Books  Religion & Spirituality                          167   \n",
       "\n",
       "   item_description_word_count  item_description_word_density  \\\n",
       "0                            2                       2.000000   \n",
       "1                           38                       6.435897   \n",
       "2                           11                       4.583333   \n",
       "3                           10                       6.090909   \n",
       "4                           29                       5.566667   \n",
       "\n",
       "   name_char_count  name_word_count  name_word_density  \\\n",
       "0               40                8           4.444444   \n",
       "1               40                7           5.000000   \n",
       "2                9                2           3.000000   \n",
       "3               13                2           4.333333   \n",
       "4               16                3           4.000000   \n",
       "\n",
       "  item_description_top_tfidf_word  item_description_top_tfidf_value  \\\n",
       "0                            None                          0.000000   \n",
       "1                            None                          0.000000   \n",
       "2                            None                          0.000000   \n",
       "3                            None                          0.000000   \n",
       "4                            None                          0.000000   \n",
       "\n",
       "  name_top_tfidf_word  name_top_tfidf_value  \n",
       "0                None              0.000000  \n",
       "1                None              0.000000  \n",
       "2                None              0.000000  \n",
       "3                None              0.000000  \n",
       "4                None              0.000000  "
      ]
     },
     "execution_count": 79,
     "metadata": {},
     "output_type": "execute_result"
    }
   ],
   "source": [
    "test_df.head()"
   ]
  },
  {
   "cell_type": "markdown",
   "metadata": {},
   "source": [
    "checking the shape again"
   ]
  },
  {
   "cell_type": "code",
   "execution_count": 80,
   "metadata": {
    "scrolled": false
   },
   "outputs": [
    {
     "name": "stdout",
     "output_type": "stream",
     "text": [
      "Train shape: (10, 21)\n",
      "Test shape: (10, 20)\n"
     ]
    }
   ],
   "source": [
    "print('Train shape: {}\\nTest shape: {}'.format(train_df.shape, test_df.shape))"
   ]
  },
  {
   "cell_type": "markdown",
   "metadata": {},
   "source": [
    "# Output Data\n",
    "output data as csv"
   ]
  },
  {
   "cell_type": "code",
   "execution_count": 81,
   "metadata": {},
   "outputs": [],
   "source": [
    "train_df.to_csv(\"train_df.csv\", index=False)\n",
    "test_df.to_csv(\"test_df.csv\", index=False)"
   ]
  },
  {
   "cell_type": "code",
   "execution_count": null,
   "metadata": {},
   "outputs": [],
   "source": []
  }
 ],
 "metadata": {
  "kernelspec": {
   "display_name": "Python 3",
   "language": "python",
   "name": "python3"
  },
  "language_info": {
   "codemirror_mode": {
    "name": "ipython",
    "version": 3
   },
   "file_extension": ".py",
   "mimetype": "text/x-python",
   "name": "python",
   "nbconvert_exporter": "python",
   "pygments_lexer": "ipython3",
   "version": "3.7.4"
  }
 },
 "nbformat": 4,
 "nbformat_minor": 2
}
