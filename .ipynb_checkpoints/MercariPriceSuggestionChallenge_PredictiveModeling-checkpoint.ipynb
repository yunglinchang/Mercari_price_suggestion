{
 "cells": [
  {
   "cell_type": "markdown",
   "metadata": {},
   "source": [
    "# [Mercari Price Suggestion Challenge](https://www.kaggle.com/c/mercari-price-suggestion-challenge)\n",
    "Can you automatically suggest product prices to online sellers?"
   ]
  },
  {
   "cell_type": "markdown",
   "metadata": {},
   "source": [
    "# Import packages"
   ]
  },
  {
   "cell_type": "code",
   "execution_count": 1,
   "metadata": {},
   "outputs": [],
   "source": [
    "import pandas as pd #data processing\n",
    "import numpy as np #linear algebra\n",
    "\n",
    "%matplotlib inline\n",
    "import matplotlib.pyplot as plt #commonly used visualization tool\n",
    "import seaborn as sns #new visualization tool\n",
    "import pydot\n",
    "\n",
    "from sklearn.preprocessing import StandardScaler\n",
    "from sklearn.metrics import mean_squared_log_error\n",
    "from sklearn.model_selection import train_test_split, GridSearchCV #hyper-parameter tuning\n",
    "from sklearn.ensemble import RandomForestRegressor\n",
    "from sklearn.tree import export_graphviz"
   ]
  },
  {
   "cell_type": "markdown",
   "metadata": {},
   "source": [
    "# Import data"
   ]
  },
  {
   "cell_type": "code",
   "execution_count": 2,
   "metadata": {},
   "outputs": [
    {
     "name": "stdout",
     "output_type": "stream",
     "text": [
      "CPU times: user 10.6 s, sys: 1.29 s, total: 11.9 s\n",
      "Wall time: 11 s\n"
     ]
    }
   ],
   "source": [
    "%%time\n",
    "train_df = pd.read_csv(\"data/train_df.csv\", low_memory= True)\n",
    "test_df = pd.read_csv(\"data/test_df.csv\", low_memory= True)"
   ]
  },
  {
   "cell_type": "code",
   "execution_count": 3,
   "metadata": {
    "scrolled": true
   },
   "outputs": [
    {
     "data": {
      "text/html": [
       "<div>\n",
       "<style scoped>\n",
       "    .dataframe tbody tr th:only-of-type {\n",
       "        vertical-align: middle;\n",
       "    }\n",
       "\n",
       "    .dataframe tbody tr th {\n",
       "        vertical-align: top;\n",
       "    }\n",
       "\n",
       "    .dataframe thead th {\n",
       "        text-align: right;\n",
       "    }\n",
       "</style>\n",
       "<table border=\"1\" class=\"dataframe\">\n",
       "  <thead>\n",
       "    <tr style=\"text-align: right;\">\n",
       "      <th></th>\n",
       "      <th>train_id</th>\n",
       "      <th>name</th>\n",
       "      <th>item_condition_id</th>\n",
       "      <th>category_name</th>\n",
       "      <th>brand_name</th>\n",
       "      <th>price</th>\n",
       "      <th>shipping</th>\n",
       "      <th>item_description</th>\n",
       "      <th>general_category</th>\n",
       "      <th>subcategory_1</th>\n",
       "      <th>...</th>\n",
       "      <th>item_description_char_count</th>\n",
       "      <th>item_description_word_count</th>\n",
       "      <th>item_description_word_density</th>\n",
       "      <th>name_char_count</th>\n",
       "      <th>name_word_count</th>\n",
       "      <th>name_word_density</th>\n",
       "      <th>item_description_top_tfidf_word</th>\n",
       "      <th>item_description_top_tfidf_value</th>\n",
       "      <th>name_top_tfidf_word</th>\n",
       "      <th>name_top_tfidf_value</th>\n",
       "    </tr>\n",
       "  </thead>\n",
       "  <tbody>\n",
       "    <tr>\n",
       "      <th>0</th>\n",
       "      <td>0</td>\n",
       "      <td>MLB Cincinnati Reds T Shirt Size XL</td>\n",
       "      <td>3</td>\n",
       "      <td>Men/Tops/T-shirts</td>\n",
       "      <td>NoBrand</td>\n",
       "      <td>10.0</td>\n",
       "      <td>1</td>\n",
       "      <td>No description yet</td>\n",
       "      <td>Men</td>\n",
       "      <td>Tops</td>\n",
       "      <td>...</td>\n",
       "      <td>18</td>\n",
       "      <td>3</td>\n",
       "      <td>4.500000</td>\n",
       "      <td>35</td>\n",
       "      <td>7</td>\n",
       "      <td>4.375000</td>\n",
       "      <td>None</td>\n",
       "      <td>0.000000</td>\n",
       "      <td>None</td>\n",
       "      <td>0.0</td>\n",
       "    </tr>\n",
       "    <tr>\n",
       "      <th>1</th>\n",
       "      <td>1</td>\n",
       "      <td>Razer BlackWidow Chroma Keyboard</td>\n",
       "      <td>3</td>\n",
       "      <td>Electronics/Computers &amp; Tablets/Components &amp; P...</td>\n",
       "      <td>Razer</td>\n",
       "      <td>52.0</td>\n",
       "      <td>0</td>\n",
       "      <td>This keyboard is in great condition and works ...</td>\n",
       "      <td>Electronics</td>\n",
       "      <td>Computers &amp; Tablets</td>\n",
       "      <td>...</td>\n",
       "      <td>188</td>\n",
       "      <td>36</td>\n",
       "      <td>5.081081</td>\n",
       "      <td>32</td>\n",
       "      <td>4</td>\n",
       "      <td>6.400000</td>\n",
       "      <td>test</td>\n",
       "      <td>7.723773</td>\n",
       "      <td>None</td>\n",
       "      <td>0.0</td>\n",
       "    </tr>\n",
       "    <tr>\n",
       "      <th>2</th>\n",
       "      <td>2</td>\n",
       "      <td>AVA-VIV Blouse</td>\n",
       "      <td>1</td>\n",
       "      <td>Women/Tops &amp; Blouses/Blouse</td>\n",
       "      <td>Target</td>\n",
       "      <td>10.0</td>\n",
       "      <td>1</td>\n",
       "      <td>Adorable top with a hint of lace and a key hol...</td>\n",
       "      <td>Women</td>\n",
       "      <td>Tops &amp; Blouses</td>\n",
       "      <td>...</td>\n",
       "      <td>124</td>\n",
       "      <td>29</td>\n",
       "      <td>4.133333</td>\n",
       "      <td>14</td>\n",
       "      <td>2</td>\n",
       "      <td>4.666667</td>\n",
       "      <td>ink</td>\n",
       "      <td>7.717062</td>\n",
       "      <td>None</td>\n",
       "      <td>0.0</td>\n",
       "    </tr>\n",
       "    <tr>\n",
       "      <th>3</th>\n",
       "      <td>3</td>\n",
       "      <td>Leather Horse Statues</td>\n",
       "      <td>1</td>\n",
       "      <td>Home/Home Décor/Home Décor Accents</td>\n",
       "      <td>NoBrand</td>\n",
       "      <td>35.0</td>\n",
       "      <td>1</td>\n",
       "      <td>New with tags. Leather horses. Retail for [rm]...</td>\n",
       "      <td>Home</td>\n",
       "      <td>Home Décor</td>\n",
       "      <td>...</td>\n",
       "      <td>173</td>\n",
       "      <td>32</td>\n",
       "      <td>5.242424</td>\n",
       "      <td>21</td>\n",
       "      <td>3</td>\n",
       "      <td>5.250000</td>\n",
       "      <td>None</td>\n",
       "      <td>0.000000</td>\n",
       "      <td>None</td>\n",
       "      <td>0.0</td>\n",
       "    </tr>\n",
       "    <tr>\n",
       "      <th>4</th>\n",
       "      <td>4</td>\n",
       "      <td>24K GOLD plated rose</td>\n",
       "      <td>1</td>\n",
       "      <td>Women/Jewelry/Necklaces</td>\n",
       "      <td>NoBrand</td>\n",
       "      <td>44.0</td>\n",
       "      <td>0</td>\n",
       "      <td>Complete with certificate of authenticity</td>\n",
       "      <td>Women</td>\n",
       "      <td>Jewelry</td>\n",
       "      <td>...</td>\n",
       "      <td>41</td>\n",
       "      <td>5</td>\n",
       "      <td>6.833333</td>\n",
       "      <td>20</td>\n",
       "      <td>4</td>\n",
       "      <td>4.000000</td>\n",
       "      <td>None</td>\n",
       "      <td>0.000000</td>\n",
       "      <td>None</td>\n",
       "      <td>0.0</td>\n",
       "    </tr>\n",
       "  </tbody>\n",
       "</table>\n",
       "<p>5 rows × 21 columns</p>\n",
       "</div>"
      ],
      "text/plain": [
       "   train_id                                 name  item_condition_id  \\\n",
       "0         0  MLB Cincinnati Reds T Shirt Size XL                  3   \n",
       "1         1     Razer BlackWidow Chroma Keyboard                  3   \n",
       "2         2                       AVA-VIV Blouse                  1   \n",
       "3         3                Leather Horse Statues                  1   \n",
       "4         4                 24K GOLD plated rose                  1   \n",
       "\n",
       "                                       category_name brand_name  price  \\\n",
       "0                                  Men/Tops/T-shirts    NoBrand   10.0   \n",
       "1  Electronics/Computers & Tablets/Components & P...      Razer   52.0   \n",
       "2                        Women/Tops & Blouses/Blouse     Target   10.0   \n",
       "3                 Home/Home Décor/Home Décor Accents    NoBrand   35.0   \n",
       "4                            Women/Jewelry/Necklaces    NoBrand   44.0   \n",
       "\n",
       "   shipping                                   item_description  \\\n",
       "0         1                                 No description yet   \n",
       "1         0  This keyboard is in great condition and works ...   \n",
       "2         1  Adorable top with a hint of lace and a key hol...   \n",
       "3         1  New with tags. Leather horses. Retail for [rm]...   \n",
       "4         0          Complete with certificate of authenticity   \n",
       "\n",
       "  general_category        subcategory_1  ... item_description_char_count  \\\n",
       "0              Men                 Tops  ...                          18   \n",
       "1      Electronics  Computers & Tablets  ...                         188   \n",
       "2            Women       Tops & Blouses  ...                         124   \n",
       "3             Home           Home Décor  ...                         173   \n",
       "4            Women              Jewelry  ...                          41   \n",
       "\n",
       "   item_description_word_count  item_description_word_density  \\\n",
       "0                            3                       4.500000   \n",
       "1                           36                       5.081081   \n",
       "2                           29                       4.133333   \n",
       "3                           32                       5.242424   \n",
       "4                            5                       6.833333   \n",
       "\n",
       "   name_char_count  name_word_count  name_word_density  \\\n",
       "0               35                7           4.375000   \n",
       "1               32                4           6.400000   \n",
       "2               14                2           4.666667   \n",
       "3               21                3           5.250000   \n",
       "4               20                4           4.000000   \n",
       "\n",
       "   item_description_top_tfidf_word item_description_top_tfidf_value  \\\n",
       "0                             None                         0.000000   \n",
       "1                             test                         7.723773   \n",
       "2                              ink                         7.717062   \n",
       "3                             None                         0.000000   \n",
       "4                             None                         0.000000   \n",
       "\n",
       "   name_top_tfidf_word name_top_tfidf_value  \n",
       "0                 None                  0.0  \n",
       "1                 None                  0.0  \n",
       "2                 None                  0.0  \n",
       "3                 None                  0.0  \n",
       "4                 None                  0.0  \n",
       "\n",
       "[5 rows x 21 columns]"
      ]
     },
     "execution_count": 3,
     "metadata": {},
     "output_type": "execute_result"
    }
   ],
   "source": [
    "train_df.head()"
   ]
  },
  {
   "cell_type": "code",
   "execution_count": 4,
   "metadata": {
    "scrolled": true
   },
   "outputs": [
    {
     "data": {
      "text/plain": [
       "Index(['train_id', 'name', 'item_condition_id', 'category_name', 'brand_name',\n",
       "       'price', 'shipping', 'item_description', 'general_category',\n",
       "       'subcategory_1', 'subcategory_2', 'item_description_char_count',\n",
       "       'item_description_word_count', 'item_description_word_density',\n",
       "       'name_char_count', 'name_word_count', 'name_word_density',\n",
       "       'item_description_top_tfidf_word', 'item_description_top_tfidf_value',\n",
       "       'name_top_tfidf_word', 'name_top_tfidf_value'],\n",
       "      dtype='object')"
      ]
     },
     "execution_count": 4,
     "metadata": {},
     "output_type": "execute_result"
    }
   ],
   "source": [
    "train_df.columns"
   ]
  },
  {
   "cell_type": "markdown",
   "metadata": {},
   "source": [
    "# Predictive Modeling"
   ]
  },
  {
   "cell_type": "markdown",
   "metadata": {},
   "source": [
    "change train_id and test_id to id"
   ]
  },
  {
   "cell_type": "code",
   "execution_count": 5,
   "metadata": {},
   "outputs": [],
   "source": [
    "train_df.rename(columns = {'train_id' : 'id'}, inplace=True)\n",
    "test_df.rename(columns = {\"test_id\" : \"id\"}, inplace=True)"
   ]
  },
  {
   "cell_type": "code",
   "execution_count": 6,
   "metadata": {},
   "outputs": [
    {
     "data": {
      "text/plain": [
       "Index(['id', 'name', 'item_condition_id', 'category_name', 'brand_name',\n",
       "       'price', 'shipping', 'item_description', 'general_category',\n",
       "       'subcategory_1', 'subcategory_2', 'item_description_char_count',\n",
       "       'item_description_word_count', 'item_description_word_density',\n",
       "       'name_char_count', 'name_word_count', 'name_word_density',\n",
       "       'item_description_top_tfidf_word', 'item_description_top_tfidf_value',\n",
       "       'name_top_tfidf_word', 'name_top_tfidf_value'],\n",
       "      dtype='object')"
      ]
     },
     "execution_count": 6,
     "metadata": {},
     "output_type": "execute_result"
    }
   ],
   "source": [
    "train_df.columns"
   ]
  },
  {
   "cell_type": "markdown",
   "metadata": {},
   "source": [
    "convert string to category"
   ]
  },
  {
   "cell_type": "code",
   "execution_count": 7,
   "metadata": {
    "scrolled": false
   },
   "outputs": [
    {
     "name": "stdout",
     "output_type": "stream",
     "text": [
      "CPU times: user 21.5 s, sys: 816 ms, total: 22.3 s\n",
      "Wall time: 18.1 s\n"
     ]
    },
    {
     "data": {
      "text/html": [
       "<div>\n",
       "<style scoped>\n",
       "    .dataframe tbody tr th:only-of-type {\n",
       "        vertical-align: middle;\n",
       "    }\n",
       "\n",
       "    .dataframe tbody tr th {\n",
       "        vertical-align: top;\n",
       "    }\n",
       "\n",
       "    .dataframe thead th {\n",
       "        text-align: right;\n",
       "    }\n",
       "</style>\n",
       "<table border=\"1\" class=\"dataframe\">\n",
       "  <thead>\n",
       "    <tr style=\"text-align: right;\">\n",
       "      <th></th>\n",
       "      <th>name</th>\n",
       "      <th>brand_name</th>\n",
       "      <th>category_name</th>\n",
       "      <th>item_description</th>\n",
       "      <th>general_category</th>\n",
       "      <th>subcategory_1</th>\n",
       "      <th>subcategory_2</th>\n",
       "      <th>item_description_top_tfidf_word</th>\n",
       "      <th>name_top_tfidf_word</th>\n",
       "    </tr>\n",
       "  </thead>\n",
       "  <tbody>\n",
       "    <tr>\n",
       "      <th>0</th>\n",
       "      <td>110376</td>\n",
       "      <td>2490</td>\n",
       "      <td>1119</td>\n",
       "      <td>457436</td>\n",
       "      <td>10</td>\n",
       "      <td>58</td>\n",
       "      <td>626</td>\n",
       "      <td>10</td>\n",
       "      <td>9</td>\n",
       "    </tr>\n",
       "    <tr>\n",
       "      <th>1</th>\n",
       "      <td>21757</td>\n",
       "      <td>2490</td>\n",
       "      <td>826</td>\n",
       "      <td>31753</td>\n",
       "      <td>7</td>\n",
       "      <td>72</td>\n",
       "      <td>657</td>\n",
       "      <td>10</td>\n",
       "      <td>9</td>\n",
       "    </tr>\n",
       "    <tr>\n",
       "      <th>2</th>\n",
       "      <td>140281</td>\n",
       "      <td>814</td>\n",
       "      <td>922</td>\n",
       "      <td>125968</td>\n",
       "      <td>9</td>\n",
       "      <td>7</td>\n",
       "      <td>355</td>\n",
       "      <td>10</td>\n",
       "      <td>9</td>\n",
       "    </tr>\n",
       "    <tr>\n",
       "      <th>3</th>\n",
       "      <td>186403</td>\n",
       "      <td>2490</td>\n",
       "      <td>1170</td>\n",
       "      <td>11516</td>\n",
       "      <td>10</td>\n",
       "      <td>97</td>\n",
       "      <td>158</td>\n",
       "      <td>10</td>\n",
       "      <td>9</td>\n",
       "    </tr>\n",
       "    <tr>\n",
       "      <th>4</th>\n",
       "      <td>277503</td>\n",
       "      <td>2490</td>\n",
       "      <td>790</td>\n",
       "      <td>431600</td>\n",
       "      <td>7</td>\n",
       "      <td>14</td>\n",
       "      <td>621</td>\n",
       "      <td>1</td>\n",
       "      <td>9</td>\n",
       "    </tr>\n",
       "    <tr>\n",
       "      <th>...</th>\n",
       "      <td>...</td>\n",
       "      <td>...</td>\n",
       "      <td>...</td>\n",
       "      <td>...</td>\n",
       "      <td>...</td>\n",
       "      <td>...</td>\n",
       "      <td>...</td>\n",
       "      <td>...</td>\n",
       "      <td>...</td>\n",
       "    </tr>\n",
       "    <tr>\n",
       "      <th>693354</th>\n",
       "      <td>433680</td>\n",
       "      <td>2490</td>\n",
       "      <td>443</td>\n",
       "      <td>207449</td>\n",
       "      <td>3</td>\n",
       "      <td>55</td>\n",
       "      <td>381</td>\n",
       "      <td>9</td>\n",
       "      <td>9</td>\n",
       "    </tr>\n",
       "    <tr>\n",
       "      <th>693355</th>\n",
       "      <td>242028</td>\n",
       "      <td>1616</td>\n",
       "      <td>31</td>\n",
       "      <td>272071</td>\n",
       "      <td>0</td>\n",
       "      <td>63</td>\n",
       "      <td>473</td>\n",
       "      <td>219</td>\n",
       "      <td>9</td>\n",
       "    </tr>\n",
       "    <tr>\n",
       "      <th>693356</th>\n",
       "      <td>204562</td>\n",
       "      <td>2490</td>\n",
       "      <td>79</td>\n",
       "      <td>378171</td>\n",
       "      <td>1</td>\n",
       "      <td>23</td>\n",
       "      <td>165</td>\n",
       "      <td>10</td>\n",
       "      <td>9</td>\n",
       "    </tr>\n",
       "    <tr>\n",
       "      <th>693357</th>\n",
       "      <td>228765</td>\n",
       "      <td>2490</td>\n",
       "      <td>1188</td>\n",
       "      <td>207686</td>\n",
       "      <td>10</td>\n",
       "      <td>99</td>\n",
       "      <td>215</td>\n",
       "      <td>10</td>\n",
       "      <td>9</td>\n",
       "    </tr>\n",
       "    <tr>\n",
       "      <th>693358</th>\n",
       "      <td>178341</td>\n",
       "      <td>2490</td>\n",
       "      <td>1197</td>\n",
       "      <td>24346</td>\n",
       "      <td>10</td>\n",
       "      <td>104</td>\n",
       "      <td>726</td>\n",
       "      <td>10</td>\n",
       "      <td>9</td>\n",
       "    </tr>\n",
       "  </tbody>\n",
       "</table>\n",
       "<p>693359 rows × 9 columns</p>\n",
       "</div>"
      ],
      "text/plain": [
       "          name  brand_name  category_name  item_description  general_category  \\\n",
       "0       110376        2490           1119            457436                10   \n",
       "1        21757        2490            826             31753                 7   \n",
       "2       140281         814            922            125968                 9   \n",
       "3       186403        2490           1170             11516                10   \n",
       "4       277503        2490            790            431600                 7   \n",
       "...        ...         ...            ...               ...               ...   \n",
       "693354  433680        2490            443            207449                 3   \n",
       "693355  242028        1616             31            272071                 0   \n",
       "693356  204562        2490             79            378171                 1   \n",
       "693357  228765        2490           1188            207686                10   \n",
       "693358  178341        2490           1197             24346                10   \n",
       "\n",
       "        subcategory_1  subcategory_2  item_description_top_tfidf_word  \\\n",
       "0                  58            626                               10   \n",
       "1                  72            657                               10   \n",
       "2                   7            355                               10   \n",
       "3                  97            158                               10   \n",
       "4                  14            621                                1   \n",
       "...               ...            ...                              ...   \n",
       "693354             55            381                                9   \n",
       "693355             63            473                              219   \n",
       "693356             23            165                               10   \n",
       "693357             99            215                               10   \n",
       "693358            104            726                               10   \n",
       "\n",
       "        name_top_tfidf_word  \n",
       "0                         9  \n",
       "1                         9  \n",
       "2                         9  \n",
       "3                         9  \n",
       "4                         9  \n",
       "...                     ...  \n",
       "693354                    9  \n",
       "693355                    9  \n",
       "693356                    9  \n",
       "693357                    9  \n",
       "693358                    9  \n",
       "\n",
       "[693359 rows x 9 columns]"
      ]
     },
     "execution_count": 7,
     "metadata": {},
     "output_type": "execute_result"
    }
   ],
   "source": [
    "%%time\n",
    "def str_to_cat(data, col=[\"name\", \"brand_name\", \"category_name\", \"item_description\", \"general_category\", \"subcategory_1\", \"subcategory_2\", \"item_description_top_tfidf_word\", \"name_top_tfidf_word\"]):\n",
    "    for i in col:\n",
    "        data[i] = data[i].astype(\"category\").cat.codes\n",
    "    return data[col]\n",
    "\n",
    "str_to_cat(train_df)\n",
    "str_to_cat(test_df)"
   ]
  },
  {
   "cell_type": "code",
   "execution_count": 8,
   "metadata": {},
   "outputs": [
    {
     "data": {
      "text/plain": [
       "id                                    int64\n",
       "name                                  int32\n",
       "item_condition_id                     int64\n",
       "category_name                         int16\n",
       "brand_name                            int16\n",
       "price                               float64\n",
       "shipping                              int64\n",
       "item_description                      int32\n",
       "general_category                       int8\n",
       "subcategory_1                          int8\n",
       "subcategory_2                         int16\n",
       "item_description_char_count           int64\n",
       "item_description_word_count           int64\n",
       "item_description_word_density       float64\n",
       "name_char_count                       int64\n",
       "name_word_count                       int64\n",
       "name_word_density                   float64\n",
       "item_description_top_tfidf_word       int16\n",
       "item_description_top_tfidf_value    float64\n",
       "name_top_tfidf_word                   int16\n",
       "name_top_tfidf_value                float64\n",
       "dtype: object"
      ]
     },
     "execution_count": 8,
     "metadata": {},
     "output_type": "execute_result"
    }
   ],
   "source": [
    "train_df.dtypes"
   ]
  },
  {
   "cell_type": "code",
   "execution_count": 9,
   "metadata": {
    "scrolled": true
   },
   "outputs": [
    {
     "data": {
      "text/html": [
       "<div>\n",
       "<style scoped>\n",
       "    .dataframe tbody tr th:only-of-type {\n",
       "        vertical-align: middle;\n",
       "    }\n",
       "\n",
       "    .dataframe tbody tr th {\n",
       "        vertical-align: top;\n",
       "    }\n",
       "\n",
       "    .dataframe thead th {\n",
       "        text-align: right;\n",
       "    }\n",
       "</style>\n",
       "<table border=\"1\" class=\"dataframe\">\n",
       "  <thead>\n",
       "    <tr style=\"text-align: right;\">\n",
       "      <th></th>\n",
       "      <th>id</th>\n",
       "      <th>name</th>\n",
       "      <th>item_condition_id</th>\n",
       "      <th>category_name</th>\n",
       "      <th>brand_name</th>\n",
       "      <th>price</th>\n",
       "      <th>shipping</th>\n",
       "      <th>item_description</th>\n",
       "      <th>general_category</th>\n",
       "      <th>subcategory_1</th>\n",
       "      <th>...</th>\n",
       "      <th>item_description_char_count</th>\n",
       "      <th>item_description_word_count</th>\n",
       "      <th>item_description_word_density</th>\n",
       "      <th>name_char_count</th>\n",
       "      <th>name_word_count</th>\n",
       "      <th>name_word_density</th>\n",
       "      <th>item_description_top_tfidf_word</th>\n",
       "      <th>item_description_top_tfidf_value</th>\n",
       "      <th>name_top_tfidf_word</th>\n",
       "      <th>name_top_tfidf_value</th>\n",
       "    </tr>\n",
       "  </thead>\n",
       "  <tbody>\n",
       "    <tr>\n",
       "      <th>0</th>\n",
       "      <td>0</td>\n",
       "      <td>640809</td>\n",
       "      <td>3</td>\n",
       "      <td>808</td>\n",
       "      <td>3074</td>\n",
       "      <td>10.0</td>\n",
       "      <td>1</td>\n",
       "      <td>806610</td>\n",
       "      <td>5</td>\n",
       "      <td>103</td>\n",
       "      <td>...</td>\n",
       "      <td>18</td>\n",
       "      <td>3</td>\n",
       "      <td>4.500000</td>\n",
       "      <td>35</td>\n",
       "      <td>7</td>\n",
       "      <td>4.375000</td>\n",
       "      <td>10</td>\n",
       "      <td>0.000000</td>\n",
       "      <td>9</td>\n",
       "      <td>0.0</td>\n",
       "    </tr>\n",
       "    <tr>\n",
       "      <th>1</th>\n",
       "      <td>1</td>\n",
       "      <td>903932</td>\n",
       "      <td>3</td>\n",
       "      <td>86</td>\n",
       "      <td>3558</td>\n",
       "      <td>52.0</td>\n",
       "      <td>0</td>\n",
       "      <td>1090878</td>\n",
       "      <td>1</td>\n",
       "      <td>30</td>\n",
       "      <td>...</td>\n",
       "      <td>188</td>\n",
       "      <td>36</td>\n",
       "      <td>5.081081</td>\n",
       "      <td>32</td>\n",
       "      <td>4</td>\n",
       "      <td>6.400000</td>\n",
       "      <td>212</td>\n",
       "      <td>7.723773</td>\n",
       "      <td>9</td>\n",
       "      <td>0.0</td>\n",
       "    </tr>\n",
       "    <tr>\n",
       "      <th>2</th>\n",
       "      <td>2</td>\n",
       "      <td>91532</td>\n",
       "      <td>1</td>\n",
       "      <td>1255</td>\n",
       "      <td>4181</td>\n",
       "      <td>10.0</td>\n",
       "      <td>1</td>\n",
       "      <td>115289</td>\n",
       "      <td>10</td>\n",
       "      <td>104</td>\n",
       "      <td>...</td>\n",
       "      <td>124</td>\n",
       "      <td>29</td>\n",
       "      <td>4.133333</td>\n",
       "      <td>14</td>\n",
       "      <td>2</td>\n",
       "      <td>4.666667</td>\n",
       "      <td>103</td>\n",
       "      <td>7.717062</td>\n",
       "      <td>9</td>\n",
       "      <td>0.0</td>\n",
       "    </tr>\n",
       "    <tr>\n",
       "      <th>3</th>\n",
       "      <td>3</td>\n",
       "      <td>561143</td>\n",
       "      <td>1</td>\n",
       "      <td>485</td>\n",
       "      <td>3074</td>\n",
       "      <td>35.0</td>\n",
       "      <td>1</td>\n",
       "      <td>782305</td>\n",
       "      <td>3</td>\n",
       "      <td>55</td>\n",
       "      <td>...</td>\n",
       "      <td>173</td>\n",
       "      <td>32</td>\n",
       "      <td>5.242424</td>\n",
       "      <td>21</td>\n",
       "      <td>3</td>\n",
       "      <td>5.250000</td>\n",
       "      <td>10</td>\n",
       "      <td>0.000000</td>\n",
       "      <td>9</td>\n",
       "      <td>0.0</td>\n",
       "    </tr>\n",
       "    <tr>\n",
       "      <th>4</th>\n",
       "      <td>4</td>\n",
       "      <td>45483</td>\n",
       "      <td>1</td>\n",
       "      <td>1182</td>\n",
       "      <td>3074</td>\n",
       "      <td>44.0</td>\n",
       "      <td>0</td>\n",
       "      <td>366652</td>\n",
       "      <td>10</td>\n",
       "      <td>58</td>\n",
       "      <td>...</td>\n",
       "      <td>41</td>\n",
       "      <td>5</td>\n",
       "      <td>6.833333</td>\n",
       "      <td>20</td>\n",
       "      <td>4</td>\n",
       "      <td>4.000000</td>\n",
       "      <td>10</td>\n",
       "      <td>0.000000</td>\n",
       "      <td>9</td>\n",
       "      <td>0.0</td>\n",
       "    </tr>\n",
       "  </tbody>\n",
       "</table>\n",
       "<p>5 rows × 21 columns</p>\n",
       "</div>"
      ],
      "text/plain": [
       "   id    name  item_condition_id  category_name  brand_name  price  shipping  \\\n",
       "0   0  640809                  3            808        3074   10.0         1   \n",
       "1   1  903932                  3             86        3558   52.0         0   \n",
       "2   2   91532                  1           1255        4181   10.0         1   \n",
       "3   3  561143                  1            485        3074   35.0         1   \n",
       "4   4   45483                  1           1182        3074   44.0         0   \n",
       "\n",
       "   item_description  general_category  subcategory_1  ...  \\\n",
       "0            806610                 5            103  ...   \n",
       "1           1090878                 1             30  ...   \n",
       "2            115289                10            104  ...   \n",
       "3            782305                 3             55  ...   \n",
       "4            366652                10             58  ...   \n",
       "\n",
       "   item_description_char_count  item_description_word_count  \\\n",
       "0                           18                            3   \n",
       "1                          188                           36   \n",
       "2                          124                           29   \n",
       "3                          173                           32   \n",
       "4                           41                            5   \n",
       "\n",
       "   item_description_word_density  name_char_count  name_word_count  \\\n",
       "0                       4.500000               35                7   \n",
       "1                       5.081081               32                4   \n",
       "2                       4.133333               14                2   \n",
       "3                       5.242424               21                3   \n",
       "4                       6.833333               20                4   \n",
       "\n",
       "   name_word_density  item_description_top_tfidf_word  \\\n",
       "0           4.375000                               10   \n",
       "1           6.400000                              212   \n",
       "2           4.666667                              103   \n",
       "3           5.250000                               10   \n",
       "4           4.000000                               10   \n",
       "\n",
       "   item_description_top_tfidf_value  name_top_tfidf_word  name_top_tfidf_value  \n",
       "0                          0.000000                    9                   0.0  \n",
       "1                          7.723773                    9                   0.0  \n",
       "2                          7.717062                    9                   0.0  \n",
       "3                          0.000000                    9                   0.0  \n",
       "4                          0.000000                    9                   0.0  \n",
       "\n",
       "[5 rows x 21 columns]"
      ]
     },
     "execution_count": 9,
     "metadata": {},
     "output_type": "execute_result"
    }
   ],
   "source": [
    "train_df.head()"
   ]
  },
  {
   "cell_type": "code",
   "execution_count": 10,
   "metadata": {
    "scrolled": true
   },
   "outputs": [
    {
     "data": {
      "text/html": [
       "<div>\n",
       "<style scoped>\n",
       "    .dataframe tbody tr th:only-of-type {\n",
       "        vertical-align: middle;\n",
       "    }\n",
       "\n",
       "    .dataframe tbody tr th {\n",
       "        vertical-align: top;\n",
       "    }\n",
       "\n",
       "    .dataframe thead th {\n",
       "        text-align: right;\n",
       "    }\n",
       "</style>\n",
       "<table border=\"1\" class=\"dataframe\">\n",
       "  <thead>\n",
       "    <tr style=\"text-align: right;\">\n",
       "      <th></th>\n",
       "      <th>id</th>\n",
       "      <th>name</th>\n",
       "      <th>item_condition_id</th>\n",
       "      <th>category_name</th>\n",
       "      <th>brand_name</th>\n",
       "      <th>shipping</th>\n",
       "      <th>item_description</th>\n",
       "      <th>general_category</th>\n",
       "      <th>subcategory_1</th>\n",
       "      <th>subcategory_2</th>\n",
       "      <th>item_description_char_count</th>\n",
       "      <th>item_description_word_count</th>\n",
       "      <th>item_description_word_density</th>\n",
       "      <th>name_char_count</th>\n",
       "      <th>name_word_count</th>\n",
       "      <th>name_word_density</th>\n",
       "      <th>item_description_top_tfidf_word</th>\n",
       "      <th>item_description_top_tfidf_value</th>\n",
       "      <th>name_top_tfidf_word</th>\n",
       "      <th>name_top_tfidf_value</th>\n",
       "    </tr>\n",
       "  </thead>\n",
       "  <tbody>\n",
       "    <tr>\n",
       "      <th>0</th>\n",
       "      <td>0</td>\n",
       "      <td>110376</td>\n",
       "      <td>1</td>\n",
       "      <td>1119</td>\n",
       "      <td>2490</td>\n",
       "      <td>1</td>\n",
       "      <td>457436</td>\n",
       "      <td>10</td>\n",
       "      <td>58</td>\n",
       "      <td>626</td>\n",
       "      <td>6</td>\n",
       "      <td>2</td>\n",
       "      <td>2.000000</td>\n",
       "      <td>40</td>\n",
       "      <td>8</td>\n",
       "      <td>4.444444</td>\n",
       "      <td>10</td>\n",
       "      <td>0.000000</td>\n",
       "      <td>9</td>\n",
       "      <td>0.0</td>\n",
       "    </tr>\n",
       "    <tr>\n",
       "      <th>1</th>\n",
       "      <td>1</td>\n",
       "      <td>21757</td>\n",
       "      <td>1</td>\n",
       "      <td>826</td>\n",
       "      <td>2490</td>\n",
       "      <td>1</td>\n",
       "      <td>31753</td>\n",
       "      <td>7</td>\n",
       "      <td>72</td>\n",
       "      <td>657</td>\n",
       "      <td>251</td>\n",
       "      <td>38</td>\n",
       "      <td>6.435897</td>\n",
       "      <td>40</td>\n",
       "      <td>7</td>\n",
       "      <td>5.000000</td>\n",
       "      <td>10</td>\n",
       "      <td>0.000000</td>\n",
       "      <td>9</td>\n",
       "      <td>0.0</td>\n",
       "    </tr>\n",
       "    <tr>\n",
       "      <th>2</th>\n",
       "      <td>2</td>\n",
       "      <td>140281</td>\n",
       "      <td>1</td>\n",
       "      <td>922</td>\n",
       "      <td>814</td>\n",
       "      <td>1</td>\n",
       "      <td>125968</td>\n",
       "      <td>9</td>\n",
       "      <td>7</td>\n",
       "      <td>355</td>\n",
       "      <td>55</td>\n",
       "      <td>11</td>\n",
       "      <td>4.583333</td>\n",
       "      <td>9</td>\n",
       "      <td>2</td>\n",
       "      <td>3.000000</td>\n",
       "      <td>10</td>\n",
       "      <td>0.000000</td>\n",
       "      <td>9</td>\n",
       "      <td>0.0</td>\n",
       "    </tr>\n",
       "    <tr>\n",
       "      <th>3</th>\n",
       "      <td>3</td>\n",
       "      <td>186403</td>\n",
       "      <td>2</td>\n",
       "      <td>1170</td>\n",
       "      <td>2490</td>\n",
       "      <td>0</td>\n",
       "      <td>11516</td>\n",
       "      <td>10</td>\n",
       "      <td>97</td>\n",
       "      <td>158</td>\n",
       "      <td>67</td>\n",
       "      <td>10</td>\n",
       "      <td>6.090909</td>\n",
       "      <td>13</td>\n",
       "      <td>2</td>\n",
       "      <td>4.333333</td>\n",
       "      <td>10</td>\n",
       "      <td>0.000000</td>\n",
       "      <td>9</td>\n",
       "      <td>0.0</td>\n",
       "    </tr>\n",
       "    <tr>\n",
       "      <th>4</th>\n",
       "      <td>4</td>\n",
       "      <td>277503</td>\n",
       "      <td>3</td>\n",
       "      <td>790</td>\n",
       "      <td>2490</td>\n",
       "      <td>1</td>\n",
       "      <td>431600</td>\n",
       "      <td>7</td>\n",
       "      <td>14</td>\n",
       "      <td>621</td>\n",
       "      <td>167</td>\n",
       "      <td>29</td>\n",
       "      <td>5.566667</td>\n",
       "      <td>16</td>\n",
       "      <td>3</td>\n",
       "      <td>4.000000</td>\n",
       "      <td>1</td>\n",
       "      <td>7.696101</td>\n",
       "      <td>9</td>\n",
       "      <td>0.0</td>\n",
       "    </tr>\n",
       "  </tbody>\n",
       "</table>\n",
       "</div>"
      ],
      "text/plain": [
       "   id    name  item_condition_id  category_name  brand_name  shipping  \\\n",
       "0   0  110376                  1           1119        2490         1   \n",
       "1   1   21757                  1            826        2490         1   \n",
       "2   2  140281                  1            922         814         1   \n",
       "3   3  186403                  2           1170        2490         0   \n",
       "4   4  277503                  3            790        2490         1   \n",
       "\n",
       "   item_description  general_category  subcategory_1  subcategory_2  \\\n",
       "0            457436                10             58            626   \n",
       "1             31753                 7             72            657   \n",
       "2            125968                 9              7            355   \n",
       "3             11516                10             97            158   \n",
       "4            431600                 7             14            621   \n",
       "\n",
       "   item_description_char_count  item_description_word_count  \\\n",
       "0                            6                            2   \n",
       "1                          251                           38   \n",
       "2                           55                           11   \n",
       "3                           67                           10   \n",
       "4                          167                           29   \n",
       "\n",
       "   item_description_word_density  name_char_count  name_word_count  \\\n",
       "0                       2.000000               40                8   \n",
       "1                       6.435897               40                7   \n",
       "2                       4.583333                9                2   \n",
       "3                       6.090909               13                2   \n",
       "4                       5.566667               16                3   \n",
       "\n",
       "   name_word_density  item_description_top_tfidf_word  \\\n",
       "0           4.444444                               10   \n",
       "1           5.000000                               10   \n",
       "2           3.000000                               10   \n",
       "3           4.333333                               10   \n",
       "4           4.000000                                1   \n",
       "\n",
       "   item_description_top_tfidf_value  name_top_tfidf_word  name_top_tfidf_value  \n",
       "0                          0.000000                    9                   0.0  \n",
       "1                          0.000000                    9                   0.0  \n",
       "2                          0.000000                    9                   0.0  \n",
       "3                          0.000000                    9                   0.0  \n",
       "4                          7.696101                    9                   0.0  "
      ]
     },
     "execution_count": 10,
     "metadata": {},
     "output_type": "execute_result"
    }
   ],
   "source": [
    "test_df.head()"
   ]
  },
  {
   "cell_type": "code",
   "execution_count": 11,
   "metadata": {},
   "outputs": [
    {
     "data": {
      "text/plain": [
       "(1482535, 21)"
      ]
     },
     "execution_count": 11,
     "metadata": {},
     "output_type": "execute_result"
    }
   ],
   "source": [
    "train_df.shape"
   ]
  },
  {
   "cell_type": "code",
   "execution_count": 12,
   "metadata": {
    "scrolled": true
   },
   "outputs": [
    {
     "data": {
      "text/plain": [
       "(693359, 20)"
      ]
     },
     "execution_count": 12,
     "metadata": {},
     "output_type": "execute_result"
    }
   ],
   "source": [
    "test_df.shape"
   ]
  },
  {
   "cell_type": "code",
   "execution_count": 13,
   "metadata": {
    "scrolled": false
   },
   "outputs": [
    {
     "data": {
      "text/plain": [
       "id                                  183159292396.39\n",
       "name                                124109338563.97\n",
       "item_condition_id                              0.82\n",
       "category_name                             219013.71\n",
       "brand_name                               1129465.33\n",
       "price                                       1488.88\n",
       "shipping                                       0.25\n",
       "item_description                    129805895968.83\n",
       "general_category                              15.91\n",
       "subcategory_1                               1267.29\n",
       "subcategory_2                              63921.71\n",
       "item_description_char_count                30431.55\n",
       "item_description_word_count                  923.77\n",
       "item_description_word_density                  0.78\n",
       "name_char_count                               83.99\n",
       "name_word_count                                2.74\n",
       "name_word_density                              0.84\n",
       "item_description_top_tfidf_word             2842.52\n",
       "item_description_top_tfidf_value              12.79\n",
       "name_top_tfidf_word                         2172.70\n",
       "name_top_tfidf_value                           7.16\n",
       "dtype: object"
      ]
     },
     "execution_count": 13,
     "metadata": {},
     "output_type": "execute_result"
    }
   ],
   "source": [
    "train_df.var().map('{:.2f}'.format)"
   ]
  },
  {
   "cell_type": "code",
   "execution_count": 14,
   "metadata": {},
   "outputs": [],
   "source": [
    "X = train_df.drop(\"price\", axis=1)\n",
    "y = train_df[\"price\"]"
   ]
  },
  {
   "cell_type": "code",
   "execution_count": 15,
   "metadata": {},
   "outputs": [],
   "source": [
    "scaler = StandardScaler()\n",
    "X_scaled = X.copy()\n",
    "test_df_scaled = test_df.copy()\n",
    "\n",
    "X_scaled[X_scaled.columns] = scaler.fit_transform(X[X.columns])\n",
    "test_df_scaled[test_df_scaled.columns] = scaler.fit_transform(test_df[test_df.columns])"
   ]
  },
  {
   "cell_type": "code",
   "execution_count": 16,
   "metadata": {},
   "outputs": [
    {
     "data": {
      "text/plain": [
       "id                                  1.00\n",
       "name                                1.00\n",
       "item_condition_id                   1.00\n",
       "category_name                       1.00\n",
       "brand_name                          1.00\n",
       "shipping                            1.00\n",
       "item_description                    1.00\n",
       "general_category                    1.00\n",
       "subcategory_1                       1.00\n",
       "subcategory_2                       1.00\n",
       "item_description_char_count         1.00\n",
       "item_description_word_count         1.00\n",
       "item_description_word_density       1.00\n",
       "name_char_count                     1.00\n",
       "name_word_count                     1.00\n",
       "name_word_density                   1.00\n",
       "item_description_top_tfidf_word     1.00\n",
       "item_description_top_tfidf_value    1.00\n",
       "name_top_tfidf_word                 1.00\n",
       "name_top_tfidf_value                1.00\n",
       "dtype: object"
      ]
     },
     "execution_count": 16,
     "metadata": {},
     "output_type": "execute_result"
    }
   ],
   "source": [
    "X_scaled.var().map('{:.2f}'.format)"
   ]
  },
  {
   "cell_type": "code",
   "execution_count": 17,
   "metadata": {},
   "outputs": [],
   "source": [
    "X_train, X_test, y_train, y_test = train_test_split(X, y, test_size=0.2, random_state=42)"
   ]
  },
  {
   "cell_type": "markdown",
   "metadata": {},
   "source": [
    "x_train = train_df\n",
    "y_train = y_train.apply(lambda x: np.log(x) if x > 0 else x)"
   ]
  },
  {
   "cell_type": "markdown",
   "metadata": {},
   "source": [
    "## Random Forest"
   ]
  },
  {
   "cell_type": "code",
   "execution_count": 18,
   "metadata": {},
   "outputs": [
    {
     "name": "stdout",
     "output_type": "stream",
     "text": [
      "CPU times: user 9h 57min 26s, sys: 2min 58s, total: 10h 24s\n",
      "Wall time: 1h 25min 17s\n"
     ]
    },
    {
     "data": {
      "text/plain": [
       "RandomForestRegressor(bootstrap=True, criterion='mse', max_depth=None,\n",
       "                      max_features='auto', max_leaf_nodes=None,\n",
       "                      min_impurity_decrease=0.0, min_impurity_split=None,\n",
       "                      min_samples_leaf=3, min_samples_split=2,\n",
       "                      min_weight_fraction_leaf=0.0, n_estimators=1000,\n",
       "                      n_jobs=-1, oob_score=False, random_state=None, verbose=0,\n",
       "                      warm_start=False)"
      ]
     },
     "execution_count": 18,
     "metadata": {},
     "output_type": "execute_result"
    }
   ],
   "source": [
    "%%time\n",
    "rfr = RandomForestRegressor(n_jobs = -1, min_samples_leaf = 3 , n_estimators = 1000)\n",
    "rfr.fit(X_train, y_train)"
   ]
  },
  {
   "cell_type": "code",
   "execution_count": 19,
   "metadata": {
    "scrolled": true
   },
   "outputs": [
    {
     "data": {
      "text/plain": [
       "0.7585515314858644"
      ]
     },
     "execution_count": 19,
     "metadata": {},
     "output_type": "execute_result"
    }
   ],
   "source": [
    "rfr.score(X_train, y_train)"
   ]
  },
  {
   "cell_type": "code",
   "execution_count": 20,
   "metadata": {},
   "outputs": [
    {
     "data": {
      "text/plain": [
       "0.3316270147660772"
      ]
     },
     "execution_count": 20,
     "metadata": {},
     "output_type": "execute_result"
    }
   ],
   "source": [
    "mean_squared_log_error(y_test, rfr.predict(X_test))"
   ]
  },
  {
   "cell_type": "code",
   "execution_count": 23,
   "metadata": {},
   "outputs": [],
   "source": [
    "tree = rfr.estimators_[0]"
   ]
  },
  {
   "cell_type": "code",
   "execution_count": 26,
   "metadata": {},
   "outputs": [],
   "source": [
    "%%time\n",
    "export_graphviz(tree, out_file = 'tree.dot', feature_names = X_scaled.columns, rounded = True, precision = 1)\n",
    "(graph, ) = pydot.graph_from_dot_file('tree.dot')"
   ]
  },
  {
   "cell_type": "code",
   "execution_count": null,
   "metadata": {},
   "outputs": [],
   "source": [
    "graph.write_png('tree.png')"
   ]
  },
  {
   "cell_type": "code",
   "execution_count": 27,
   "metadata": {},
   "outputs": [
    {
     "name": "stdout",
     "output_type": "stream",
     "text": [
      "Variable: category_name        Importance: 0.16\n",
      "Variable: brand_name           Importance: 0.15\n",
      "Variable: name                 Importance: 0.11\n",
      "Variable: item_description     Importance: 0.07\n",
      "Variable: id                   Importance: 0.06\n",
      "Variable: subcategory_2        Importance: 0.06\n",
      "Variable: item_description_char_count Importance: 0.06\n",
      "Variable: item_description_word_density Importance: 0.06\n",
      "Variable: name_word_density    Importance: 0.05\n",
      "Variable: item_condition_id    Importance: 0.04\n",
      "Variable: name_char_count      Importance: 0.04\n",
      "Variable: subcategory_1        Importance: 0.03\n",
      "Variable: item_description_word_count Importance: 0.03\n",
      "Variable: name_word_count      Importance: 0.02\n",
      "Variable: item_description_top_tfidf_word Importance: 0.02\n",
      "Variable: item_description_top_tfidf_value Importance: 0.02\n",
      "Variable: shipping             Importance: 0.01\n",
      "Variable: name_top_tfidf_value Importance: 0.01\n",
      "Variable: general_category     Importance: 0.0\n",
      "Variable: name_top_tfidf_word  Importance: 0.0\n"
     ]
    }
   ],
   "source": [
    "importances = list(rfr.feature_importances_)\n",
    "feature_importances = [(feature, round(importance, 2)) for feature, importance in zip(X_scaled.columns, importances)]\n",
    "feature_importances = sorted(feature_importances, key = lambda x: x[1], reverse = True)\n",
    "[print('Variable: {:20} Importance: {}'.format(*pair)) for pair in feature_importances];"
   ]
  },
  {
   "cell_type": "code",
   "execution_count": null,
   "metadata": {},
   "outputs": [],
   "source": []
  },
  {
   "cell_type": "markdown",
   "metadata": {
    "collapsed": true
   },
   "source": [
    "# Output submission file"
   ]
  },
  {
   "cell_type": "code",
   "execution_count": 21,
   "metadata": {},
   "outputs": [],
   "source": [
    "y_pred_rfr = rfr.predict(test_df_scaled)\n",
    "y_pred_rfr = pd.Series(y_pred_rfr)\n",
    "\n",
    "submission = pd.concat([test_df.id , y_pred_rfr] , axis = 1)\n",
    "submission.columns = [\"test_id\" , \"price\"]\n",
    "submission.to_csv(\"data/y_pred_rf.csv\" , index = False)"
   ]
  },
  {
   "cell_type": "code",
   "execution_count": null,
   "metadata": {},
   "outputs": [],
   "source": []
  }
 ],
 "metadata": {
  "kernelspec": {
   "display_name": "Python 3",
   "language": "python",
   "name": "python3"
  },
  "language_info": {
   "codemirror_mode": {
    "name": "ipython",
    "version": 3
   },
   "file_extension": ".py",
   "mimetype": "text/x-python",
   "name": "python",
   "nbconvert_exporter": "python",
   "pygments_lexer": "ipython3",
   "version": "3.7.4"
  }
 },
 "nbformat": 4,
 "nbformat_minor": 2
}
