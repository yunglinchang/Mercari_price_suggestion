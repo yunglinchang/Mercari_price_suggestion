{
 "cells": [
  {
   "cell_type": "markdown",
   "metadata": {},
   "source": [
    "# [Mercari Price Suggestion Challenge](https://www.kaggle.com/c/mercari-price-suggestion-challenge)\n",
    "Can you automatically suggest product prices to online sellers?"
   ]
  },
  {
   "cell_type": "markdown",
   "metadata": {},
   "source": [
    "# Import packages"
   ]
  },
  {
   "cell_type": "code",
   "execution_count": 55,
   "metadata": {},
   "outputs": [],
   "source": [
    "import pandas as pd #data processing\n",
    "import numpy as np #linear algebra\n",
    "from scipy import stats\n",
    "from scipy.cluster.hierarchy import linkage, dendrogram\n",
    "\n",
    "%matplotlib inline\n",
    "import matplotlib.pyplot as plt #commonly used visualization tool\n",
    "import seaborn as sns #new visualization tool\n",
    "from string import ascii_letters\n",
    "from wordcloud import WordCloud\n",
    "\n",
    "from sklearn.cluster import KMeans\n",
    "from sklearn.pipeline import make_pipeline, Pipeline\n",
    "from sklearn.preprocessing import StandardScaler\n",
    "from sklearn.model_selection import GridSearchCV #hyper-parameter tuning\n",
    "from sklearn.ensemble import RandomForestRegressor"
   ]
  },
  {
   "cell_type": "markdown",
   "metadata": {},
   "source": [
    "# Import data"
   ]
  },
  {
   "cell_type": "code",
   "execution_count": 56,
   "metadata": {},
   "outputs": [
    {
     "name": "stdout",
     "output_type": "stream",
     "text": [
      "CPU times: user 7.46 s, sys: 1.25 s, total: 8.71 s\n",
      "Wall time: 8.07 s\n"
     ]
    }
   ],
   "source": [
    "%%time\n",
    "train_df = pd.read_csv(\"data/train_df.csv\", low_memory= True)\n",
    "test_df = pd.read_csv(\"data/test_df.tsv\", low_memory= True)"
   ]
  },
  {
   "cell_type": "code",
   "execution_count": 57,
   "metadata": {
    "scrolled": true
   },
   "outputs": [
    {
     "data": {
      "text/html": [
       "<div>\n",
       "<style scoped>\n",
       "    .dataframe tbody tr th:only-of-type {\n",
       "        vertical-align: middle;\n",
       "    }\n",
       "\n",
       "    .dataframe tbody tr th {\n",
       "        vertical-align: top;\n",
       "    }\n",
       "\n",
       "    .dataframe thead th {\n",
       "        text-align: right;\n",
       "    }\n",
       "</style>\n",
       "<table border=\"1\" class=\"dataframe\">\n",
       "  <thead>\n",
       "    <tr style=\"text-align: right;\">\n",
       "      <th></th>\n",
       "      <th>train_id</th>\n",
       "      <th>name</th>\n",
       "      <th>item_condition_id</th>\n",
       "      <th>category_name</th>\n",
       "      <th>brand_name</th>\n",
       "      <th>price</th>\n",
       "      <th>shipping</th>\n",
       "      <th>item_description</th>\n",
       "    </tr>\n",
       "  </thead>\n",
       "  <tbody>\n",
       "    <tr>\n",
       "      <th>0</th>\n",
       "      <td>0</td>\n",
       "      <td>MLB Cincinnati Reds T Shirt Size XL</td>\n",
       "      <td>3</td>\n",
       "      <td>Men/Tops/T-shirts</td>\n",
       "      <td>NaN</td>\n",
       "      <td>10.000000</td>\n",
       "      <td>1</td>\n",
       "      <td>No description yet</td>\n",
       "    </tr>\n",
       "    <tr>\n",
       "      <th>1</th>\n",
       "      <td>1</td>\n",
       "      <td>Razer BlackWidow Chroma Keyboard</td>\n",
       "      <td>3</td>\n",
       "      <td>Electronics/Computers &amp; Tablets/Components &amp; P...</td>\n",
       "      <td>Razer</td>\n",
       "      <td>52.000000</td>\n",
       "      <td>0</td>\n",
       "      <td>This keyboard is in great condition and works ...</td>\n",
       "    </tr>\n",
       "    <tr>\n",
       "      <th>2</th>\n",
       "      <td>2</td>\n",
       "      <td>AVA-VIV Blouse</td>\n",
       "      <td>1</td>\n",
       "      <td>Women/Tops &amp; Blouses/Blouse</td>\n",
       "      <td>Target</td>\n",
       "      <td>10.000000</td>\n",
       "      <td>1</td>\n",
       "      <td>Adorable top with a hint of lace and a key hol...</td>\n",
       "    </tr>\n",
       "    <tr>\n",
       "      <th>3</th>\n",
       "      <td>3</td>\n",
       "      <td>Leather Horse Statues</td>\n",
       "      <td>1</td>\n",
       "      <td>Home/Home Décor/Home Décor Accents</td>\n",
       "      <td>NaN</td>\n",
       "      <td>35.000000</td>\n",
       "      <td>1</td>\n",
       "      <td>New with tags. Leather horses. Retail for [rm]...</td>\n",
       "    </tr>\n",
       "    <tr>\n",
       "      <th>4</th>\n",
       "      <td>4</td>\n",
       "      <td>24K GOLD plated rose</td>\n",
       "      <td>1</td>\n",
       "      <td>Women/Jewelry/Necklaces</td>\n",
       "      <td>NaN</td>\n",
       "      <td>44.000000</td>\n",
       "      <td>0</td>\n",
       "      <td>Complete with certificate of authenticity</td>\n",
       "    </tr>\n",
       "  </tbody>\n",
       "</table>\n",
       "</div>"
      ],
      "text/plain": [
       "   train_id                                 name  item_condition_id  \\\n",
       "0         0  MLB Cincinnati Reds T Shirt Size XL                  3   \n",
       "1         1     Razer BlackWidow Chroma Keyboard                  3   \n",
       "2         2                       AVA-VIV Blouse                  1   \n",
       "3         3                Leather Horse Statues                  1   \n",
       "4         4                 24K GOLD plated rose                  1   \n",
       "\n",
       "                                       category_name brand_name     price  \\\n",
       "0                                  Men/Tops/T-shirts        NaN 10.000000   \n",
       "1  Electronics/Computers & Tablets/Components & P...      Razer 52.000000   \n",
       "2                        Women/Tops & Blouses/Blouse     Target 10.000000   \n",
       "3                 Home/Home Décor/Home Décor Accents        NaN 35.000000   \n",
       "4                            Women/Jewelry/Necklaces        NaN 44.000000   \n",
       "\n",
       "   shipping                                   item_description  \n",
       "0         1                                 No description yet  \n",
       "1         0  This keyboard is in great condition and works ...  \n",
       "2         1  Adorable top with a hint of lace and a key hol...  \n",
       "3         1  New with tags. Leather horses. Retail for [rm]...  \n",
       "4         0          Complete with certificate of authenticity  "
      ]
     },
     "execution_count": 57,
     "metadata": {},
     "output_type": "execute_result"
    }
   ],
   "source": [
    "train_df.head()"
   ]
  },
  {
   "cell_type": "code",
   "execution_count": 58,
   "metadata": {
    "scrolled": true
   },
   "outputs": [
    {
     "data": {
      "text/plain": [
       "Index(['train_id', 'name', 'item_condition_id', 'category_name', 'brand_name',\n",
       "       'price', 'shipping', 'item_description'],\n",
       "      dtype='object')"
      ]
     },
     "execution_count": 58,
     "metadata": {},
     "output_type": "execute_result"
    }
   ],
   "source": [
    "train_df.columns"
   ]
  },
  {
   "cell_type": "markdown",
   "metadata": {},
   "source": [
    "# Predictive Modeling"
   ]
  },
  {
   "cell_type": "markdown",
   "metadata": {},
   "source": [
    "先把id改好，改成統一"
   ]
  },
  {
   "cell_type": "code",
   "execution_count": 137,
   "metadata": {},
   "outputs": [],
   "source": [
    "train_df = train_df.rename(columns = {'train_id' : 'id'})\n",
    "test_df = test_df.rename(columns = {\"test_id\" : \"id\"})"
   ]
  },
  {
   "cell_type": "markdown",
   "metadata": {},
   "source": [
    "要把test and train dataset combine"
   ]
  },
  {
   "cell_type": "code",
   "execution_count": 138,
   "metadata": {},
   "outputs": [],
   "source": [
    "train_df['is_train'] = 1\n",
    "test_df['is_train'] = 0 "
   ]
  },
  {
   "cell_type": "markdown",
   "metadata": {},
   "source": [
    "利用pd.concat，不包含price"
   ]
  },
  {
   "cell_type": "code",
   "execution_count": 139,
   "metadata": {},
   "outputs": [
    {
     "name": "stderr",
     "output_type": "stream",
     "text": [
      "C:\\Users\\Jack Chang\\Anaconda3\\envs\\tensorflow\\lib\\site-packages\\ipykernel_launcher.py:2: FutureWarning: Sorting because non-concatenation axis is not aligned. A future version\n",
      "of pandas will change to not sort by default.\n",
      "\n",
      "To accept the future behavior, pass 'sort=False'.\n",
      "\n",
      "To retain the current behavior and silence the warning, pass 'sort=True'.\n",
      "\n",
      "  \n"
     ]
    }
   ],
   "source": [
    "y_train = train_df.price\n",
    "train_test_combine = pd.concat([train_df.drop(['price'] , axis = 1) , test_df], axis = 0)"
   ]
  },
  {
   "cell_type": "code",
   "execution_count": 140,
   "metadata": {},
   "outputs": [
    {
     "data": {
      "text/html": [
       "<div>\n",
       "<style scoped>\n",
       "    .dataframe tbody tr th:only-of-type {\n",
       "        vertical-align: middle;\n",
       "    }\n",
       "\n",
       "    .dataframe tbody tr th {\n",
       "        vertical-align: top;\n",
       "    }\n",
       "\n",
       "    .dataframe thead th {\n",
       "        text-align: right;\n",
       "    }\n",
       "</style>\n",
       "<table border=\"1\" class=\"dataframe\">\n",
       "  <thead>\n",
       "    <tr style=\"text-align: right;\">\n",
       "      <th></th>\n",
       "      <th>brand_name</th>\n",
       "      <th>category_name</th>\n",
       "      <th>des_len</th>\n",
       "      <th>general_category</th>\n",
       "      <th>id</th>\n",
       "      <th>is_train</th>\n",
       "      <th>item_condition_id</th>\n",
       "      <th>item_description</th>\n",
       "      <th>log_price</th>\n",
       "      <th>name</th>\n",
       "      <th>name_len</th>\n",
       "      <th>shipping</th>\n",
       "      <th>subcategory_1</th>\n",
       "      <th>subcategory_2</th>\n",
       "    </tr>\n",
       "  </thead>\n",
       "  <tbody>\n",
       "    <tr>\n",
       "      <th>0</th>\n",
       "      <td>NoBrand</td>\n",
       "      <td>Men/Tops/T-shirts</td>\n",
       "      <td>18</td>\n",
       "      <td>Men</td>\n",
       "      <td>0</td>\n",
       "      <td>1</td>\n",
       "      <td>3</td>\n",
       "      <td>No description yet</td>\n",
       "      <td>2.397895</td>\n",
       "      <td>MLB Cincinnati Reds T Shirt Size XL</td>\n",
       "      <td>35</td>\n",
       "      <td>1</td>\n",
       "      <td>Tops</td>\n",
       "      <td>T-shirts</td>\n",
       "    </tr>\n",
       "    <tr>\n",
       "      <th>1</th>\n",
       "      <td>Razer</td>\n",
       "      <td>Electronics/Computers &amp; Tablets/Components &amp; P...</td>\n",
       "      <td>188</td>\n",
       "      <td>Electronics</td>\n",
       "      <td>1</td>\n",
       "      <td>1</td>\n",
       "      <td>3</td>\n",
       "      <td>This keyboard is in great condition and works ...</td>\n",
       "      <td>3.970292</td>\n",
       "      <td>Razer BlackWidow Chroma Keyboard</td>\n",
       "      <td>32</td>\n",
       "      <td>0</td>\n",
       "      <td>Computers &amp; Tablets</td>\n",
       "      <td>Components &amp; Parts</td>\n",
       "    </tr>\n",
       "    <tr>\n",
       "      <th>2</th>\n",
       "      <td>Target</td>\n",
       "      <td>Women/Tops &amp; Blouses/Blouse</td>\n",
       "      <td>124</td>\n",
       "      <td>Women</td>\n",
       "      <td>2</td>\n",
       "      <td>1</td>\n",
       "      <td>1</td>\n",
       "      <td>Adorable top with a hint of lace and a key hol...</td>\n",
       "      <td>2.397895</td>\n",
       "      <td>AVA-VIV Blouse</td>\n",
       "      <td>14</td>\n",
       "      <td>1</td>\n",
       "      <td>Tops &amp; Blouses</td>\n",
       "      <td>Blouse</td>\n",
       "    </tr>\n",
       "    <tr>\n",
       "      <th>3</th>\n",
       "      <td>NoBrand</td>\n",
       "      <td>Home/Home Décor/Home Décor Accents</td>\n",
       "      <td>173</td>\n",
       "      <td>Home</td>\n",
       "      <td>3</td>\n",
       "      <td>1</td>\n",
       "      <td>1</td>\n",
       "      <td>New with tags. Leather horses. Retail for [rm]...</td>\n",
       "      <td>3.583519</td>\n",
       "      <td>Leather Horse Statues</td>\n",
       "      <td>21</td>\n",
       "      <td>1</td>\n",
       "      <td>Home Décor</td>\n",
       "      <td>Home Décor Accents</td>\n",
       "    </tr>\n",
       "    <tr>\n",
       "      <th>4</th>\n",
       "      <td>NoBrand</td>\n",
       "      <td>Women/Jewelry/Necklaces</td>\n",
       "      <td>41</td>\n",
       "      <td>Women</td>\n",
       "      <td>4</td>\n",
       "      <td>1</td>\n",
       "      <td>1</td>\n",
       "      <td>Complete with certificate of authenticity</td>\n",
       "      <td>3.806662</td>\n",
       "      <td>24K GOLD plated rose</td>\n",
       "      <td>20</td>\n",
       "      <td>0</td>\n",
       "      <td>Jewelry</td>\n",
       "      <td>Necklaces</td>\n",
       "    </tr>\n",
       "  </tbody>\n",
       "</table>\n",
       "</div>"
      ],
      "text/plain": [
       "  brand_name                                      category_name  des_len  \\\n",
       "0    NoBrand                                  Men/Tops/T-shirts       18   \n",
       "1      Razer  Electronics/Computers & Tablets/Components & P...      188   \n",
       "2     Target                        Women/Tops & Blouses/Blouse      124   \n",
       "3    NoBrand                 Home/Home Décor/Home Décor Accents      173   \n",
       "4    NoBrand                            Women/Jewelry/Necklaces       41   \n",
       "\n",
       "  general_category  id  is_train  item_condition_id  \\\n",
       "0              Men   0         1                  3   \n",
       "1      Electronics   1         1                  3   \n",
       "2            Women   2         1                  1   \n",
       "3             Home   3         1                  1   \n",
       "4            Women   4         1                  1   \n",
       "\n",
       "                                    item_description  log_price  \\\n",
       "0                                 No description yet   2.397895   \n",
       "1  This keyboard is in great condition and works ...   3.970292   \n",
       "2  Adorable top with a hint of lace and a key hol...   2.397895   \n",
       "3  New with tags. Leather horses. Retail for [rm]...   3.583519   \n",
       "4          Complete with certificate of authenticity   3.806662   \n",
       "\n",
       "                                  name  name_len  shipping  \\\n",
       "0  MLB Cincinnati Reds T Shirt Size XL        35         1   \n",
       "1     Razer BlackWidow Chroma Keyboard        32         0   \n",
       "2                       AVA-VIV Blouse        14         1   \n",
       "3                Leather Horse Statues        21         1   \n",
       "4                 24K GOLD plated rose        20         0   \n",
       "\n",
       "         subcategory_1       subcategory_2  \n",
       "0                 Tops            T-shirts  \n",
       "1  Computers & Tablets  Components & Parts  \n",
       "2       Tops & Blouses              Blouse  \n",
       "3           Home Décor  Home Décor Accents  \n",
       "4              Jewelry           Necklaces  "
      ]
     },
     "execution_count": 140,
     "metadata": {},
     "output_type": "execute_result"
    }
   ],
   "source": [
    "train_test_combine.head()"
   ]
  },
  {
   "cell_type": "markdown",
   "metadata": {},
   "source": [
    "Convert string to category"
   ]
  },
  {
   "cell_type": "code",
   "execution_count": 141,
   "metadata": {},
   "outputs": [],
   "source": [
    "train_test_combine.category_name = train_test_combine.category_name.astype('category')\n",
    "train_test_combine.item_description = train_test_combine.item_description.astype('category')\n",
    "train_test_combine.name = train_test_combine.name.astype('category')\n",
    "train_test_combine.brand_name = train_test_combine.brand_name.astype('category')\n",
    "train_test_combine.general_category = train_test_combine.general_category.astype('category')\n",
    "train_test_combine.subcategory_1 = train_test_combine.subcategory_1.astype('category')\n",
    "train_test_combine.subcategory_2 = train_test_combine.subcategory_2.astype('category')"
   ]
  },
  {
   "cell_type": "markdown",
   "metadata": {},
   "source": [
    "cat.codes提取底層整數的方法"
   ]
  },
  {
   "cell_type": "code",
   "execution_count": 142,
   "metadata": {},
   "outputs": [],
   "source": [
    "train_test_combine.name = train_test_combine.name.cat.codes\n",
    "train_test_combine.brand_name = train_test_combine.brand_name.cat.codes\n",
    "train_test_combine.item_description = train_test_combine.item_description.cat.codes\n",
    "train_test_combine.category_name = train_test_combine.category_name.cat.codes\n",
    "train_test_combine.general_category = train_test_combine.general_category.cat.codes\n",
    "train_test_combine.subcategory_1 = train_test_combine.subcategory_1.cat.codes\n",
    "train_test_combine.subcategory_2 = train_test_combine.subcategory_2.cat.codes"
   ]
  },
  {
   "cell_type": "code",
   "execution_count": 143,
   "metadata": {},
   "outputs": [
    {
     "data": {
      "text/html": [
       "<div>\n",
       "<style scoped>\n",
       "    .dataframe tbody tr th:only-of-type {\n",
       "        vertical-align: middle;\n",
       "    }\n",
       "\n",
       "    .dataframe tbody tr th {\n",
       "        vertical-align: top;\n",
       "    }\n",
       "\n",
       "    .dataframe thead th {\n",
       "        text-align: right;\n",
       "    }\n",
       "</style>\n",
       "<table border=\"1\" class=\"dataframe\">\n",
       "  <thead>\n",
       "    <tr style=\"text-align: right;\">\n",
       "      <th></th>\n",
       "      <th>brand_name</th>\n",
       "      <th>category_name</th>\n",
       "      <th>des_len</th>\n",
       "      <th>general_category</th>\n",
       "      <th>id</th>\n",
       "      <th>is_train</th>\n",
       "      <th>item_condition_id</th>\n",
       "      <th>item_description</th>\n",
       "      <th>log_price</th>\n",
       "      <th>name</th>\n",
       "      <th>name_len</th>\n",
       "      <th>shipping</th>\n",
       "      <th>subcategory_1</th>\n",
       "      <th>subcategory_2</th>\n",
       "    </tr>\n",
       "  </thead>\n",
       "  <tbody>\n",
       "    <tr>\n",
       "      <th>0</th>\n",
       "      <td>3357</td>\n",
       "      <td>829</td>\n",
       "      <td>18</td>\n",
       "      <td>5</td>\n",
       "      <td>0</td>\n",
       "      <td>1</td>\n",
       "      <td>3</td>\n",
       "      <td>1172053</td>\n",
       "      <td>2.397895</td>\n",
       "      <td>916335</td>\n",
       "      <td>35</td>\n",
       "      <td>1</td>\n",
       "      <td>103</td>\n",
       "      <td>774</td>\n",
       "    </tr>\n",
       "    <tr>\n",
       "      <th>1</th>\n",
       "      <td>3890</td>\n",
       "      <td>86</td>\n",
       "      <td>188</td>\n",
       "      <td>1</td>\n",
       "      <td>1</td>\n",
       "      <td>1</td>\n",
       "      <td>3</td>\n",
       "      <td>1585539</td>\n",
       "      <td>3.970292</td>\n",
       "      <td>1292428</td>\n",
       "      <td>32</td>\n",
       "      <td>0</td>\n",
       "      <td>30</td>\n",
       "      <td>215</td>\n",
       "    </tr>\n",
       "    <tr>\n",
       "      <th>2</th>\n",
       "      <td>4589</td>\n",
       "      <td>1278</td>\n",
       "      <td>124</td>\n",
       "      <td>10</td>\n",
       "      <td>2</td>\n",
       "      <td>1</td>\n",
       "      <td>1</td>\n",
       "      <td>167133</td>\n",
       "      <td>2.397895</td>\n",
       "      <td>131013</td>\n",
       "      <td>14</td>\n",
       "      <td>1</td>\n",
       "      <td>104</td>\n",
       "      <td>97</td>\n",
       "    </tr>\n",
       "    <tr>\n",
       "      <th>3</th>\n",
       "      <td>3357</td>\n",
       "      <td>503</td>\n",
       "      <td>173</td>\n",
       "      <td>3</td>\n",
       "      <td>3</td>\n",
       "      <td>1</td>\n",
       "      <td>1</td>\n",
       "      <td>1136643</td>\n",
       "      <td>3.583519</td>\n",
       "      <td>802671</td>\n",
       "      <td>21</td>\n",
       "      <td>1</td>\n",
       "      <td>55</td>\n",
       "      <td>410</td>\n",
       "    </tr>\n",
       "    <tr>\n",
       "      <th>4</th>\n",
       "      <td>3357</td>\n",
       "      <td>1205</td>\n",
       "      <td>41</td>\n",
       "      <td>10</td>\n",
       "      <td>4</td>\n",
       "      <td>1</td>\n",
       "      <td>1</td>\n",
       "      <td>531909</td>\n",
       "      <td>3.806662</td>\n",
       "      <td>65051</td>\n",
       "      <td>20</td>\n",
       "      <td>0</td>\n",
       "      <td>58</td>\n",
       "      <td>542</td>\n",
       "    </tr>\n",
       "  </tbody>\n",
       "</table>\n",
       "</div>"
      ],
      "text/plain": [
       "   brand_name  category_name  des_len  general_category  id  is_train  \\\n",
       "0        3357            829       18                 5   0         1   \n",
       "1        3890             86      188                 1   1         1   \n",
       "2        4589           1278      124                10   2         1   \n",
       "3        3357            503      173                 3   3         1   \n",
       "4        3357           1205       41                10   4         1   \n",
       "\n",
       "   item_condition_id  item_description  log_price     name  name_len  \\\n",
       "0                  3           1172053   2.397895   916335        35   \n",
       "1                  3           1585539   3.970292  1292428        32   \n",
       "2                  1            167133   2.397895   131013        14   \n",
       "3                  1           1136643   3.583519   802671        21   \n",
       "4                  1            531909   3.806662    65051        20   \n",
       "\n",
       "   shipping  subcategory_1  subcategory_2  \n",
       "0         1            103            774  \n",
       "1         0             30            215  \n",
       "2         1            104             97  \n",
       "3         1             55            410  \n",
       "4         0             58            542  "
      ]
     },
     "execution_count": 143,
     "metadata": {},
     "output_type": "execute_result"
    }
   ],
   "source": [
    "train_test_combine.head()"
   ]
  },
  {
   "cell_type": "code",
   "execution_count": 144,
   "metadata": {},
   "outputs": [
    {
     "name": "stdout",
     "output_type": "stream",
     "text": [
      "brand_name                0\n",
      "category_name             0\n",
      "des_len                   0\n",
      "general_category          0\n",
      "id                        0\n",
      "is_train                  0\n",
      "item_condition_id         0\n",
      "item_description          0\n",
      "log_price            693359\n",
      "name                      0\n",
      "name_len                  0\n",
      "shipping                  0\n",
      "subcategory_1             0\n",
      "subcategory_2             0\n",
      "dtype: int64\n"
     ]
    }
   ],
   "source": [
    "print(pd.isnull(train_test_combine).sum())"
   ]
  },
  {
   "cell_type": "code",
   "execution_count": 145,
   "metadata": {},
   "outputs": [],
   "source": [
    "columns = ['log_price']\n",
    "train_test_combine.drop(columns, inplace=True, axis=1)"
   ]
  },
  {
   "cell_type": "markdown",
   "metadata": {},
   "source": [
    "成功轉換"
   ]
  },
  {
   "cell_type": "code",
   "execution_count": 146,
   "metadata": {},
   "outputs": [
    {
     "data": {
      "text/plain": [
       "brand_name           int16\n",
       "category_name        int16\n",
       "des_len              int64\n",
       "general_category      int8\n",
       "id                   int64\n",
       "is_train             int64\n",
       "item_condition_id    int32\n",
       "item_description     int32\n",
       "name                 int32\n",
       "name_len             int64\n",
       "shipping              int8\n",
       "subcategory_1         int8\n",
       "subcategory_2        int16\n",
       "dtype: object"
      ]
     },
     "execution_count": 146,
     "metadata": {},
     "output_type": "execute_result"
    }
   ],
   "source": [
    "train_test_combine.dtypes"
   ]
  },
  {
   "cell_type": "markdown",
   "metadata": {},
   "source": [
    "再把他分開"
   ]
  },
  {
   "cell_type": "code",
   "execution_count": 147,
   "metadata": {},
   "outputs": [],
   "source": [
    "train_df = train_test_combine.loc[train_test_combine['is_train'] == 1]\n",
    "test_df = train_test_combine.loc[train_test_combine['is_train'] == 0]"
   ]
  },
  {
   "cell_type": "code",
   "execution_count": 148,
   "metadata": {},
   "outputs": [],
   "source": [
    "train_df = train_df.drop(['is_train'] , axis = 1)\n",
    "test_df = test_df.drop(['is_train'] , axis = 1)"
   ]
  },
  {
   "cell_type": "code",
   "execution_count": 149,
   "metadata": {},
   "outputs": [
    {
     "data": {
      "text/html": [
       "<div>\n",
       "<style scoped>\n",
       "    .dataframe tbody tr th:only-of-type {\n",
       "        vertical-align: middle;\n",
       "    }\n",
       "\n",
       "    .dataframe tbody tr th {\n",
       "        vertical-align: top;\n",
       "    }\n",
       "\n",
       "    .dataframe thead th {\n",
       "        text-align: right;\n",
       "    }\n",
       "</style>\n",
       "<table border=\"1\" class=\"dataframe\">\n",
       "  <thead>\n",
       "    <tr style=\"text-align: right;\">\n",
       "      <th></th>\n",
       "      <th>brand_name</th>\n",
       "      <th>category_name</th>\n",
       "      <th>des_len</th>\n",
       "      <th>general_category</th>\n",
       "      <th>id</th>\n",
       "      <th>item_condition_id</th>\n",
       "      <th>item_description</th>\n",
       "      <th>name</th>\n",
       "      <th>name_len</th>\n",
       "      <th>shipping</th>\n",
       "      <th>subcategory_1</th>\n",
       "      <th>subcategory_2</th>\n",
       "    </tr>\n",
       "  </thead>\n",
       "  <tbody>\n",
       "    <tr>\n",
       "      <th>0</th>\n",
       "      <td>3357</td>\n",
       "      <td>829</td>\n",
       "      <td>18</td>\n",
       "      <td>5</td>\n",
       "      <td>0</td>\n",
       "      <td>3</td>\n",
       "      <td>1172053</td>\n",
       "      <td>916335</td>\n",
       "      <td>35</td>\n",
       "      <td>1</td>\n",
       "      <td>103</td>\n",
       "      <td>774</td>\n",
       "    </tr>\n",
       "    <tr>\n",
       "      <th>1</th>\n",
       "      <td>3890</td>\n",
       "      <td>86</td>\n",
       "      <td>188</td>\n",
       "      <td>1</td>\n",
       "      <td>1</td>\n",
       "      <td>3</td>\n",
       "      <td>1585539</td>\n",
       "      <td>1292428</td>\n",
       "      <td>32</td>\n",
       "      <td>0</td>\n",
       "      <td>30</td>\n",
       "      <td>215</td>\n",
       "    </tr>\n",
       "    <tr>\n",
       "      <th>2</th>\n",
       "      <td>4589</td>\n",
       "      <td>1278</td>\n",
       "      <td>124</td>\n",
       "      <td>10</td>\n",
       "      <td>2</td>\n",
       "      <td>1</td>\n",
       "      <td>167133</td>\n",
       "      <td>131013</td>\n",
       "      <td>14</td>\n",
       "      <td>1</td>\n",
       "      <td>104</td>\n",
       "      <td>97</td>\n",
       "    </tr>\n",
       "    <tr>\n",
       "      <th>3</th>\n",
       "      <td>3357</td>\n",
       "      <td>503</td>\n",
       "      <td>173</td>\n",
       "      <td>3</td>\n",
       "      <td>3</td>\n",
       "      <td>1</td>\n",
       "      <td>1136643</td>\n",
       "      <td>802671</td>\n",
       "      <td>21</td>\n",
       "      <td>1</td>\n",
       "      <td>55</td>\n",
       "      <td>410</td>\n",
       "    </tr>\n",
       "    <tr>\n",
       "      <th>4</th>\n",
       "      <td>3357</td>\n",
       "      <td>1205</td>\n",
       "      <td>41</td>\n",
       "      <td>10</td>\n",
       "      <td>4</td>\n",
       "      <td>1</td>\n",
       "      <td>531909</td>\n",
       "      <td>65051</td>\n",
       "      <td>20</td>\n",
       "      <td>0</td>\n",
       "      <td>58</td>\n",
       "      <td>542</td>\n",
       "    </tr>\n",
       "  </tbody>\n",
       "</table>\n",
       "</div>"
      ],
      "text/plain": [
       "   brand_name  category_name  des_len  general_category  id  \\\n",
       "0        3357            829       18                 5   0   \n",
       "1        3890             86      188                 1   1   \n",
       "2        4589           1278      124                10   2   \n",
       "3        3357            503      173                 3   3   \n",
       "4        3357           1205       41                10   4   \n",
       "\n",
       "   item_condition_id  item_description     name  name_len  shipping  \\\n",
       "0                  3           1172053   916335        35         1   \n",
       "1                  3           1585539  1292428        32         0   \n",
       "2                  1            167133   131013        14         1   \n",
       "3                  1           1136643   802671        21         1   \n",
       "4                  1            531909    65051        20         0   \n",
       "\n",
       "   subcategory_1  subcategory_2  \n",
       "0            103            774  \n",
       "1             30            215  \n",
       "2            104             97  \n",
       "3             55            410  \n",
       "4             58            542  "
      ]
     },
     "execution_count": 149,
     "metadata": {},
     "output_type": "execute_result"
    }
   ],
   "source": [
    "train_df.head()"
   ]
  },
  {
   "cell_type": "code",
   "execution_count": 150,
   "metadata": {
    "scrolled": true
   },
   "outputs": [
    {
     "data": {
      "text/html": [
       "<div>\n",
       "<style scoped>\n",
       "    .dataframe tbody tr th:only-of-type {\n",
       "        vertical-align: middle;\n",
       "    }\n",
       "\n",
       "    .dataframe tbody tr th {\n",
       "        vertical-align: top;\n",
       "    }\n",
       "\n",
       "    .dataframe thead th {\n",
       "        text-align: right;\n",
       "    }\n",
       "</style>\n",
       "<table border=\"1\" class=\"dataframe\">\n",
       "  <thead>\n",
       "    <tr style=\"text-align: right;\">\n",
       "      <th></th>\n",
       "      <th>brand_name</th>\n",
       "      <th>category_name</th>\n",
       "      <th>des_len</th>\n",
       "      <th>general_category</th>\n",
       "      <th>id</th>\n",
       "      <th>item_condition_id</th>\n",
       "      <th>item_description</th>\n",
       "      <th>name</th>\n",
       "      <th>name_len</th>\n",
       "      <th>shipping</th>\n",
       "      <th>subcategory_1</th>\n",
       "      <th>subcategory_2</th>\n",
       "    </tr>\n",
       "  </thead>\n",
       "  <tbody>\n",
       "    <tr>\n",
       "      <th>0</th>\n",
       "      <td>3357</td>\n",
       "      <td>1206</td>\n",
       "      <td>6</td>\n",
       "      <td>10</td>\n",
       "      <td>0</td>\n",
       "      <td>1</td>\n",
       "      <td>1395407</td>\n",
       "      <td>323913</td>\n",
       "      <td>40</td>\n",
       "      <td>1</td>\n",
       "      <td>58</td>\n",
       "      <td>667</td>\n",
       "    </tr>\n",
       "    <tr>\n",
       "      <th>1</th>\n",
       "      <td>3357</td>\n",
       "      <td>900</td>\n",
       "      <td>251</td>\n",
       "      <td>7</td>\n",
       "      <td>1</td>\n",
       "      <td>1</td>\n",
       "      <td>95839</td>\n",
       "      <td>65692</td>\n",
       "      <td>40</td>\n",
       "      <td>1</td>\n",
       "      <td>72</td>\n",
       "      <td>701</td>\n",
       "    </tr>\n",
       "    <tr>\n",
       "      <th>2</th>\n",
       "      <td>1094</td>\n",
       "      <td>1001</td>\n",
       "      <td>55</td>\n",
       "      <td>9</td>\n",
       "      <td>2</td>\n",
       "      <td>1</td>\n",
       "      <td>383739</td>\n",
       "      <td>410310</td>\n",
       "      <td>9</td>\n",
       "      <td>1</td>\n",
       "      <td>7</td>\n",
       "      <td>382</td>\n",
       "    </tr>\n",
       "    <tr>\n",
       "      <th>3</th>\n",
       "      <td>3357</td>\n",
       "      <td>1257</td>\n",
       "      <td>67</td>\n",
       "      <td>10</td>\n",
       "      <td>3</td>\n",
       "      <td>2</td>\n",
       "      <td>34209</td>\n",
       "      <td>544668</td>\n",
       "      <td>13</td>\n",
       "      <td>0</td>\n",
       "      <td>97</td>\n",
       "      <td>166</td>\n",
       "    </tr>\n",
       "    <tr>\n",
       "      <th>4</th>\n",
       "      <td>3357</td>\n",
       "      <td>861</td>\n",
       "      <td>167</td>\n",
       "      <td>7</td>\n",
       "      <td>4</td>\n",
       "      <td>3</td>\n",
       "      <td>1316300</td>\n",
       "      <td>810652</td>\n",
       "      <td>16</td>\n",
       "      <td>1</td>\n",
       "      <td>14</td>\n",
       "      <td>662</td>\n",
       "    </tr>\n",
       "  </tbody>\n",
       "</table>\n",
       "</div>"
      ],
      "text/plain": [
       "   brand_name  category_name  des_len  general_category  id  \\\n",
       "0        3357           1206        6                10   0   \n",
       "1        3357            900      251                 7   1   \n",
       "2        1094           1001       55                 9   2   \n",
       "3        3357           1257       67                10   3   \n",
       "4        3357            861      167                 7   4   \n",
       "\n",
       "   item_condition_id  item_description    name  name_len  shipping  \\\n",
       "0                  1           1395407  323913        40         1   \n",
       "1                  1             95839   65692        40         1   \n",
       "2                  1            383739  410310         9         1   \n",
       "3                  2             34209  544668        13         0   \n",
       "4                  3           1316300  810652        16         1   \n",
       "\n",
       "   subcategory_1  subcategory_2  \n",
       "0             58            667  \n",
       "1             72            701  \n",
       "2              7            382  \n",
       "3             97            166  \n",
       "4             14            662  "
      ]
     },
     "execution_count": 150,
     "metadata": {},
     "output_type": "execute_result"
    }
   ],
   "source": [
    "test_df.head()"
   ]
  },
  {
   "cell_type": "code",
   "execution_count": 151,
   "metadata": {},
   "outputs": [
    {
     "data": {
      "text/plain": [
       "(1482535, 12)"
      ]
     },
     "execution_count": 151,
     "metadata": {},
     "output_type": "execute_result"
    }
   ],
   "source": [
    "train_df.shape"
   ]
  },
  {
   "cell_type": "code",
   "execution_count": 152,
   "metadata": {},
   "outputs": [
    {
     "data": {
      "text/plain": [
       "(693359, 12)"
      ]
     },
     "execution_count": 152,
     "metadata": {},
     "output_type": "execute_result"
    }
   ],
   "source": [
    "test_df.shape"
   ]
  },
  {
   "cell_type": "code",
   "execution_count": 154,
   "metadata": {},
   "outputs": [],
   "source": [
    "#train_df['price'] = train_df.price\n",
    "#x_train, y_train = train_df.drop(['price'] , axis = 1) , train_df.price"
   ]
  },
  {
   "cell_type": "code",
   "execution_count": 157,
   "metadata": {},
   "outputs": [],
   "source": [
    "x_train = train_df\n",
    "y_train = y_train.apply(lambda x: np.log(x) if x > 0 else x)"
   ]
  },
  {
   "cell_type": "markdown",
   "metadata": {},
   "source": [
    "隨機森林開始!"
   ]
  },
  {
   "cell_type": "code",
   "execution_count": 158,
   "metadata": {},
   "outputs": [
    {
     "data": {
      "text/plain": [
       "0.8391567698255982"
      ]
     },
     "execution_count": 158,
     "metadata": {},
     "output_type": "execute_result"
    }
   ],
   "source": [
    "%%time\n",
    "rf = RandomForestRegressor(n_jobs = -1, min_samples_leaf = 3 , n_estimators = 200)\n",
    "rf.fit(x_train, y_train)\n",
    "rf.score(x_train, y_train)"
   ]
  },
  {
   "cell_type": "markdown",
   "metadata": {
    "collapsed": true
   },
   "source": [
    "最後匯出資料"
   ]
  },
  {
   "cell_type": "code",
   "execution_count": 159,
   "metadata": {},
   "outputs": [],
   "source": [
    "predict_df = rf.predict(test_df)\n",
    "predict_df = pd.Series(np.exp(predict_df))\n",
    "submission = pd.concat([test_df.id , predict_df] , axis = 1)\n",
    "submission.columns = ['test_id' , 'price']\n",
    "submission.to_csv('data/y_pred_rf.csv' , index = False)"
   ]
  },
  {
   "cell_type": "code",
   "execution_count": null,
   "metadata": {
    "collapsed": true
   },
   "outputs": [],
   "source": []
  }
 ],
 "metadata": {
  "kernelspec": {
   "display_name": "Python 3",
   "language": "python",
   "name": "python3"
  },
  "language_info": {
   "codemirror_mode": {
    "name": "ipython",
    "version": 3
   },
   "file_extension": ".py",
   "mimetype": "text/x-python",
   "name": "python",
   "nbconvert_exporter": "python",
   "pygments_lexer": "ipython3",
   "version": "3.7.4"
  }
 },
 "nbformat": 4,
 "nbformat_minor": 2
}
