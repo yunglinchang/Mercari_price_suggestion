{
 "cells": [
  {
   "cell_type": "markdown",
   "metadata": {},
   "source": [
    "# [Mercari Price Suggestion Challenge](https://www.kaggle.com/c/mercari-price-suggestion-challenge)\n",
    "Can you automatically suggest product prices to online sellers?"
   ]
  },
  {
   "cell_type": "markdown",
   "metadata": {},
   "source": [
    "# Import packages"
   ]
  },
  {
   "cell_type": "code",
   "execution_count": 1,
   "metadata": {},
   "outputs": [],
   "source": [
    "import pandas as pd #data processing\n",
    "import numpy as np #linear algebra\n",
    "\n",
    "%matplotlib inline\n",
    "import matplotlib.pyplot as plt #commonly used visualization tool\n",
    "import seaborn as sns #new visualization tool\n",
    "import pydot\n",
    "\n",
    "import joblib\n",
    "from sklearn.preprocessing import StandardScaler\n",
    "from sklearn.metrics import mean_squared_log_error\n",
    "from sklearn.model_selection import train_test_split, GridSearchCV #hyper-parameter tuning\n",
    "from sklearn.ensemble import RandomForestRegressor\n",
    "from sklearn.tree import export_graphviz"
   ]
  },
  {
   "cell_type": "markdown",
   "metadata": {},
   "source": [
    "# Import data"
   ]
  },
  {
   "cell_type": "code",
   "execution_count": 2,
   "metadata": {},
   "outputs": [
    {
     "name": "stdout",
     "output_type": "stream",
     "text": [
      "CPU times: user 16.1 ms, sys: 4.21 ms, total: 20.3 ms\n",
      "Wall time: 21 ms\n"
     ]
    }
   ],
   "source": [
    "%%time\n",
    "train_df = pd.read_csv(\"data/train_df.csv\", low_memory= True)\n",
    "test_df = pd.read_csv(\"data/test_df.csv\", low_memory= True)"
   ]
  },
  {
   "cell_type": "code",
   "execution_count": 3,
   "metadata": {
    "scrolled": true
   },
   "outputs": [
    {
     "data": {
      "text/html": [
       "<div>\n",
       "<style scoped>\n",
       "    .dataframe tbody tr th:only-of-type {\n",
       "        vertical-align: middle;\n",
       "    }\n",
       "\n",
       "    .dataframe tbody tr th {\n",
       "        vertical-align: top;\n",
       "    }\n",
       "\n",
       "    .dataframe thead th {\n",
       "        text-align: right;\n",
       "    }\n",
       "</style>\n",
       "<table border=\"1\" class=\"dataframe\">\n",
       "  <thead>\n",
       "    <tr style=\"text-align: right;\">\n",
       "      <th></th>\n",
       "      <th>train_id</th>\n",
       "      <th>name</th>\n",
       "      <th>item_condition_id</th>\n",
       "      <th>category_name</th>\n",
       "      <th>brand_name</th>\n",
       "      <th>price</th>\n",
       "      <th>shipping</th>\n",
       "      <th>item_description</th>\n",
       "      <th>general_category</th>\n",
       "      <th>subcategory_1</th>\n",
       "      <th>...</th>\n",
       "      <th>item_description_char_count</th>\n",
       "      <th>item_description_word_count</th>\n",
       "      <th>item_description_word_density</th>\n",
       "      <th>name_char_count</th>\n",
       "      <th>name_word_count</th>\n",
       "      <th>name_word_density</th>\n",
       "      <th>item_description_top_tfidf_word</th>\n",
       "      <th>item_description_top_tfidf_value</th>\n",
       "      <th>name_top_tfidf_word</th>\n",
       "      <th>name_top_tfidf_value</th>\n",
       "    </tr>\n",
       "  </thead>\n",
       "  <tbody>\n",
       "    <tr>\n",
       "      <th>0</th>\n",
       "      <td>0</td>\n",
       "      <td>MLB Cincinnati Reds T Shirt Size XL</td>\n",
       "      <td>3</td>\n",
       "      <td>Men/Tops/T-shirts</td>\n",
       "      <td>NoBrand</td>\n",
       "      <td>10.0</td>\n",
       "      <td>1</td>\n",
       "      <td>No description yet</td>\n",
       "      <td>Men</td>\n",
       "      <td>Tops</td>\n",
       "      <td>...</td>\n",
       "      <td>18</td>\n",
       "      <td>3</td>\n",
       "      <td>4.500000</td>\n",
       "      <td>35</td>\n",
       "      <td>7</td>\n",
       "      <td>4.375000</td>\n",
       "      <td>None</td>\n",
       "      <td>0.000000</td>\n",
       "      <td>None</td>\n",
       "      <td>0.0</td>\n",
       "    </tr>\n",
       "    <tr>\n",
       "      <th>1</th>\n",
       "      <td>1</td>\n",
       "      <td>Razer BlackWidow Chroma Keyboard</td>\n",
       "      <td>3</td>\n",
       "      <td>Electronics/Computers &amp; Tablets/Components &amp; P...</td>\n",
       "      <td>Razer</td>\n",
       "      <td>52.0</td>\n",
       "      <td>0</td>\n",
       "      <td>This keyboard is in great condition and works ...</td>\n",
       "      <td>Electronics</td>\n",
       "      <td>Computers &amp; Tablets</td>\n",
       "      <td>...</td>\n",
       "      <td>188</td>\n",
       "      <td>36</td>\n",
       "      <td>5.081081</td>\n",
       "      <td>32</td>\n",
       "      <td>4</td>\n",
       "      <td>6.400000</td>\n",
       "      <td>test</td>\n",
       "      <td>7.723773</td>\n",
       "      <td>None</td>\n",
       "      <td>0.0</td>\n",
       "    </tr>\n",
       "    <tr>\n",
       "      <th>2</th>\n",
       "      <td>2</td>\n",
       "      <td>AVA-VIV Blouse</td>\n",
       "      <td>1</td>\n",
       "      <td>Women/Tops &amp; Blouses/Blouse</td>\n",
       "      <td>Target</td>\n",
       "      <td>10.0</td>\n",
       "      <td>1</td>\n",
       "      <td>Adorable top with a hint of lace and a key hol...</td>\n",
       "      <td>Women</td>\n",
       "      <td>Tops &amp; Blouses</td>\n",
       "      <td>...</td>\n",
       "      <td>124</td>\n",
       "      <td>29</td>\n",
       "      <td>4.133333</td>\n",
       "      <td>14</td>\n",
       "      <td>2</td>\n",
       "      <td>4.666667</td>\n",
       "      <td>ink</td>\n",
       "      <td>7.717062</td>\n",
       "      <td>None</td>\n",
       "      <td>0.0</td>\n",
       "    </tr>\n",
       "    <tr>\n",
       "      <th>3</th>\n",
       "      <td>3</td>\n",
       "      <td>Leather Horse Statues</td>\n",
       "      <td>1</td>\n",
       "      <td>Home/Home Décor/Home Décor Accents</td>\n",
       "      <td>NoBrand</td>\n",
       "      <td>35.0</td>\n",
       "      <td>1</td>\n",
       "      <td>New with tags. Leather horses. Retail for [rm]...</td>\n",
       "      <td>Home</td>\n",
       "      <td>Home Décor</td>\n",
       "      <td>...</td>\n",
       "      <td>173</td>\n",
       "      <td>32</td>\n",
       "      <td>5.242424</td>\n",
       "      <td>21</td>\n",
       "      <td>3</td>\n",
       "      <td>5.250000</td>\n",
       "      <td>None</td>\n",
       "      <td>0.000000</td>\n",
       "      <td>None</td>\n",
       "      <td>0.0</td>\n",
       "    </tr>\n",
       "    <tr>\n",
       "      <th>4</th>\n",
       "      <td>4</td>\n",
       "      <td>24K GOLD plated rose</td>\n",
       "      <td>1</td>\n",
       "      <td>Women/Jewelry/Necklaces</td>\n",
       "      <td>NoBrand</td>\n",
       "      <td>44.0</td>\n",
       "      <td>0</td>\n",
       "      <td>Complete with certificate of authenticity</td>\n",
       "      <td>Women</td>\n",
       "      <td>Jewelry</td>\n",
       "      <td>...</td>\n",
       "      <td>41</td>\n",
       "      <td>5</td>\n",
       "      <td>6.833333</td>\n",
       "      <td>20</td>\n",
       "      <td>4</td>\n",
       "      <td>4.000000</td>\n",
       "      <td>None</td>\n",
       "      <td>0.000000</td>\n",
       "      <td>None</td>\n",
       "      <td>0.0</td>\n",
       "    </tr>\n",
       "  </tbody>\n",
       "</table>\n",
       "<p>5 rows × 21 columns</p>\n",
       "</div>"
      ],
      "text/plain": [
       "   train_id                                 name  item_condition_id  \\\n",
       "0         0  MLB Cincinnati Reds T Shirt Size XL                  3   \n",
       "1         1     Razer BlackWidow Chroma Keyboard                  3   \n",
       "2         2                       AVA-VIV Blouse                  1   \n",
       "3         3                Leather Horse Statues                  1   \n",
       "4         4                 24K GOLD plated rose                  1   \n",
       "\n",
       "                                       category_name brand_name  price  \\\n",
       "0                                  Men/Tops/T-shirts    NoBrand   10.0   \n",
       "1  Electronics/Computers & Tablets/Components & P...      Razer   52.0   \n",
       "2                        Women/Tops & Blouses/Blouse     Target   10.0   \n",
       "3                 Home/Home Décor/Home Décor Accents    NoBrand   35.0   \n",
       "4                            Women/Jewelry/Necklaces    NoBrand   44.0   \n",
       "\n",
       "   shipping                                   item_description  \\\n",
       "0         1                                 No description yet   \n",
       "1         0  This keyboard is in great condition and works ...   \n",
       "2         1  Adorable top with a hint of lace and a key hol...   \n",
       "3         1  New with tags. Leather horses. Retail for [rm]...   \n",
       "4         0          Complete with certificate of authenticity   \n",
       "\n",
       "  general_category        subcategory_1  ... item_description_char_count  \\\n",
       "0              Men                 Tops  ...                          18   \n",
       "1      Electronics  Computers & Tablets  ...                         188   \n",
       "2            Women       Tops & Blouses  ...                         124   \n",
       "3             Home           Home Décor  ...                         173   \n",
       "4            Women              Jewelry  ...                          41   \n",
       "\n",
       "   item_description_word_count  item_description_word_density  \\\n",
       "0                            3                       4.500000   \n",
       "1                           36                       5.081081   \n",
       "2                           29                       4.133333   \n",
       "3                           32                       5.242424   \n",
       "4                            5                       6.833333   \n",
       "\n",
       "   name_char_count  name_word_count  name_word_density  \\\n",
       "0               35                7           4.375000   \n",
       "1               32                4           6.400000   \n",
       "2               14                2           4.666667   \n",
       "3               21                3           5.250000   \n",
       "4               20                4           4.000000   \n",
       "\n",
       "   item_description_top_tfidf_word item_description_top_tfidf_value  \\\n",
       "0                             None                         0.000000   \n",
       "1                             test                         7.723773   \n",
       "2                              ink                         7.717062   \n",
       "3                             None                         0.000000   \n",
       "4                             None                         0.000000   \n",
       "\n",
       "   name_top_tfidf_word name_top_tfidf_value  \n",
       "0                 None                  0.0  \n",
       "1                 None                  0.0  \n",
       "2                 None                  0.0  \n",
       "3                 None                  0.0  \n",
       "4                 None                  0.0  \n",
       "\n",
       "[5 rows x 21 columns]"
      ]
     },
     "execution_count": 3,
     "metadata": {},
     "output_type": "execute_result"
    }
   ],
   "source": [
    "train_df.head()"
   ]
  },
  {
   "cell_type": "code",
   "execution_count": 4,
   "metadata": {
    "scrolled": true
   },
   "outputs": [
    {
     "data": {
      "text/plain": [
       "Index(['train_id', 'name', 'item_condition_id', 'category_name', 'brand_name',\n",
       "       'price', 'shipping', 'item_description', 'general_category',\n",
       "       'subcategory_1', 'subcategory_2', 'item_description_char_count',\n",
       "       'item_description_word_count', 'item_description_word_density',\n",
       "       'name_char_count', 'name_word_count', 'name_word_density',\n",
       "       'item_description_top_tfidf_word', 'item_description_top_tfidf_value',\n",
       "       'name_top_tfidf_word', 'name_top_tfidf_value'],\n",
       "      dtype='object')"
      ]
     },
     "execution_count": 4,
     "metadata": {},
     "output_type": "execute_result"
    }
   ],
   "source": [
    "train_df.columns"
   ]
  },
  {
   "cell_type": "markdown",
   "metadata": {},
   "source": [
    "# Predictive Modeling"
   ]
  },
  {
   "cell_type": "markdown",
   "metadata": {},
   "source": [
    "change train_id and test_id to id"
   ]
  },
  {
   "cell_type": "code",
   "execution_count": 5,
   "metadata": {},
   "outputs": [],
   "source": [
    "train_df.rename(columns = {'train_id' : 'id'}, inplace=True)\n",
    "test_df.rename(columns = {\"test_id\" : \"id\"}, inplace=True)"
   ]
  },
  {
   "cell_type": "code",
   "execution_count": 6,
   "metadata": {},
   "outputs": [
    {
     "data": {
      "text/plain": [
       "Index(['id', 'name', 'item_condition_id', 'category_name', 'brand_name',\n",
       "       'price', 'shipping', 'item_description', 'general_category',\n",
       "       'subcategory_1', 'subcategory_2', 'item_description_char_count',\n",
       "       'item_description_word_count', 'item_description_word_density',\n",
       "       'name_char_count', 'name_word_count', 'name_word_density',\n",
       "       'item_description_top_tfidf_word', 'item_description_top_tfidf_value',\n",
       "       'name_top_tfidf_word', 'name_top_tfidf_value'],\n",
       "      dtype='object')"
      ]
     },
     "execution_count": 6,
     "metadata": {},
     "output_type": "execute_result"
    }
   ],
   "source": [
    "train_df.columns"
   ]
  },
  {
   "cell_type": "markdown",
   "metadata": {},
   "source": [
    "convert string to category"
   ]
  },
  {
   "cell_type": "code",
   "execution_count": 7,
   "metadata": {
    "scrolled": false
   },
   "outputs": [
    {
     "name": "stdout",
     "output_type": "stream",
     "text": [
      "CPU times: user 27.8 ms, sys: 1.64 ms, total: 29.5 ms\n",
      "Wall time: 28.5 ms\n"
     ]
    },
    {
     "data": {
      "text/html": [
       "<div>\n",
       "<style scoped>\n",
       "    .dataframe tbody tr th:only-of-type {\n",
       "        vertical-align: middle;\n",
       "    }\n",
       "\n",
       "    .dataframe tbody tr th {\n",
       "        vertical-align: top;\n",
       "    }\n",
       "\n",
       "    .dataframe thead th {\n",
       "        text-align: right;\n",
       "    }\n",
       "</style>\n",
       "<table border=\"1\" class=\"dataframe\">\n",
       "  <thead>\n",
       "    <tr style=\"text-align: right;\">\n",
       "      <th></th>\n",
       "      <th>name</th>\n",
       "      <th>brand_name</th>\n",
       "      <th>category_name</th>\n",
       "      <th>item_description</th>\n",
       "      <th>general_category</th>\n",
       "      <th>subcategory_1</th>\n",
       "      <th>subcategory_2</th>\n",
       "      <th>item_description_top_tfidf_word</th>\n",
       "      <th>name_top_tfidf_word</th>\n",
       "    </tr>\n",
       "  </thead>\n",
       "  <tbody>\n",
       "    <tr>\n",
       "      <th>0</th>\n",
       "      <td>189</td>\n",
       "      <td>144</td>\n",
       "      <td>229</td>\n",
       "      <td>695</td>\n",
       "      <td>10</td>\n",
       "      <td>41</td>\n",
       "      <td>165</td>\n",
       "      <td>7</td>\n",
       "      <td>1</td>\n",
       "    </tr>\n",
       "    <tr>\n",
       "      <th>1</th>\n",
       "      <td>29</td>\n",
       "      <td>144</td>\n",
       "      <td>167</td>\n",
       "      <td>44</td>\n",
       "      <td>7</td>\n",
       "      <td>49</td>\n",
       "      <td>173</td>\n",
       "      <td>7</td>\n",
       "      <td>1</td>\n",
       "    </tr>\n",
       "    <tr>\n",
       "      <th>2</th>\n",
       "      <td>231</td>\n",
       "      <td>43</td>\n",
       "      <td>187</td>\n",
       "      <td>180</td>\n",
       "      <td>9</td>\n",
       "      <td>6</td>\n",
       "      <td>98</td>\n",
       "      <td>7</td>\n",
       "      <td>1</td>\n",
       "    </tr>\n",
       "    <tr>\n",
       "      <th>3</th>\n",
       "      <td>308</td>\n",
       "      <td>144</td>\n",
       "      <td>251</td>\n",
       "      <td>21</td>\n",
       "      <td>10</td>\n",
       "      <td>63</td>\n",
       "      <td>37</td>\n",
       "      <td>7</td>\n",
       "      <td>1</td>\n",
       "    </tr>\n",
       "    <tr>\n",
       "      <th>4</th>\n",
       "      <td>453</td>\n",
       "      <td>144</td>\n",
       "      <td>157</td>\n",
       "      <td>659</td>\n",
       "      <td>7</td>\n",
       "      <td>10</td>\n",
       "      <td>164</td>\n",
       "      <td>0</td>\n",
       "      <td>1</td>\n",
       "    </tr>\n",
       "    <tr>\n",
       "      <th>...</th>\n",
       "      <td>...</td>\n",
       "      <td>...</td>\n",
       "      <td>...</td>\n",
       "      <td>...</td>\n",
       "      <td>...</td>\n",
       "      <td>...</td>\n",
       "      <td>...</td>\n",
       "      <td>...</td>\n",
       "      <td>...</td>\n",
       "    </tr>\n",
       "    <tr>\n",
       "      <th>995</th>\n",
       "      <td>871</td>\n",
       "      <td>151</td>\n",
       "      <td>232</td>\n",
       "      <td>237</td>\n",
       "      <td>10</td>\n",
       "      <td>50</td>\n",
       "      <td>147</td>\n",
       "      <td>7</td>\n",
       "      <td>1</td>\n",
       "    </tr>\n",
       "    <tr>\n",
       "      <th>996</th>\n",
       "      <td>276</td>\n",
       "      <td>59</td>\n",
       "      <td>224</td>\n",
       "      <td>697</td>\n",
       "      <td>10</td>\n",
       "      <td>40</td>\n",
       "      <td>181</td>\n",
       "      <td>48</td>\n",
       "      <td>1</td>\n",
       "    </tr>\n",
       "    <tr>\n",
       "      <th>997</th>\n",
       "      <td>885</td>\n",
       "      <td>151</td>\n",
       "      <td>281</td>\n",
       "      <td>828</td>\n",
       "      <td>10</td>\n",
       "      <td>78</td>\n",
       "      <td>203</td>\n",
       "      <td>7</td>\n",
       "      <td>1</td>\n",
       "    </tr>\n",
       "    <tr>\n",
       "      <th>998</th>\n",
       "      <td>261</td>\n",
       "      <td>69</td>\n",
       "      <td>116</td>\n",
       "      <td>861</td>\n",
       "      <td>4</td>\n",
       "      <td>72</td>\n",
       "      <td>3</td>\n",
       "      <td>7</td>\n",
       "      <td>1</td>\n",
       "    </tr>\n",
       "    <tr>\n",
       "      <th>999</th>\n",
       "      <td>254</td>\n",
       "      <td>144</td>\n",
       "      <td>200</td>\n",
       "      <td>63</td>\n",
       "      <td>9</td>\n",
       "      <td>73</td>\n",
       "      <td>186</td>\n",
       "      <td>7</td>\n",
       "      <td>1</td>\n",
       "    </tr>\n",
       "  </tbody>\n",
       "</table>\n",
       "<p>1000 rows × 9 columns</p>\n",
       "</div>"
      ],
      "text/plain": [
       "     name  brand_name  category_name  item_description  general_category  \\\n",
       "0     189         144            229               695                10   \n",
       "1      29         144            167                44                 7   \n",
       "2     231          43            187               180                 9   \n",
       "3     308         144            251                21                10   \n",
       "4     453         144            157               659                 7   \n",
       "..    ...         ...            ...               ...               ...   \n",
       "995   871         151            232               237                10   \n",
       "996   276          59            224               697                10   \n",
       "997   885         151            281               828                10   \n",
       "998   261          69            116               861                 4   \n",
       "999   254         144            200                63                 9   \n",
       "\n",
       "     subcategory_1  subcategory_2  item_description_top_tfidf_word  \\\n",
       "0               41            165                                7   \n",
       "1               49            173                                7   \n",
       "2                6             98                                7   \n",
       "3               63             37                                7   \n",
       "4               10            164                                0   \n",
       "..             ...            ...                              ...   \n",
       "995             50            147                                7   \n",
       "996             40            181                               48   \n",
       "997             78            203                                7   \n",
       "998             72              3                                7   \n",
       "999             73            186                                7   \n",
       "\n",
       "     name_top_tfidf_word  \n",
       "0                      1  \n",
       "1                      1  \n",
       "2                      1  \n",
       "3                      1  \n",
       "4                      1  \n",
       "..                   ...  \n",
       "995                    1  \n",
       "996                    1  \n",
       "997                    1  \n",
       "998                    1  \n",
       "999                    1  \n",
       "\n",
       "[1000 rows x 9 columns]"
      ]
     },
     "execution_count": 7,
     "metadata": {},
     "output_type": "execute_result"
    }
   ],
   "source": [
    "%%time\n",
    "def str_to_cat(data, col=[\"name\", \"brand_name\", \"category_name\", \"item_description\", \"general_category\", \"subcategory_1\", \"subcategory_2\", \"item_description_top_tfidf_word\", \"name_top_tfidf_word\"]):\n",
    "    for i in col:\n",
    "        data[i] = data[i].astype(\"category\").cat.codes\n",
    "    return data[col]\n",
    "\n",
    "str_to_cat(train_df)\n",
    "str_to_cat(test_df)"
   ]
  },
  {
   "cell_type": "code",
   "execution_count": 8,
   "metadata": {},
   "outputs": [
    {
     "data": {
      "text/plain": [
       "id                                    int64\n",
       "name                                  int16\n",
       "item_condition_id                     int64\n",
       "category_name                         int16\n",
       "brand_name                            int16\n",
       "price                               float64\n",
       "shipping                              int64\n",
       "item_description                      int16\n",
       "general_category                       int8\n",
       "subcategory_1                          int8\n",
       "subcategory_2                         int16\n",
       "item_description_char_count           int64\n",
       "item_description_word_count           int64\n",
       "item_description_word_density       float64\n",
       "name_char_count                       int64\n",
       "name_word_count                       int64\n",
       "name_word_density                   float64\n",
       "item_description_top_tfidf_word        int8\n",
       "item_description_top_tfidf_value    float64\n",
       "name_top_tfidf_word                    int8\n",
       "name_top_tfidf_value                float64\n",
       "dtype: object"
      ]
     },
     "execution_count": 8,
     "metadata": {},
     "output_type": "execute_result"
    }
   ],
   "source": [
    "train_df.dtypes"
   ]
  },
  {
   "cell_type": "code",
   "execution_count": 9,
   "metadata": {
    "scrolled": true
   },
   "outputs": [
    {
     "data": {
      "text/html": [
       "<div>\n",
       "<style scoped>\n",
       "    .dataframe tbody tr th:only-of-type {\n",
       "        vertical-align: middle;\n",
       "    }\n",
       "\n",
       "    .dataframe tbody tr th {\n",
       "        vertical-align: top;\n",
       "    }\n",
       "\n",
       "    .dataframe thead th {\n",
       "        text-align: right;\n",
       "    }\n",
       "</style>\n",
       "<table border=\"1\" class=\"dataframe\">\n",
       "  <thead>\n",
       "    <tr style=\"text-align: right;\">\n",
       "      <th></th>\n",
       "      <th>id</th>\n",
       "      <th>name</th>\n",
       "      <th>item_condition_id</th>\n",
       "      <th>category_name</th>\n",
       "      <th>brand_name</th>\n",
       "      <th>price</th>\n",
       "      <th>shipping</th>\n",
       "      <th>item_description</th>\n",
       "      <th>general_category</th>\n",
       "      <th>subcategory_1</th>\n",
       "      <th>...</th>\n",
       "      <th>item_description_char_count</th>\n",
       "      <th>item_description_word_count</th>\n",
       "      <th>item_description_word_density</th>\n",
       "      <th>name_char_count</th>\n",
       "      <th>name_word_count</th>\n",
       "      <th>name_word_density</th>\n",
       "      <th>item_description_top_tfidf_word</th>\n",
       "      <th>item_description_top_tfidf_value</th>\n",
       "      <th>name_top_tfidf_word</th>\n",
       "      <th>name_top_tfidf_value</th>\n",
       "    </tr>\n",
       "  </thead>\n",
       "  <tbody>\n",
       "    <tr>\n",
       "      <th>0</th>\n",
       "      <td>0</td>\n",
       "      <td>513</td>\n",
       "      <td>3</td>\n",
       "      <td>144</td>\n",
       "      <td>157</td>\n",
       "      <td>10.0</td>\n",
       "      <td>1</td>\n",
       "      <td>592</td>\n",
       "      <td>5</td>\n",
       "      <td>69</td>\n",
       "      <td>...</td>\n",
       "      <td>18</td>\n",
       "      <td>3</td>\n",
       "      <td>4.500000</td>\n",
       "      <td>35</td>\n",
       "      <td>7</td>\n",
       "      <td>4.375000</td>\n",
       "      <td>6</td>\n",
       "      <td>0.000000</td>\n",
       "      <td>3</td>\n",
       "      <td>0.0</td>\n",
       "    </tr>\n",
       "    <tr>\n",
       "      <th>1</th>\n",
       "      <td>1</td>\n",
       "      <td>746</td>\n",
       "      <td>3</td>\n",
       "      <td>27</td>\n",
       "      <td>171</td>\n",
       "      <td>52.0</td>\n",
       "      <td>0</td>\n",
       "      <td>800</td>\n",
       "      <td>1</td>\n",
       "      <td>23</td>\n",
       "      <td>...</td>\n",
       "      <td>188</td>\n",
       "      <td>36</td>\n",
       "      <td>5.081081</td>\n",
       "      <td>32</td>\n",
       "      <td>4</td>\n",
       "      <td>6.400000</td>\n",
       "      <td>82</td>\n",
       "      <td>7.723773</td>\n",
       "      <td>3</td>\n",
       "      <td>0.0</td>\n",
       "    </tr>\n",
       "    <tr>\n",
       "      <th>2</th>\n",
       "      <td>2</td>\n",
       "      <td>64</td>\n",
       "      <td>1</td>\n",
       "      <td>252</td>\n",
       "      <td>192</td>\n",
       "      <td>10.0</td>\n",
       "      <td>1</td>\n",
       "      <td>76</td>\n",
       "      <td>10</td>\n",
       "      <td>70</td>\n",
       "      <td>...</td>\n",
       "      <td>124</td>\n",
       "      <td>29</td>\n",
       "      <td>4.133333</td>\n",
       "      <td>14</td>\n",
       "      <td>2</td>\n",
       "      <td>4.666667</td>\n",
       "      <td>37</td>\n",
       "      <td>7.717062</td>\n",
       "      <td>3</td>\n",
       "      <td>0.0</td>\n",
       "    </tr>\n",
       "    <tr>\n",
       "      <th>3</th>\n",
       "      <td>3</td>\n",
       "      <td>450</td>\n",
       "      <td>1</td>\n",
       "      <td>54</td>\n",
       "      <td>157</td>\n",
       "      <td>35.0</td>\n",
       "      <td>1</td>\n",
       "      <td>574</td>\n",
       "      <td>3</td>\n",
       "      <td>39</td>\n",
       "      <td>...</td>\n",
       "      <td>173</td>\n",
       "      <td>32</td>\n",
       "      <td>5.242424</td>\n",
       "      <td>21</td>\n",
       "      <td>3</td>\n",
       "      <td>5.250000</td>\n",
       "      <td>6</td>\n",
       "      <td>0.000000</td>\n",
       "      <td>3</td>\n",
       "      <td>0.0</td>\n",
       "    </tr>\n",
       "    <tr>\n",
       "      <th>4</th>\n",
       "      <td>4</td>\n",
       "      <td>32</td>\n",
       "      <td>1</td>\n",
       "      <td>218</td>\n",
       "      <td>157</td>\n",
       "      <td>44.0</td>\n",
       "      <td>0</td>\n",
       "      <td>255</td>\n",
       "      <td>10</td>\n",
       "      <td>42</td>\n",
       "      <td>...</td>\n",
       "      <td>41</td>\n",
       "      <td>5</td>\n",
       "      <td>6.833333</td>\n",
       "      <td>20</td>\n",
       "      <td>4</td>\n",
       "      <td>4.000000</td>\n",
       "      <td>6</td>\n",
       "      <td>0.000000</td>\n",
       "      <td>3</td>\n",
       "      <td>0.0</td>\n",
       "    </tr>\n",
       "  </tbody>\n",
       "</table>\n",
       "<p>5 rows × 21 columns</p>\n",
       "</div>"
      ],
      "text/plain": [
       "   id  name  item_condition_id  category_name  brand_name  price  shipping  \\\n",
       "0   0   513                  3            144         157   10.0         1   \n",
       "1   1   746                  3             27         171   52.0         0   \n",
       "2   2    64                  1            252         192   10.0         1   \n",
       "3   3   450                  1             54         157   35.0         1   \n",
       "4   4    32                  1            218         157   44.0         0   \n",
       "\n",
       "   item_description  general_category  subcategory_1  ...  \\\n",
       "0               592                 5             69  ...   \n",
       "1               800                 1             23  ...   \n",
       "2                76                10             70  ...   \n",
       "3               574                 3             39  ...   \n",
       "4               255                10             42  ...   \n",
       "\n",
       "   item_description_char_count  item_description_word_count  \\\n",
       "0                           18                            3   \n",
       "1                          188                           36   \n",
       "2                          124                           29   \n",
       "3                          173                           32   \n",
       "4                           41                            5   \n",
       "\n",
       "   item_description_word_density  name_char_count  name_word_count  \\\n",
       "0                       4.500000               35                7   \n",
       "1                       5.081081               32                4   \n",
       "2                       4.133333               14                2   \n",
       "3                       5.242424               21                3   \n",
       "4                       6.833333               20                4   \n",
       "\n",
       "   name_word_density  item_description_top_tfidf_word  \\\n",
       "0           4.375000                                6   \n",
       "1           6.400000                               82   \n",
       "2           4.666667                               37   \n",
       "3           5.250000                                6   \n",
       "4           4.000000                                6   \n",
       "\n",
       "   item_description_top_tfidf_value  name_top_tfidf_word  name_top_tfidf_value  \n",
       "0                          0.000000                    3                   0.0  \n",
       "1                          7.723773                    3                   0.0  \n",
       "2                          7.717062                    3                   0.0  \n",
       "3                          0.000000                    3                   0.0  \n",
       "4                          0.000000                    3                   0.0  \n",
       "\n",
       "[5 rows x 21 columns]"
      ]
     },
     "execution_count": 9,
     "metadata": {},
     "output_type": "execute_result"
    }
   ],
   "source": [
    "train_df.head()"
   ]
  },
  {
   "cell_type": "code",
   "execution_count": 10,
   "metadata": {
    "scrolled": true
   },
   "outputs": [
    {
     "data": {
      "text/html": [
       "<div>\n",
       "<style scoped>\n",
       "    .dataframe tbody tr th:only-of-type {\n",
       "        vertical-align: middle;\n",
       "    }\n",
       "\n",
       "    .dataframe tbody tr th {\n",
       "        vertical-align: top;\n",
       "    }\n",
       "\n",
       "    .dataframe thead th {\n",
       "        text-align: right;\n",
       "    }\n",
       "</style>\n",
       "<table border=\"1\" class=\"dataframe\">\n",
       "  <thead>\n",
       "    <tr style=\"text-align: right;\">\n",
       "      <th></th>\n",
       "      <th>id</th>\n",
       "      <th>name</th>\n",
       "      <th>item_condition_id</th>\n",
       "      <th>category_name</th>\n",
       "      <th>brand_name</th>\n",
       "      <th>shipping</th>\n",
       "      <th>item_description</th>\n",
       "      <th>general_category</th>\n",
       "      <th>subcategory_1</th>\n",
       "      <th>subcategory_2</th>\n",
       "      <th>item_description_char_count</th>\n",
       "      <th>item_description_word_count</th>\n",
       "      <th>item_description_word_density</th>\n",
       "      <th>name_char_count</th>\n",
       "      <th>name_word_count</th>\n",
       "      <th>name_word_density</th>\n",
       "      <th>item_description_top_tfidf_word</th>\n",
       "      <th>item_description_top_tfidf_value</th>\n",
       "      <th>name_top_tfidf_word</th>\n",
       "      <th>name_top_tfidf_value</th>\n",
       "    </tr>\n",
       "  </thead>\n",
       "  <tbody>\n",
       "    <tr>\n",
       "      <th>0</th>\n",
       "      <td>0</td>\n",
       "      <td>189</td>\n",
       "      <td>1</td>\n",
       "      <td>229</td>\n",
       "      <td>144</td>\n",
       "      <td>1</td>\n",
       "      <td>695</td>\n",
       "      <td>10</td>\n",
       "      <td>41</td>\n",
       "      <td>165</td>\n",
       "      <td>6</td>\n",
       "      <td>2</td>\n",
       "      <td>2.000000</td>\n",
       "      <td>40</td>\n",
       "      <td>8</td>\n",
       "      <td>4.444444</td>\n",
       "      <td>7</td>\n",
       "      <td>0.000000</td>\n",
       "      <td>1</td>\n",
       "      <td>0.0</td>\n",
       "    </tr>\n",
       "    <tr>\n",
       "      <th>1</th>\n",
       "      <td>1</td>\n",
       "      <td>29</td>\n",
       "      <td>1</td>\n",
       "      <td>167</td>\n",
       "      <td>144</td>\n",
       "      <td>1</td>\n",
       "      <td>44</td>\n",
       "      <td>7</td>\n",
       "      <td>49</td>\n",
       "      <td>173</td>\n",
       "      <td>251</td>\n",
       "      <td>38</td>\n",
       "      <td>6.435897</td>\n",
       "      <td>40</td>\n",
       "      <td>7</td>\n",
       "      <td>5.000000</td>\n",
       "      <td>7</td>\n",
       "      <td>0.000000</td>\n",
       "      <td>1</td>\n",
       "      <td>0.0</td>\n",
       "    </tr>\n",
       "    <tr>\n",
       "      <th>2</th>\n",
       "      <td>2</td>\n",
       "      <td>231</td>\n",
       "      <td>1</td>\n",
       "      <td>187</td>\n",
       "      <td>43</td>\n",
       "      <td>1</td>\n",
       "      <td>180</td>\n",
       "      <td>9</td>\n",
       "      <td>6</td>\n",
       "      <td>98</td>\n",
       "      <td>55</td>\n",
       "      <td>11</td>\n",
       "      <td>4.583333</td>\n",
       "      <td>9</td>\n",
       "      <td>2</td>\n",
       "      <td>3.000000</td>\n",
       "      <td>7</td>\n",
       "      <td>0.000000</td>\n",
       "      <td>1</td>\n",
       "      <td>0.0</td>\n",
       "    </tr>\n",
       "    <tr>\n",
       "      <th>3</th>\n",
       "      <td>3</td>\n",
       "      <td>308</td>\n",
       "      <td>2</td>\n",
       "      <td>251</td>\n",
       "      <td>144</td>\n",
       "      <td>0</td>\n",
       "      <td>21</td>\n",
       "      <td>10</td>\n",
       "      <td>63</td>\n",
       "      <td>37</td>\n",
       "      <td>67</td>\n",
       "      <td>10</td>\n",
       "      <td>6.090909</td>\n",
       "      <td>13</td>\n",
       "      <td>2</td>\n",
       "      <td>4.333333</td>\n",
       "      <td>7</td>\n",
       "      <td>0.000000</td>\n",
       "      <td>1</td>\n",
       "      <td>0.0</td>\n",
       "    </tr>\n",
       "    <tr>\n",
       "      <th>4</th>\n",
       "      <td>4</td>\n",
       "      <td>453</td>\n",
       "      <td>3</td>\n",
       "      <td>157</td>\n",
       "      <td>144</td>\n",
       "      <td>1</td>\n",
       "      <td>659</td>\n",
       "      <td>7</td>\n",
       "      <td>10</td>\n",
       "      <td>164</td>\n",
       "      <td>167</td>\n",
       "      <td>29</td>\n",
       "      <td>5.566667</td>\n",
       "      <td>16</td>\n",
       "      <td>3</td>\n",
       "      <td>4.000000</td>\n",
       "      <td>0</td>\n",
       "      <td>7.696101</td>\n",
       "      <td>1</td>\n",
       "      <td>0.0</td>\n",
       "    </tr>\n",
       "  </tbody>\n",
       "</table>\n",
       "</div>"
      ],
      "text/plain": [
       "   id  name  item_condition_id  category_name  brand_name  shipping  \\\n",
       "0   0   189                  1            229         144         1   \n",
       "1   1    29                  1            167         144         1   \n",
       "2   2   231                  1            187          43         1   \n",
       "3   3   308                  2            251         144         0   \n",
       "4   4   453                  3            157         144         1   \n",
       "\n",
       "   item_description  general_category  subcategory_1  subcategory_2  \\\n",
       "0               695                10             41            165   \n",
       "1                44                 7             49            173   \n",
       "2               180                 9              6             98   \n",
       "3                21                10             63             37   \n",
       "4               659                 7             10            164   \n",
       "\n",
       "   item_description_char_count  item_description_word_count  \\\n",
       "0                            6                            2   \n",
       "1                          251                           38   \n",
       "2                           55                           11   \n",
       "3                           67                           10   \n",
       "4                          167                           29   \n",
       "\n",
       "   item_description_word_density  name_char_count  name_word_count  \\\n",
       "0                       2.000000               40                8   \n",
       "1                       6.435897               40                7   \n",
       "2                       4.583333                9                2   \n",
       "3                       6.090909               13                2   \n",
       "4                       5.566667               16                3   \n",
       "\n",
       "   name_word_density  item_description_top_tfidf_word  \\\n",
       "0           4.444444                                7   \n",
       "1           5.000000                                7   \n",
       "2           3.000000                                7   \n",
       "3           4.333333                                7   \n",
       "4           4.000000                                0   \n",
       "\n",
       "   item_description_top_tfidf_value  name_top_tfidf_word  name_top_tfidf_value  \n",
       "0                          0.000000                    1                   0.0  \n",
       "1                          0.000000                    1                   0.0  \n",
       "2                          0.000000                    1                   0.0  \n",
       "3                          0.000000                    1                   0.0  \n",
       "4                          7.696101                    1                   0.0  "
      ]
     },
     "execution_count": 10,
     "metadata": {},
     "output_type": "execute_result"
    }
   ],
   "source": [
    "test_df.head()"
   ]
  },
  {
   "cell_type": "code",
   "execution_count": 11,
   "metadata": {},
   "outputs": [
    {
     "data": {
      "text/plain": [
       "(1000, 21)"
      ]
     },
     "execution_count": 11,
     "metadata": {},
     "output_type": "execute_result"
    }
   ],
   "source": [
    "train_df.shape"
   ]
  },
  {
   "cell_type": "code",
   "execution_count": 12,
   "metadata": {
    "scrolled": true
   },
   "outputs": [
    {
     "data": {
      "text/plain": [
       "(1000, 20)"
      ]
     },
     "execution_count": 12,
     "metadata": {},
     "output_type": "execute_result"
    }
   ],
   "source": [
    "test_df.shape"
   ]
  },
  {
   "cell_type": "code",
   "execution_count": 13,
   "metadata": {
    "scrolled": false
   },
   "outputs": [
    {
     "data": {
      "text/plain": [
       "id                                  83416.67\n",
       "name                                82854.06\n",
       "item_condition_id                       0.84\n",
       "category_name                        8230.34\n",
       "brand_name                           2765.02\n",
       "price                                2103.77\n",
       "shipping                                0.25\n",
       "item_description                    69521.72\n",
       "general_category                       15.74\n",
       "subcategory_1                         514.99\n",
       "subcategory_2                        3933.30\n",
       "item_description_char_count         25987.55\n",
       "item_description_word_count           770.50\n",
       "item_description_word_density           0.74\n",
       "name_char_count                        80.98\n",
       "name_word_count                         2.56\n",
       "name_word_density                       0.84\n",
       "item_description_top_tfidf_word       379.45\n",
       "item_description_top_tfidf_value       12.14\n",
       "name_top_tfidf_word                    36.56\n",
       "name_top_tfidf_value                    7.05\n",
       "dtype: object"
      ]
     },
     "execution_count": 13,
     "metadata": {},
     "output_type": "execute_result"
    }
   ],
   "source": [
    "train_df.var().map('{:.2f}'.format)"
   ]
  },
  {
   "cell_type": "code",
   "execution_count": 14,
   "metadata": {},
   "outputs": [],
   "source": [
    "X = train_df.drop(\"price\", axis=1)\n",
    "y = train_df[\"price\"]"
   ]
  },
  {
   "cell_type": "code",
   "execution_count": 15,
   "metadata": {},
   "outputs": [],
   "source": [
    "scaler = StandardScaler()\n",
    "X_scaled = X.copy()\n",
    "test_df_scaled = test_df.copy()\n",
    "\n",
    "X_scaled[X_scaled.columns] = scaler.fit_transform(X[X.columns])\n",
    "test_df_scaled[test_df_scaled.columns] = scaler.fit_transform(test_df[test_df.columns])"
   ]
  },
  {
   "cell_type": "code",
   "execution_count": 16,
   "metadata": {},
   "outputs": [
    {
     "data": {
      "text/plain": [
       "id                                  1.00\n",
       "name                                1.00\n",
       "item_condition_id                   1.00\n",
       "category_name                       1.00\n",
       "brand_name                          1.00\n",
       "shipping                            1.00\n",
       "item_description                    1.00\n",
       "general_category                    1.00\n",
       "subcategory_1                       1.00\n",
       "subcategory_2                       1.00\n",
       "item_description_char_count         1.00\n",
       "item_description_word_count         1.00\n",
       "item_description_word_density       1.00\n",
       "name_char_count                     1.00\n",
       "name_word_count                     1.00\n",
       "name_word_density                   1.00\n",
       "item_description_top_tfidf_word     1.00\n",
       "item_description_top_tfidf_value    1.00\n",
       "name_top_tfidf_word                 1.00\n",
       "name_top_tfidf_value                1.00\n",
       "dtype: object"
      ]
     },
     "execution_count": 16,
     "metadata": {},
     "output_type": "execute_result"
    }
   ],
   "source": [
    "X_scaled.var().map('{:.2f}'.format)"
   ]
  },
  {
   "cell_type": "code",
   "execution_count": 17,
   "metadata": {},
   "outputs": [],
   "source": [
    "X_train, X_test, y_train, y_test = train_test_split(X, y, test_size=0.2, random_state=42)"
   ]
  },
  {
   "cell_type": "markdown",
   "metadata": {},
   "source": [
    "## Random Forest"
   ]
  },
  {
   "cell_type": "markdown",
   "metadata": {},
   "source": [
    "rfr =  RandomForestRegressor(n_estimators=100)\n",
    "print (\"Trying to fit the Random Forest model --> \")\n",
    "if os.path.exists('rfr.pkl'):\n",
    "    print (\"Trained model already pickled -- >\")\n",
    "    with open('rfr.pkl', 'rb') as f:\n",
    "        rfr = cPickle.load(f)\n",
    "else:\n",
    "    df_x_train = x_train[col_feature]\n",
    "    rfr.fit(df_x_train,y_train)\n",
    "    print (\"Training for the model done \")\n",
    "    with open('rfr.pkl', 'wb') as f:\n",
    "        cPickle.dump(rfr, f)\n",
    "df_x_test = x_test[col_feature]\n",
    "pred = rfr.predict(df_x_test)"
   ]
  },
  {
   "cell_type": "code",
   "execution_count": 18,
   "metadata": {
    "scrolled": true
   },
   "outputs": [
    {
     "name": "stdout",
     "output_type": "stream",
     "text": [
      "CPU times: user 7.22 s, sys: 516 ms, total: 7.74 s\n",
      "Wall time: 2.06 s\n"
     ]
    },
    {
     "data": {
      "text/plain": [
       "RandomForestRegressor(bootstrap=True, criterion='mse', max_depth=None,\n",
       "                      max_features='auto', max_leaf_nodes=None,\n",
       "                      min_impurity_decrease=0.0, min_impurity_split=None,\n",
       "                      min_samples_leaf=3, min_samples_split=2,\n",
       "                      min_weight_fraction_leaf=0.0, n_estimators=1000,\n",
       "                      n_jobs=-1, oob_score=False, random_state=None, verbose=0,\n",
       "                      warm_start=True)"
      ]
     },
     "execution_count": 18,
     "metadata": {},
     "output_type": "execute_result"
    }
   ],
   "source": [
    "%%time\n",
    "rfr = RandomForestRegressor(n_jobs = -1, warm_start=True, min_samples_leaf = 3 , n_estimators = 1000)\n",
    "rfr.fit(X_train, y_train)"
   ]
  },
  {
   "cell_type": "markdown",
   "metadata": {},
   "source": [
    "## Save model"
   ]
  },
  {
   "cell_type": "code",
   "execution_count": 19,
   "metadata": {},
   "outputs": [
    {
     "data": {
      "text/plain": [
       "['rfr_model.sav']"
      ]
     },
     "execution_count": 19,
     "metadata": {},
     "output_type": "execute_result"
    }
   ],
   "source": [
    "joblib.dump(rfr, \"rfr_model.sav\")"
   ]
  },
  {
   "cell_type": "code",
   "execution_count": 20,
   "metadata": {
    "scrolled": true
   },
   "outputs": [
    {
     "data": {
      "text/plain": [
       "0.4845143438352465"
      ]
     },
     "execution_count": 20,
     "metadata": {},
     "output_type": "execute_result"
    }
   ],
   "source": [
    "rfr.score(X_train, y_train)"
   ]
  },
  {
   "cell_type": "code",
   "execution_count": 21,
   "metadata": {},
   "outputs": [
    {
     "data": {
      "text/plain": [
       "0.6187169917635665"
      ]
     },
     "execution_count": 21,
     "metadata": {},
     "output_type": "execute_result"
    }
   ],
   "source": [
    "mean_squared_log_error(y_test, rfr.predict(X_test))"
   ]
  },
  {
   "cell_type": "code",
   "execution_count": 22,
   "metadata": {},
   "outputs": [],
   "source": [
    "tree = rfr.estimators_[0]"
   ]
  },
  {
   "cell_type": "code",
   "execution_count": 23,
   "metadata": {},
   "outputs": [
    {
     "name": "stdout",
     "output_type": "stream",
     "text": [
      "CPU times: user 1.21 s, sys: 20.2 ms, total: 1.24 s\n",
      "Wall time: 1.24 s\n"
     ]
    }
   ],
   "source": [
    "%%time\n",
    "export_graphviz(tree, out_file = 'tree.dot', feature_names = X_scaled.columns, rounded = True, precision = 1)\n",
    "(graph, ) = pydot.graph_from_dot_file('tree.dot')\n",
    "graph.write_png('tree.png')"
   ]
  },
  {
   "cell_type": "code",
   "execution_count": 25,
   "metadata": {},
   "outputs": [
    {
     "data": {
      "text/plain": [
       "Text(0, 0.5, 'Feature Names')"
      ]
     },
     "execution_count": 25,
     "metadata": {},
     "output_type": "execute_result"
    },
    {
     "data": {
      "image/png": "[encoded data removed]",
      "text/plain": [
       "<Figure size 432x288 with 1 Axes>"
      ]
     },
     "metadata": {
      "needs_background": "light"
     },
     "output_type": "display_data"
    }
   ],
   "source": [
    "feature_importance = np.array(rfr.feature_importances_)\n",
    "feature_names = np.array(X_scaled.columns)\n",
    "\n",
    "data={\"feature_names\": feature_names, \"feature_importance\": feature_importance}\n",
    "fi_df = pd.DataFrame(data)\n",
    "\n",
    "fi_df.sort_values(by=['feature_importance'], ascending=False,inplace=True)\n",
    "\n",
    "#plt.figure(figsize=(10,8))\n",
    "sns.barplot(x=\"feature_importance\", y=\"feature_names\", data=fi_df.head(10))\n",
    "plt.title(\"Random Forest Top 10 Feature Importance\")\n",
    "plt.xlabel(\"Feature Importance\")\n",
    "plt.ylabel(\"Feature Names\")"
   ]
  },
  {
   "cell_type": "code",
   "execution_count": null,
   "metadata": {},
   "outputs": [],
   "source": []
  },
  {
   "cell_type": "markdown",
   "metadata": {
    "collapsed": true
   },
   "source": [
    "# Output submission file"
   ]
  },
  {
   "cell_type": "code",
   "execution_count": 21,
   "metadata": {},
   "outputs": [],
   "source": [
    "y_pred_rfr = rfr.predict(test_df_scaled)\n",
    "y_pred_rfr = pd.Series(y_pred_rfr)\n",
    "\n",
    "submission = pd.concat([test_df.id , y_pred_rfr] , axis = 1)\n",
    "submission.columns = [\"test_id\" , \"price\"]\n",
    "submission.to_csv(\"data/y_pred_rf.csv\" , index = False)"
   ]
  },
  {
   "cell_type": "code",
   "execution_count": null,
   "metadata": {},
   "outputs": [],
   "source": []
  }
 ],
 "metadata": {
  "kernelspec": {
   "display_name": "Python 3",
   "language": "python",
   "name": "python3"
  },
  "language_info": {
   "codemirror_mode": {
    "name": "ipython",
    "version": 3
   },
   "file_extension": ".py",
   "mimetype": "text/x-python",
   "name": "python",
   "nbconvert_exporter": "python",
   "pygments_lexer": "ipython3",
   "version": "3.7.4"
  }
 },
 "nbformat": 4,
 "nbformat_minor": 2
}
